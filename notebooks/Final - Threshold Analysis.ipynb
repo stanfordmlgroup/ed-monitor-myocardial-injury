{
 "cells": [
  {
   "cell_type": "markdown",
   "id": "95f3612f",
   "metadata": {},
   "source": [
    "## Threshold Analysis"
   ]
  },
  {
   "cell_type": "code",
   "execution_count": 1,
   "id": "ad6badf2",
   "metadata": {},
   "outputs": [],
   "source": [
    "import os\n",
    "import sys\n",
    "import numpy as np\n",
    "import matplotlib.pyplot as plt\n",
    "import pandas as pd\n",
    "from tqdm import tqdm\n",
    "from pathlib import Path\n",
    "from scipy import stats\n",
    "from sklearn.metrics import roc_curve, auc "
   ]
  },
  {
   "cell_type": "code",
   "execution_count": 2,
   "id": "671d30cd",
   "metadata": {},
   "outputs": [],
   "source": [
    "%load_ext autoreload\n",
    "%autoreload 2"
   ]
  },
  {
   "cell_type": "code",
   "execution_count": 3,
   "id": "92159eb0",
   "metadata": {},
   "outputs": [],
   "source": [
    "# Find the accuracy on only the subset of samples which the clinicians did their manual analysis on\n",
    "\n",
    "def get_clinician_patients(clinician_file=\"/deep/group/ed-monitor/experiments-v8/prna-128-15/fold_8/outfiles/test.csv\",\n",
    "                           matched_file=\"/deep/u/tomjin/aihc-win21-ed-monitor/scripts/v8/cohort_matched_output_v8.csv\"):\n",
    "    df_clinician = pd.read_csv(clinician_file)\n",
    "    df_matched = pd.read_csv(matched_file, delimiter=\",\")[[\"CSN\", \"CaseID\", \"Age\", \"Gender\", \"SpO2\", \"SBP\", \"DBP\", \"RR\", \"HR\", \"Temp\"]]\n",
    "    df_clinician = pd.merge(df_clinician, df_matched, how=\"left\", left_on=\"patient_id\", right_on=\"CaseID\")\n",
    "    clinician_pts = set(df_clinician[\"CSN\"].tolist())\n",
    "    return clinician_pts"
   ]
  },
  {
   "cell_type": "markdown",
   "id": "02b14b51",
   "metadata": {},
   "source": [
    "### Youden's Index (ECG Only)"
   ]
  },
  {
   "cell_type": "markdown",
   "id": "ed8b462e",
   "metadata": {},
   "source": [
    "#### 1WPP"
   ]
  },
  {
   "cell_type": "code",
   "execution_count": null,
   "id": "19ac6ad5",
   "metadata": {},
   "outputs": [],
   "source": [
    "\n",
    "df = pd.read_csv(f\"/deep/group/ed-monitor/patient_data_v9/predictions/15sec-500hz-1norm-1wpp/II/final-transformer-64/waveform-only/val.csv\")\n",
    "df_cohort = pd.read_csv(f\"/deep/group/ed-monitor/patient_data_v9/consolidated.filtered.val.txt\", sep=\"\\t\")\n",
    "df = pd.merge(df, df_cohort, on=\"patient_id\")\n",
    "print(f\"Pos = {sum(df['outcome'].tolist())}\")\n",
    "df.head(1)\n"
   ]
  },
  {
   "cell_type": "code",
   "execution_count": 5,
   "id": "431f0181",
   "metadata": {},
   "outputs": [
    {
     "name": "stdout",
     "output_type": "stream",
     "text": [
      "Best Threshold=0.089680\n"
     ]
    }
   ],
   "source": [
    "# Find average threshold on validation set\n",
    "\n",
    "df = pd.read_csv(f\"/deep/group/ed-monitor/patient_data_v9/predictions/15sec-500hz-1norm-1wpp/II/final-transformer-64/waveform-only/val.csv\")\n",
    "df_cohort = pd.read_csv(f\"/deep/group/ed-monitor/patient_data_v9/consolidated.filtered.val.txt\", sep=\"\\t\")\n",
    "df = pd.merge(df, df_cohort, on=\"patient_id\")\n",
    "df_neg = df[df[\"outcome\"] == 0]\n",
    "df_pos = df[df[\"outcome\"] == 1]\n",
    "\n",
    "thresholds = []\n",
    "fpr, tpr, ths = roc_curve(df[\"outcome\"], df[\"preds\"])\n",
    "J = tpr - fpr\n",
    "ix = np.argmax(J)\n",
    "best_thresh = ths[ix]\n",
    "thresholds.append(best_thresh.item())\n",
    "\n",
    "# thresholds = []\n",
    "# for i in tqdm(range(10000)):\n",
    "#     df_neg_s = df_neg.sample(n=150, random_state=i)\n",
    "#     df_pos_s = df_pos.sample(n=150, random_state=i)\n",
    "\n",
    "#     df = pd.concat([df_neg_s, df_pos_s])\n",
    "\n",
    "#     testy = df[\"actual\"]\n",
    "#     yhat = df[\"preds\"]\n",
    "\n",
    "#     # calculate roc curves\n",
    "#     fpr, tpr, ths = roc_curve(testy, yhat)\n",
    "\n",
    "#     J = tpr - fpr\n",
    "#     ix = np.argmax(J)\n",
    "#     best_thresh = ths[ix]\n",
    "#     thresholds.append(best_thresh.item())\n",
    "\n",
    "print('Best Threshold=%f' % (np.mean(thresholds)))\n"
   ]
  },
  {
   "cell_type": "code",
   "execution_count": 6,
   "id": "17fb7b51",
   "metadata": {},
   "outputs": [
    {
     "name": "stdout",
     "output_type": "stream",
     "text": [
      "0.0896803587675094\n"
     ]
    }
   ],
   "source": [
    "best_thresh = np.mean(thresholds)\n",
    "print(best_thresh)"
   ]
  },
  {
   "cell_type": "code",
   "execution_count": 17,
   "id": "45e5383a",
   "metadata": {},
   "outputs": [],
   "source": [
    "best_thresh = 0.096377"
   ]
  },
  {
   "cell_type": "code",
   "execution_count": 7,
   "id": "f9b0d588",
   "metadata": {},
   "outputs": [
    {
     "name": "stdout",
     "output_type": "stream",
     "text": [
      "Average accuracies = 0.6563421828908554\n"
     ]
    }
   ],
   "source": [
    "# Apply threshold to test (all patients)\n",
    "\n",
    "df = pd.read_csv(f\"/deep/group/ed-monitor/patient_data_v9/predictions/15sec-500hz-1norm-1wpp/II/final-transformer-64/waveform-only/test.csv\")\n",
    "testy = df[\"actual\"]\n",
    "yhat = df[\"preds\"]\n",
    "\n",
    "preds_t = (df[\"preds\"] >= best_thresh).to_numpy()\n",
    "accuracy = sum(preds_t == df[\"actual\"]) / len(df[\"actual\"])\n",
    "print(f\"Average accuracies = {accuracy}\")\n"
   ]
  },
  {
   "cell_type": "code",
   "execution_count": 13,
   "id": "48a4bec5",
   "metadata": {},
   "outputs": [
    {
     "data": {
      "text/plain": [
       "0.0896803587675094"
      ]
     },
     "execution_count": 13,
     "metadata": {},
     "output_type": "execute_result"
    }
   ],
   "source": [
    "best_thresh"
   ]
  },
  {
   "cell_type": "code",
   "execution_count": 14,
   "id": "1a32499b",
   "metadata": {},
   "outputs": [
    {
     "name": "stdout",
     "output_type": "stream",
     "text": [
      "(200, 3)\n",
      "Average accuracies = 0.675\n"
     ]
    }
   ],
   "source": [
    "# Apply threshold to test (filtered by clinician patients)\n",
    "\n",
    "clinician_pts = get_clinician_patients(clinician_file=\"/deep/group/ed-monitor/experiments-v8/prna-128-15/fold_8/outfiles/test.csv\")\n",
    "df = pd.read_csv(f\"/deep/group/ed-monitor/patient_data_v9/predictions/15sec-500hz-1norm-1wpp/II/final-transformer-64/waveform-only/test.csv\")\n",
    "df = df[df.apply(lambda x: x['patient_id'] in clinician_pts, axis=1)]\n",
    "print(df.shape)\n",
    "testy = df[\"actual\"]\n",
    "yhat = df[\"preds\"]\n",
    "\n",
    "# preds_t = (df[\"preds\"] >= best_thresh).to_numpy()\n",
    "preds_t = (df[\"preds\"] >= best_thresh).to_numpy()\n",
    "accuracy = sum(preds_t == df[\"actual\"]) / len(df[\"actual\"])\n",
    "print(f\"Average accuracies = {accuracy}\")\n"
   ]
  },
  {
   "cell_type": "markdown",
   "id": "2962395e",
   "metadata": {},
   "source": [
    "#### 10WPP"
   ]
  },
  {
   "cell_type": "code",
   "execution_count": null,
   "id": "cd44a332",
   "metadata": {},
   "outputs": [],
   "source": [
    "\n",
    "df = pd.read_csv(f\"/deep/group/ed-monitor/patient_data_v9/predictions/15sec-500hz-1norm-10wpp/II/final-transformer-64/waveform-only/val.csv\")\n",
    "df_cohort = pd.read_csv(f\"/deep/group/ed-monitor/patient_data_v9/consolidated.filtered.val.txt\", sep=\"\\t\")\n",
    "df = pd.merge(df, df_cohort, on=\"patient_id\")\n",
    "print(f\"Pos = {sum(df['outcome'].tolist())}\")\n",
    "df.head(1)\n"
   ]
  },
  {
   "cell_type": "code",
   "execution_count": 16,
   "id": "a514aed9",
   "metadata": {},
   "outputs": [
    {
     "name": "stderr",
     "output_type": "stream",
     "text": [
      "100%|██████████| 10000/10000 [03:01<00:00, 54.96it/s]"
     ]
    },
    {
     "name": "stdout",
     "output_type": "stream",
     "text": [
      "Best Threshold=0.096377\n"
     ]
    },
    {
     "name": "stderr",
     "output_type": "stream",
     "text": [
      "\n"
     ]
    }
   ],
   "source": [
    "# Find average threshold on validation set\n",
    "\n",
    "df = pd.read_csv(f\"/deep/group/ed-monitor/patient_data_v9/predictions/15sec-500hz-1norm-10wpp/II/final-transformer-64/waveform-only/val.csv\")\n",
    "df_cohort = pd.read_csv(f\"/deep/group/ed-monitor/patient_data_v9/consolidated.filtered.val.txt\", sep=\"\\t\")\n",
    "df = pd.merge(df, df_cohort, on=\"patient_id\")\n",
    "df_neg = df[df[\"outcome\"] == 0]\n",
    "df_pos = df[df[\"outcome\"] == 1]\n",
    "\n",
    "thresholds = []\n",
    "for i in tqdm(range(10000)):\n",
    "    df_neg_s = df_neg.sample(n=150, random_state=i)\n",
    "    df_pos_s = df_pos.sample(n=150, random_state=i)\n",
    "\n",
    "    df = pd.concat([df_neg_s, df_pos_s])\n",
    "\n",
    "    testy = df[\"actual\"]\n",
    "    yhat = df[\"preds\"]\n",
    "\n",
    "    # calculate roc curves\n",
    "    fpr, tpr, ths = roc_curve(testy, yhat)\n",
    "\n",
    "    J = tpr - fpr\n",
    "    ix = np.argmax(J)\n",
    "    best_thresh = ths[ix]\n",
    "    thresholds.append(best_thresh.item())\n",
    "\n",
    "print('Best Threshold=%f' % (np.mean(thresholds)))\n"
   ]
  },
  {
   "cell_type": "code",
   "execution_count": 30,
   "id": "9a040cd1",
   "metadata": {},
   "outputs": [
    {
     "name": "stdout",
     "output_type": "stream",
     "text": [
      "0.09560824593156574\n"
     ]
    }
   ],
   "source": [
    "best_thresh = np.mean(thresholds)\n",
    "print(best_thresh)"
   ]
  },
  {
   "cell_type": "code",
   "execution_count": 17,
   "id": "87277df0",
   "metadata": {},
   "outputs": [],
   "source": [
    "best_thresh = 0.096377"
   ]
  },
  {
   "cell_type": "code",
   "execution_count": 20,
   "id": "78b75d13",
   "metadata": {},
   "outputs": [
    {
     "name": "stdout",
     "output_type": "stream",
     "text": [
      "Average accuracies = 0.6998525073746312\n"
     ]
    }
   ],
   "source": [
    "# Apply threshold to test (all patients)\n",
    "\n",
    "df = pd.read_csv(f\"/deep/group/ed-monitor/patient_data_v9/predictions/15sec-500hz-1norm-10wpp/II/final-transformer-64/waveform-only/test.csv\")\n",
    "testy = df[\"actual\"]\n",
    "yhat = df[\"preds\"]\n",
    "\n",
    "preds_t = (df[\"preds\"] >= best_thresh).to_numpy()\n",
    "accuracy = sum(preds_t == df[\"actual\"]) / len(df[\"actual\"])\n",
    "print(f\"Average accuracies = {accuracy}\")\n"
   ]
  },
  {
   "cell_type": "code",
   "execution_count": 21,
   "id": "8a05a6d8",
   "metadata": {},
   "outputs": [
    {
     "name": "stdout",
     "output_type": "stream",
     "text": [
      "(200, 3)\n",
      "Average accuracies = 0.675\n"
     ]
    }
   ],
   "source": [
    "# Apply threshold to test (filtered by clinician patients)\n",
    "\n",
    "clinician_pts = get_clinician_patients(clinician_file=\"/deep/group/ed-monitor/experiments-v8/prna-128-15/fold_8/outfiles/test.csv\")\n",
    "df = pd.read_csv(f\"/deep/group/ed-monitor/patient_data_v9/predictions/15sec-500hz-1norm-10wpp/II/final-transformer-64/waveform-only/test.csv\")\n",
    "df = df[df.apply(lambda x: x['patient_id'] in clinician_pts, axis=1)]\n",
    "print(df.shape)\n",
    "testy = df[\"actual\"]\n",
    "yhat = df[\"preds\"]\n",
    "\n",
    "preds_t = (df[\"preds\"] >= best_thresh).to_numpy()\n",
    "accuracy = sum(preds_t == df[\"actual\"]) / len(df[\"actual\"])\n",
    "print(f\"Average accuracies = {accuracy}\")\n"
   ]
  },
  {
   "cell_type": "code",
   "execution_count": null,
   "id": "a2409d69",
   "metadata": {},
   "outputs": [],
   "source": [
    "df_cohort = pd.read_csv(f\"/deep/group/ed-monitor/patient_data_v9/consolidated.filtered.test.txt\", sep=\"\\t\")\n",
    "df = pd.merge(df, df_cohort, on=\"patient_id\")\n",
    "df.head(2)"
   ]
  },
  {
   "cell_type": "code",
   "execution_count": null,
   "id": "8690136e",
   "metadata": {},
   "outputs": [],
   "source": [
    "df_offsets = pd.read_csv(f\"/deep/group/ed-monitor/patient_data_v9/waveforms/15sec-500hz-1norm-10wpp/II/summary.csv\")\n",
    "df_offsets.head(13)"
   ]
  },
  {
   "cell_type": "code",
   "execution_count": 3,
   "id": "62ddcb97",
   "metadata": {},
   "outputs": [],
   "source": [
    "\"\"\"\n",
    "Custom post-processing of the 12-lead ECG waveforms\n",
    "\"\"\"\n",
    "\n",
    "from biosppy.signals.tools import filter_signal\n",
    "import numpy as np\n",
    "\n",
    "\n",
    "def normalize(seq, smooth=1e-8):\n",
    "    \"\"\"\n",
    "    Normalize each sequence between -1 and 1\n",
    "    \"\"\"\n",
    "    return 2 * (seq - np.min(seq)) / (np.max(seq) - np.min(seq) + smooth) - 1\n",
    "\n",
    "\n",
    "def apply_filter(signal, filter_bandwidth=[3, 45], fs=500):\n",
    "    # Calculate filter order\n",
    "    order = int(0.3 * fs)\n",
    "    # Filter signal\n",
    "    try:\n",
    "        signal, _, _ = filter_signal(signal=signal, ftype='FIR', band='bandpass',\n",
    "                                     order=order, frequency=filter_bandwidth,\n",
    "                                     sampling_rate=fs)\n",
    "    except:\n",
    "        pass\n",
    "\n",
    "    return signal\n"
   ]
  },
  {
   "cell_type": "markdown",
   "id": "93853a93",
   "metadata": {},
   "source": [
    "### Metrics Functions"
   ]
  },
  {
   "cell_type": "code",
   "execution_count": 7,
   "id": "8c2dba1c",
   "metadata": {},
   "outputs": [],
   "source": [
    "def calculate_metrics(tp, fp, fn, tn):\n",
    "    m1 = tp + fn\n",
    "    m2 = fp + tn\n",
    "    n1 = tp + fp\n",
    "    n2 = fn + tn\n",
    "    sen = tp / m1\n",
    "    sen_se = np.sqrt((sen * (1 - sen)) / m1)\n",
    "    sen_ci = (sen - 1.96 * sen_se, sen + 1.96 * sen_se)\n",
    "#     print(\"sensitivity\", sen, sen_ci)\n",
    "    \n",
    "    spe = tn / m2\n",
    "    spe_se = np.sqrt((spe * (1 - spe)) / m2)\n",
    "    spe_ci = (spe - 1.96 * spe_se, spe + 1.96 * spe_se)\n",
    "#     print(\"specificity\", spe, spe_ci)\n",
    "    \n",
    "    ppv = tp / n1\n",
    "    ppv_se = np.sqrt((ppv * (1 - ppv)) / n1)\n",
    "    ppv_ci = (ppv - 1.96 * ppv_se, ppv + 1.96 * ppv_se)\n",
    "#     print(\"ppv\", ppv, ppv_ci)\n",
    "    \n",
    "    npv = tn / n2\n",
    "    npv_se = np.sqrt((npv * (1 - npv)) / n2)\n",
    "    npv_ci = (npv - 1.96 * npv_se, npv + 1.96 * npv_se)\n",
    "#     print(\"npv\", npv, npv_ci)\n",
    "    \n",
    "    return sen, sen_se, spe, spe_se, ppv, ppv_se, npv, npv_se\n",
    "\n"
   ]
  },
  {
   "cell_type": "code",
   "execution_count": 4,
   "id": "ee820247",
   "metadata": {},
   "outputs": [
    {
     "data": {
      "text/plain": [
       "(0.6666666666666666,\n",
       " 0.08606629658238704,\n",
       " 0.91,\n",
       " 0.0063992187023104614,\n",
       " 0.1,\n",
       " 0.021213203435596427,\n",
       " 0.994535519125683,\n",
       " 0.0017232927439847778)"
      ]
     },
     "execution_count": 4,
     "metadata": {},
     "output_type": "execute_result"
    }
   ],
   "source": [
    "calculate_metrics(20, 180, 10, 1820)"
   ]
  },
  {
   "cell_type": "code",
   "execution_count": 5,
   "id": "819f7027",
   "metadata": {},
   "outputs": [
    {
     "data": {
      "text/plain": [
       "(0.6666666666666666,\n",
       " 0.08606629658238704,\n",
       " 0.91,\n",
       " 0.0063992187023104614,\n",
       " 0.1,\n",
       " 0.021213203435596427,\n",
       " 0.994535519125683,\n",
       " 0.0017232927439847778)"
      ]
     },
     "execution_count": 5,
     "metadata": {},
     "output_type": "execute_result"
    }
   ],
   "source": [
    "calculate_metrics(20, 180, 10, 1820)"
   ]
  },
  {
   "cell_type": "code",
   "execution_count": 8,
   "id": "2fcb8db6",
   "metadata": {},
   "outputs": [],
   "source": [
    "def get_confusion_matrix(preds, actual, thrs):\n",
    "    preds = np.array(preds)\n",
    "    actual = np.array(actual)\n",
    "\n",
    "    preds_t = (preds >= thrs)\n",
    "    accuracy = sum(preds_t == actual) / len(actual)\n",
    "\n",
    "    tp = sum(np.array(preds_t == 1) & np.array(actual == 1))\n",
    "    fp = sum(np.array(preds_t == 1) & np.array(actual == 0))\n",
    "    fn = sum(np.array(preds_t == 0) & np.array(actual == 1))\n",
    "    tn = sum(np.array(preds_t == 0) & np.array(actual == 0))\n",
    "\n",
    "    return tp, fp, fn, tn"
   ]
  },
  {
   "cell_type": "code",
   "execution_count": 9,
   "id": "e9a829f6",
   "metadata": {},
   "outputs": [],
   "source": [
    "def get_bootstrap_metrics(orig_preds, orig_actual, thrs, bootstrap_samples=10000, negative_class_ratio_increase=None):\n",
    "    bootstrap_sensitivities = []\n",
    "    bootstrap_specificities = []\n",
    "    bootstrap_ppvs = []\n",
    "    bootstrap_npvs = []\n",
    "    for j in tqdm(range(bootstrap_samples)):\n",
    "        bootstrap_indices = np.random.choice(range(len(orig_preds)), size=len(orig_preds), replace=True)\n",
    "        preds = [orig_preds[i] for i in bootstrap_indices]\n",
    "        actual = [orig_actual[i] for i in bootstrap_indices]\n",
    "\n",
    "        preds = np.array(preds)\n",
    "        actual = np.array(actual)\n",
    "\n",
    "#         auroc_test = calculate_output_statistics(actual, preds, plot=False, verbose=False)\n",
    "        \n",
    "        preds_t = (preds >= thrs)\n",
    "        accuracy = sum(preds_t == actual) / len(actual)\n",
    "\n",
    "        tp = sum(np.array(preds_t == 1) & np.array(actual == 1))\n",
    "        fp = sum(np.array(preds_t == 1) & np.array(actual == 0))\n",
    "        fn = sum(np.array(preds_t == 0) & np.array(actual == 1))\n",
    "        tn = sum(np.array(preds_t == 0) & np.array(actual == 0))\n",
    "        \n",
    "        if negative_class_ratio_increase is not None:\n",
    "            # Increase all \"negative\" actual class samples by the provided ratios\n",
    "            tn = tn * negative_class_ratio_increase\n",
    "            fp = fp * negative_class_ratio_increase\n",
    "\n",
    "        sen, sen_ci, spe, spe_ci, ppv, ppv_ci, npv, npv_ci = calculate_metrics(tp, fp, fn, tn)\n",
    "\n",
    "#         print(sen, spe, ppv, npv)\n",
    "        \n",
    "        bootstrap_sensitivities.append(sen)\n",
    "        bootstrap_specificities.append(spe)\n",
    "        bootstrap_ppvs.append(ppv)\n",
    "        bootstrap_npvs.append(npv)\n",
    "    return bootstrap_sensitivities, bootstrap_specificities, bootstrap_ppvs, bootstrap_npvs\n"
   ]
  },
  {
   "cell_type": "code",
   "execution_count": 10,
   "id": "74ce28b7",
   "metadata": {},
   "outputs": [],
   "source": [
    "def get_analytical_metrics(orig_preds, orig_actual, thrs, negative_class_ratio_increase=None):\n",
    "    preds = orig_preds\n",
    "    actual = orig_actual\n",
    "\n",
    "    preds = np.array(preds)\n",
    "    actual = np.array(actual)\n",
    "\n",
    "    preds_t = (preds >= np.mean(thrs))\n",
    "    accuracy = sum(preds_t == actual) / len(actual)\n",
    "\n",
    "    tp = sum(np.array(preds_t == 1) & np.array(actual == 1))\n",
    "    fp = sum(np.array(preds_t == 1) & np.array(actual == 0))\n",
    "    fn = sum(np.array(preds_t == 0) & np.array(actual == 1))\n",
    "    tn = sum(np.array(preds_t == 0) & np.array(actual == 0))\n",
    "\n",
    "    if negative_class_ratio_increase is not None:\n",
    "        # Increase all \"negative\" actual class samples by the provided ratios\n",
    "        tn = tn * negative_class_ratio_increase\n",
    "        fp = fp * negative_class_ratio_increase\n",
    "\n",
    "    sen, sen_se, spe, spe_se, ppv, ppv_se, npv, npv_se = calculate_metrics(tp, fp, fn, tn)\n",
    "\n",
    "    return sen, sen_se, spe, spe_se, ppv, ppv_se, npv, npv_se\n"
   ]
  },
  {
   "cell_type": "code",
   "execution_count": 11,
   "id": "9f926495",
   "metadata": {},
   "outputs": [],
   "source": [
    "def get_basic_metrics(orig_preds, orig_actual, thrs, negative_class_ratio_increase=None):\n",
    "    preds = orig_preds\n",
    "    actual = orig_actual\n",
    "\n",
    "    preds = np.array(preds)\n",
    "    actual = np.array(actual)\n",
    "\n",
    "    preds_t = (preds >= np.mean(thrs))\n",
    "    accuracy = sum(preds_t == actual) / len(actual)\n",
    "\n",
    "    tp = sum(np.array(preds_t == 1) & np.array(actual == 1))\n",
    "    fp = sum(np.array(preds_t == 1) & np.array(actual == 0))\n",
    "    fn = sum(np.array(preds_t == 0) & np.array(actual == 1))\n",
    "    tn = sum(np.array(preds_t == 0) & np.array(actual == 0))\n",
    "\n",
    "    if negative_class_ratio_increase is not None:\n",
    "        # Increase all \"negative\" actual class samples by the provided ratios\n",
    "        tn = tn * negative_class_ratio_increase\n",
    "        fp = fp * negative_class_ratio_increase\n",
    "\n",
    "    return tp, fp, fn, tn"
   ]
  },
  {
   "cell_type": "markdown",
   "id": "29642787",
   "metadata": {},
   "source": [
    "## Transformer (Baseline)"
   ]
  },
  {
   "cell_type": "markdown",
   "id": "8ee9309d",
   "metadata": {},
   "source": [
    "### 85% Sensitivity"
   ]
  },
  {
   "cell_type": "code",
   "execution_count": 5,
   "id": "8b20c878",
   "metadata": {},
   "outputs": [
    {
     "data": {
      "text/plain": [
       "0.3713050675330295"
      ]
     },
     "execution_count": 5,
     "metadata": {},
     "output_type": "execute_result"
    }
   ],
   "source": [
    "# Find average threshold on validation set\n",
    "\n",
    "df = pd.read_csv(f\"/deep/group/ed-monitor/patient_data_v9/predictions/baseline/val.csv\")\n",
    "testy = df[\"actual\"]\n",
    "yhat = df[\"preds\"]\n",
    "\n",
    "# calculate roc curves\n",
    "fpr, tpr, thresholds = roc_curve(testy, yhat)\n",
    "# Find threshold at sensitivity=0.85\n",
    "index = -1\n",
    "for k in range(len(tpr)):\n",
    "    if tpr[k] > 0.85 and index == -1:\n",
    "        # Choose interval from before 0.85\n",
    "        index = k - 1\n",
    "    if tpr[k] == 0.85:\n",
    "        index = k\n",
    "if index == -1:\n",
    "    assert index_alt != -1\n",
    "    index = index_alt\n",
    "\n",
    "best_thresh = thresholds[index]\n",
    "best_thresh"
   ]
  },
  {
   "cell_type": "code",
   "execution_count": 12,
   "id": "4cc4f79d",
   "metadata": {},
   "outputs": [
    {
     "name": "stderr",
     "output_type": "stream",
     "text": [
      "100%|██████████| 10000/10000 [03:02<00:00, 54.70it/s]"
     ]
    },
    {
     "name": "stdout",
     "output_type": "stream",
     "text": [
      "Sensitivity: 0.8533 [0.7947, 0.9071]\n",
      "Specificity: 0.4187 [0.3907, 0.4466]\n",
      "PPV: 0.1544 [0.1302, 0.1795]\n",
      "NPV: 0.9583 [0.9403, 0.9744]\n"
     ]
    },
    {
     "name": "stderr",
     "output_type": "stream",
     "text": [
      "\n"
     ]
    }
   ],
   "source": [
    "# Apply threshold to test\n",
    "\n",
    "def print_ci(samples, alpha=0.95):\n",
    "    p = ((1.0-alpha)/2.0) * 100\n",
    "    lower = max(0.0, np.percentile(samples, p))\n",
    "    p = (alpha+((1.0-alpha)/2.0)) * 100\n",
    "    upper = min(1.0, np.percentile(samples, p))\n",
    "    return lower, upper\n",
    "\n",
    "df = pd.read_csv(f\"/deep/group/ed-monitor/patient_data_v9/predictions/baseline/test.csv\")\n",
    "testy = df[\"actual\"]\n",
    "yhat = df[\"preds\"]\n",
    "\n",
    "preds_t = (df[\"preds\"] >= best_thresh).to_numpy()\n",
    "accuracy = sum(preds_t == df[\"actual\"]) / len(df[\"actual\"])\n",
    "\n",
    "bootstrap_sensitivities, bootstrap_specificities, bootstrap_ppvs, bootstrap_npvs = get_bootstrap_metrics(df[\"preds\"], df[\"actual\"], best_thresh)\n",
    "\n",
    "baseline_bootstrap_ppvs = bootstrap_ppvs\n",
    "baseline_bootstrap_npvs = bootstrap_npvs\n",
    "\n",
    "tp, fp, fn, tn = get_confusion_matrix(df[\"preds\"], df[\"actual\"], best_thresh)\n",
    "sen, sen_ci, spe, spe_ci, ppv, ppv_ci, npv, npv_ci = calculate_metrics(tp, fp, fn, tn)\n",
    "\n",
    "lower, upper = print_ci(bootstrap_sensitivities)\n",
    "print(f\"Sensitivity: {round(sen, 4)} [{round(lower, 4)}, {round(upper, 4)}]\")\n",
    "\n",
    "lower, upper = print_ci(bootstrap_specificities)\n",
    "print(f\"Specificity: {round(spe, 4)} [{round(lower, 4)}, {round(upper, 4)}]\")\n",
    "\n",
    "lower, upper = print_ci(bootstrap_ppvs)\n",
    "print(f\"PPV: {round(ppv, 4)} [{round(lower, 4)}, {round(upper, 4)}]\")\n",
    "\n",
    "lower, upper = print_ci(bootstrap_npvs)\n",
    "print(f\"NPV: {round(npv, 4)} [{round(lower, 4)}, {round(upper, 4)}]\")\n"
   ]
  },
  {
   "cell_type": "code",
   "execution_count": 12,
   "id": "d44104c2",
   "metadata": {},
   "outputs": [
    {
     "name": "stdout",
     "output_type": "stream",
     "text": [
      "tp=128, fp=701, fn=22, tn=505\n"
     ]
    }
   ],
   "source": [
    "df = pd.read_csv(f\"/deep/group/ed-monitor/patient_data_v9/predictions/baseline/test.csv\")\n",
    "testy = df[\"actual\"]\n",
    "yhat = df[\"preds\"]\n",
    "tp, fp, fn, tn = get_confusion_matrix(df[\"preds\"], df[\"actual\"], best_thresh)\n",
    "print(f\"tp={tp}, fp={fp}, fn={fn}, tn={tn}\")"
   ]
  },
  {
   "cell_type": "markdown",
   "id": "dbf569ec",
   "metadata": {},
   "source": [
    "### 95% Sensitivity"
   ]
  },
  {
   "cell_type": "code",
   "execution_count": 38,
   "id": "29509344",
   "metadata": {},
   "outputs": [
    {
     "data": {
      "text/plain": [
       "0.2953649118943529"
      ]
     },
     "execution_count": 38,
     "metadata": {},
     "output_type": "execute_result"
    }
   ],
   "source": [
    "# Find average threshold on validation set\n",
    "\n",
    "df = pd.read_csv(f\"/deep/group/ed-monitor/patient_data_v9/predictions/baseline/val.csv\")\n",
    "testy = df[\"actual\"]\n",
    "yhat = df[\"preds\"]\n",
    "\n",
    "# calculate roc curves\n",
    "fpr, tpr, thresholds = roc_curve(testy, yhat)\n",
    "# Find threshold at sensitivity=0.95\n",
    "index = -1\n",
    "for k in range(len(tpr)):\n",
    "    if tpr[k] > 0.95 and index == -1:\n",
    "        # Choose interval from before 0.95\n",
    "        index = k - 1\n",
    "    if tpr[k] == 0.95:\n",
    "        index = k\n",
    "if index == -1:\n",
    "    assert index_alt != -1\n",
    "    index = index_alt\n",
    "\n",
    "best_thresh = thresholds[index]\n",
    "best_thresh"
   ]
  },
  {
   "cell_type": "code",
   "execution_count": 39,
   "id": "6941085e",
   "metadata": {},
   "outputs": [
    {
     "name": "stderr",
     "output_type": "stream",
     "text": [
      "100%|██████████| 10000/10000 [03:01<00:00, 55.06it/s]"
     ]
    },
    {
     "name": "stdout",
     "output_type": "stream",
     "text": [
      "Sensitivity: 0.9133 [0.8657, 0.9552]\n",
      "Specificity: 0.2148 [0.1923, 0.2384]\n",
      "PPV: 0.1264 [0.1072, 0.1464]\n",
      "NPV: 0.9522 [0.9254, 0.9761]\n"
     ]
    },
    {
     "name": "stderr",
     "output_type": "stream",
     "text": [
      "\n"
     ]
    }
   ],
   "source": [
    "# Apply threshold to test\n",
    "\n",
    "def print_ci(samples, alpha=0.95):\n",
    "    p = ((1.0-alpha)/2.0) * 100\n",
    "    lower = max(0.0, np.percentile(samples, p))\n",
    "    p = (alpha+((1.0-alpha)/2.0)) * 100\n",
    "    upper = min(1.0, np.percentile(samples, p))\n",
    "    return lower, upper\n",
    "\n",
    "df = pd.read_csv(f\"/deep/group/ed-monitor/patient_data_v9/predictions/baseline/test.csv\")\n",
    "testy = df[\"actual\"]\n",
    "yhat = df[\"preds\"]\n",
    "\n",
    "preds_t = (df[\"preds\"] >= best_thresh).to_numpy()\n",
    "accuracy = sum(preds_t == df[\"actual\"]) / len(df[\"actual\"])\n",
    "\n",
    "bootstrap_sensitivities, bootstrap_specificities, bootstrap_ppvs, bootstrap_npvs = get_bootstrap_metrics(df[\"preds\"], df[\"actual\"], best_thresh)\n",
    "baseline_95_bootstrap_ppvs = bootstrap_ppvs\n",
    "baseline_95_bootstrap_npvs = bootstrap_npvs\n",
    "\n",
    "tp, fp, fn, tn = get_confusion_matrix(df[\"preds\"], df[\"actual\"], best_thresh)\n",
    "sen, sen_ci, spe, spe_ci, ppv, ppv_ci, npv, npv_ci = calculate_metrics(tp, fp, fn, tn)\n",
    "\n",
    "lower, upper = print_ci(bootstrap_sensitivities)\n",
    "print(f\"Sensitivity: {round(sen, 4)} [{round(lower, 4)}, {round(upper, 4)}]\")\n",
    "\n",
    "lower, upper = print_ci(bootstrap_specificities)\n",
    "print(f\"Specificity: {round(spe, 4)} [{round(lower, 4)}, {round(upper, 4)}]\")\n",
    "\n",
    "lower, upper = print_ci(bootstrap_ppvs)\n",
    "print(f\"PPV: {round(ppv, 4)} [{round(lower, 4)}, {round(upper, 4)}]\")\n",
    "\n",
    "lower, upper = print_ci(bootstrap_npvs)\n",
    "print(f\"NPV: {round(npv, 4)} [{round(lower, 4)}, {round(upper, 4)}]\")\n"
   ]
  },
  {
   "cell_type": "code",
   "execution_count": 15,
   "id": "7d6d82c8",
   "metadata": {},
   "outputs": [
    {
     "name": "stdout",
     "output_type": "stream",
     "text": [
      "tp=137, fp=947, fn=13, tn=259\n"
     ]
    }
   ],
   "source": [
    "df = pd.read_csv(f\"/deep/group/ed-monitor/patient_data_v9/predictions/baseline/test.csv\")\n",
    "testy = df[\"actual\"]\n",
    "yhat = df[\"preds\"]\n",
    "tp, fp, fn, tn = get_confusion_matrix(df[\"preds\"], df[\"actual\"], best_thresh)\n",
    "print(f\"tp={tp}, fp={fp}, fn={fn}, tn={tn}\")"
   ]
  },
  {
   "cell_type": "markdown",
   "id": "84ce0424",
   "metadata": {},
   "source": [
    "### 99% Sensitivity"
   ]
  },
  {
   "cell_type": "code",
   "execution_count": 16,
   "id": "2f4a56dd",
   "metadata": {},
   "outputs": [
    {
     "data": {
      "text/plain": [
       "0.2495518257156058"
      ]
     },
     "execution_count": 16,
     "metadata": {},
     "output_type": "execute_result"
    }
   ],
   "source": [
    "# Find average threshold on validation set\n",
    "\n",
    "df = pd.read_csv(f\"/deep/group/ed-monitor/patient_data_v9/predictions/baseline/val.csv\")\n",
    "testy = df[\"actual\"]\n",
    "yhat = df[\"preds\"]\n",
    "\n",
    "# calculate roc curves\n",
    "fpr, tpr, thresholds = roc_curve(testy, yhat)\n",
    "# Find threshold at sensitivity=0.99\n",
    "index = -1\n",
    "for k in range(len(tpr)):\n",
    "    if tpr[k] > 0.99 and index == -1:\n",
    "        # Choose interval from before 0.99\n",
    "        index = k - 1\n",
    "    if tpr[k] == 0.99:\n",
    "        index = k\n",
    "if index == -1:\n",
    "    assert index_alt != -1\n",
    "    index = index_alt\n",
    "\n",
    "best_thresh = thresholds[index]\n",
    "best_thresh"
   ]
  },
  {
   "cell_type": "code",
   "execution_count": 17,
   "id": "ae14e90c",
   "metadata": {},
   "outputs": [
    {
     "name": "stderr",
     "output_type": "stream",
     "text": [
      "100%|██████████| 10000/10000 [02:58<00:00, 56.01it/s]"
     ]
    },
    {
     "name": "stdout",
     "output_type": "stream",
     "text": [
      "Sensitivity: 0.98 [0.9551, 1.0]\n",
      "Specificity: 0.1186 [0.1003, 0.137]\n",
      "PPV: 0.1215 [0.1031, 0.1406]\n",
      "NPV: 0.9795 [0.9539, 1.0]\n"
     ]
    },
    {
     "name": "stderr",
     "output_type": "stream",
     "text": [
      "\n"
     ]
    }
   ],
   "source": [
    "# Apply threshold to test\n",
    "\n",
    "def print_ci(samples, alpha=0.95):\n",
    "    p = ((1.0-alpha)/2.0) * 100\n",
    "    lower = max(0.0, np.percentile(samples, p))\n",
    "    p = (alpha+((1.0-alpha)/2.0)) * 100\n",
    "    upper = min(1.0, np.percentile(samples, p))\n",
    "    return lower, upper\n",
    "\n",
    "df = pd.read_csv(f\"/deep/group/ed-monitor/patient_data_v9/predictions/baseline/test.csv\")\n",
    "testy = df[\"actual\"]\n",
    "yhat = df[\"preds\"]\n",
    "\n",
    "preds_t = (df[\"preds\"] >= best_thresh).to_numpy()\n",
    "accuracy = sum(preds_t == df[\"actual\"]) / len(df[\"actual\"])\n",
    "\n",
    "bootstrap_sensitivities, bootstrap_specificities, bootstrap_ppvs, bootstrap_npvs = get_bootstrap_metrics(df[\"preds\"], df[\"actual\"], best_thresh)\n",
    "\n",
    "tp, fp, fn, tn = get_confusion_matrix(df[\"preds\"], df[\"actual\"], best_thresh)\n",
    "sen, sen_ci, spe, spe_ci, ppv, ppv_ci, npv, npv_ci = calculate_metrics(tp, fp, fn, tn)\n",
    "\n",
    "lower, upper = print_ci(bootstrap_sensitivities)\n",
    "print(f\"Sensitivity: {round(sen, 4)} [{round(lower, 4)}, {round(upper, 4)}]\")\n",
    "\n",
    "lower, upper = print_ci(bootstrap_specificities)\n",
    "print(f\"Specificity: {round(spe, 4)} [{round(lower, 4)}, {round(upper, 4)}]\")\n",
    "\n",
    "lower, upper = print_ci(bootstrap_ppvs)\n",
    "print(f\"PPV: {round(ppv, 4)} [{round(lower, 4)}, {round(upper, 4)}]\")\n",
    "\n",
    "lower, upper = print_ci(bootstrap_npvs)\n",
    "print(f\"NPV: {round(npv, 4)} [{round(lower, 4)}, {round(upper, 4)}]\")\n"
   ]
  },
  {
   "cell_type": "code",
   "execution_count": 18,
   "id": "6da2fb33",
   "metadata": {},
   "outputs": [
    {
     "name": "stdout",
     "output_type": "stream",
     "text": [
      "tp=147, fp=1063, fn=3, tn=143\n"
     ]
    }
   ],
   "source": [
    "df = pd.read_csv(f\"/deep/group/ed-monitor/patient_data_v9/predictions/baseline/test.csv\")\n",
    "testy = df[\"actual\"]\n",
    "yhat = df[\"preds\"]\n",
    "tp, fp, fn, tn = get_confusion_matrix(df[\"preds\"], df[\"actual\"], best_thresh)\n",
    "print(f\"tp={tp}, fp={fp}, fn={fn}, tn={tn}\")"
   ]
  },
  {
   "cell_type": "code",
   "execution_count": null,
   "id": "d67e86db",
   "metadata": {},
   "outputs": [],
   "source": []
  },
  {
   "cell_type": "markdown",
   "id": "7213d446",
   "metadata": {},
   "source": [
    "## Waveform Only"
   ]
  },
  {
   "cell_type": "markdown",
   "id": "3bbc058d",
   "metadata": {},
   "source": [
    "### 85% Sensitivity"
   ]
  },
  {
   "cell_type": "code",
   "execution_count": 10,
   "id": "0f50624a",
   "metadata": {},
   "outputs": [
    {
     "data": {
      "text/plain": [
       "0.0449579134583473"
      ]
     },
     "execution_count": 10,
     "metadata": {},
     "output_type": "execute_result"
    }
   ],
   "source": [
    "# Find average threshold on validation set\n",
    "\n",
    "df = pd.read_csv(f\"/deep/group/ed-monitor/patient_data_v9/predictions/15sec-500hz-1norm-10wpp/II/final-transformer-64/waveform-only/val.csv\")\n",
    "testy = df[\"actual\"]\n",
    "yhat = df[\"preds\"]\n",
    "\n",
    "# calculate roc curves\n",
    "fpr, tpr, thresholds = roc_curve(testy, yhat)\n",
    "# Find threshold at sensitivity=0.85\n",
    "index = -1\n",
    "for k in range(len(tpr)):\n",
    "    if tpr[k] > 0.85 and index == -1:\n",
    "        # Choose interval from before 0.85\n",
    "        index = k - 1\n",
    "    if tpr[k] == 0.85:\n",
    "        index = k\n",
    "if index == -1:\n",
    "    assert index_alt != -1\n",
    "    index = index_alt\n",
    "\n",
    "best_thresh = thresholds[index]\n",
    "best_thresh"
   ]
  },
  {
   "cell_type": "code",
   "execution_count": 12,
   "id": "bbc7aa6d",
   "metadata": {},
   "outputs": [
    {
     "name": "stderr",
     "output_type": "stream",
     "text": [
      "100%|██████████| 10000/10000 [08:40<00:00, 19.23it/s]"
     ]
    },
    {
     "name": "stdout",
     "output_type": "stream",
     "text": [
      "Sensitivity: 0.8667 [0.811, 0.9184]\n",
      "Specificity: 0.4204 [0.3924, 0.4481]\n",
      "PPV: 0.1568 [0.1326, 0.1819]\n",
      "NPV: 0.962 [0.9451, 0.9771]\n"
     ]
    },
    {
     "name": "stderr",
     "output_type": "stream",
     "text": [
      "\n"
     ]
    }
   ],
   "source": [
    "# Apply threshold to test\n",
    "\n",
    "def print_ci(samples, alpha=0.95):\n",
    "    p = ((1.0-alpha)/2.0) * 100\n",
    "    lower = max(0.0, np.percentile(samples, p))\n",
    "    p = (alpha+((1.0-alpha)/2.0)) * 100\n",
    "    upper = min(1.0, np.percentile(samples, p))\n",
    "    return lower, upper\n",
    "\n",
    "df = pd.read_csv(f\"/deep/group/ed-monitor/patient_data_v9/predictions/15sec-500hz-1norm-10wpp/II/final-transformer-64/waveform-only/test.csv\")\n",
    "testy = df[\"actual\"]\n",
    "yhat = df[\"preds\"]\n",
    "\n",
    "preds_t = (df[\"preds\"] >= best_thresh).to_numpy()\n",
    "accuracy = sum(preds_t == df[\"actual\"]) / len(df[\"actual\"])\n",
    "\n",
    "bootstrap_sensitivities, bootstrap_specificities, bootstrap_ppvs, bootstrap_npvs = get_bootstrap_metrics(df[\"preds\"], df[\"actual\"], best_thresh)\n",
    "\n",
    "tp, fp, fn, tn = get_confusion_matrix(df[\"preds\"], df[\"actual\"], best_thresh)\n",
    "sen, sen_ci, spe, spe_ci, ppv, ppv_ci, npv, npv_ci = calculate_metrics(tp, fp, fn, tn)\n",
    "\n",
    "lower, upper = print_ci(bootstrap_sensitivities)\n",
    "print(f\"Sensitivity: {round(sen, 4)} [{round(lower, 4)}, {round(upper, 4)}]\")\n",
    "\n",
    "lower, upper = print_ci(bootstrap_specificities)\n",
    "print(f\"Specificity: {round(spe, 4)} [{round(lower, 4)}, {round(upper, 4)}]\")\n",
    "\n",
    "lower, upper = print_ci(bootstrap_ppvs)\n",
    "print(f\"PPV: {round(ppv, 4)} [{round(lower, 4)}, {round(upper, 4)}]\")\n",
    "\n",
    "lower, upper = print_ci(bootstrap_npvs)\n",
    "print(f\"NPV: {round(npv, 4)} [{round(lower, 4)}, {round(upper, 4)}]\")\n"
   ]
  },
  {
   "cell_type": "code",
   "execution_count": 13,
   "id": "6a368645",
   "metadata": {},
   "outputs": [
    {
     "name": "stdout",
     "output_type": "stream",
     "text": [
      "tp=130, fp=699, fn=20, tn=507\n"
     ]
    }
   ],
   "source": [
    "df = pd.read_csv(f\"/deep/group/ed-monitor/patient_data_v9/predictions/15sec-500hz-1norm-10wpp/II/final-transformer-64/waveform-only/test.csv\")\n",
    "testy = df[\"actual\"]\n",
    "yhat = df[\"preds\"]\n",
    "tp, fp, fn, tn = get_confusion_matrix(df[\"preds\"], df[\"actual\"], best_thresh)\n",
    "print(f\"tp={tp}, fp={fp}, fn={fn}, tn={tn}\")"
   ]
  },
  {
   "cell_type": "markdown",
   "id": "87208dde",
   "metadata": {},
   "source": [
    "### 95% Sensitivity"
   ]
  },
  {
   "cell_type": "code",
   "execution_count": 14,
   "id": "93f8463a",
   "metadata": {},
   "outputs": [
    {
     "data": {
      "text/plain": [
       "0.0300113204866647"
      ]
     },
     "execution_count": 14,
     "metadata": {},
     "output_type": "execute_result"
    }
   ],
   "source": [
    "# Find average threshold on validation set\n",
    "\n",
    "df = pd.read_csv(f\"/deep/group/ed-monitor/patient_data_v9/predictions/15sec-500hz-1norm-10wpp/II/final-transformer-64/waveform-only/val.csv\")\n",
    "testy = df[\"actual\"]\n",
    "yhat = df[\"preds\"]\n",
    "\n",
    "# calculate roc curves\n",
    "fpr, tpr, thresholds = roc_curve(testy, yhat)\n",
    "# Find threshold at sensitivity=0.95\n",
    "index = -1\n",
    "for k in range(len(tpr)):\n",
    "    if tpr[k] > 0.95 and index == -1:\n",
    "        # Choose interval from before 0.95\n",
    "        index = k - 1\n",
    "    if tpr[k] == 0.95:\n",
    "        index = k\n",
    "if index == -1:\n",
    "    assert index_alt != -1\n",
    "    index = index_alt\n",
    "\n",
    "best_thresh = thresholds[index]\n",
    "best_thresh"
   ]
  },
  {
   "cell_type": "code",
   "execution_count": 15,
   "id": "1ff52aeb",
   "metadata": {},
   "outputs": [
    {
     "name": "stderr",
     "output_type": "stream",
     "text": [
      "100%|██████████| 10000/10000 [08:43<00:00, 19.09it/s]"
     ]
    },
    {
     "name": "stdout",
     "output_type": "stream",
     "text": [
      "Sensitivity: 0.94 [0.8993, 0.9748]\n",
      "Specificity: 0.2413 [0.217, 0.2656]\n",
      "PPV: 0.1335 [0.1125, 0.1546]\n",
      "NPV: 0.97 [0.9492, 0.9873]\n"
     ]
    },
    {
     "name": "stderr",
     "output_type": "stream",
     "text": [
      "\n"
     ]
    }
   ],
   "source": [
    "# Apply threshold to test\n",
    "\n",
    "def print_ci(samples, alpha=0.95):\n",
    "    p = ((1.0-alpha)/2.0) * 100\n",
    "    lower = max(0.0, np.percentile(samples, p))\n",
    "    p = (alpha+((1.0-alpha)/2.0)) * 100\n",
    "    upper = min(1.0, np.percentile(samples, p))\n",
    "    return lower, upper\n",
    "\n",
    "df = pd.read_csv(f\"/deep/group/ed-monitor/patient_data_v9/predictions/15sec-500hz-1norm-10wpp/II/final-transformer-64/waveform-only/test.csv\")\n",
    "testy = df[\"actual\"]\n",
    "yhat = df[\"preds\"]\n",
    "\n",
    "preds_t = (df[\"preds\"] >= best_thresh).to_numpy()\n",
    "accuracy = sum(preds_t == df[\"actual\"]) / len(df[\"actual\"])\n",
    "\n",
    "bootstrap_sensitivities, bootstrap_specificities, bootstrap_ppvs, bootstrap_npvs = get_bootstrap_metrics(df[\"preds\"], df[\"actual\"], best_thresh)\n",
    "\n",
    "tp, fp, fn, tn = get_confusion_matrix(df[\"preds\"], df[\"actual\"], best_thresh)\n",
    "sen, sen_ci, spe, spe_ci, ppv, ppv_ci, npv, npv_ci = calculate_metrics(tp, fp, fn, tn)\n",
    "\n",
    "lower, upper = print_ci(bootstrap_sensitivities)\n",
    "print(f\"Sensitivity: {round(sen, 4)} [{round(lower, 4)}, {round(upper, 4)}]\")\n",
    "\n",
    "lower, upper = print_ci(bootstrap_specificities)\n",
    "print(f\"Specificity: {round(spe, 4)} [{round(lower, 4)}, {round(upper, 4)}]\")\n",
    "\n",
    "lower, upper = print_ci(bootstrap_ppvs)\n",
    "print(f\"PPV: {round(ppv, 4)} [{round(lower, 4)}, {round(upper, 4)}]\")\n",
    "\n",
    "lower, upper = print_ci(bootstrap_npvs)\n",
    "print(f\"NPV: {round(npv, 4)} [{round(lower, 4)}, {round(upper, 4)}]\")\n"
   ]
  },
  {
   "cell_type": "code",
   "execution_count": 16,
   "id": "5ddc14a8",
   "metadata": {},
   "outputs": [
    {
     "name": "stdout",
     "output_type": "stream",
     "text": [
      "tp=141, fp=915, fn=9, tn=291\n"
     ]
    }
   ],
   "source": [
    "df = pd.read_csv(f\"/deep/group/ed-monitor/patient_data_v9/predictions/15sec-500hz-1norm-10wpp/II/final-transformer-64/waveform-only/test.csv\")\n",
    "testy = df[\"actual\"]\n",
    "yhat = df[\"preds\"]\n",
    "tp, fp, fn, tn = get_confusion_matrix(df[\"preds\"], df[\"actual\"], best_thresh)\n",
    "print(f\"tp={tp}, fp={fp}, fn={fn}, tn={tn}\")"
   ]
  },
  {
   "cell_type": "markdown",
   "id": "40782e5a",
   "metadata": {},
   "source": [
    "### 99% Sensitivity"
   ]
  },
  {
   "cell_type": "code",
   "execution_count": 17,
   "id": "db80616b",
   "metadata": {},
   "outputs": [
    {
     "data": {
      "text/plain": [
       "0.0217214114964008"
      ]
     },
     "execution_count": 17,
     "metadata": {},
     "output_type": "execute_result"
    }
   ],
   "source": [
    "# Find average threshold on validation set\n",
    "\n",
    "df = pd.read_csv(f\"/deep/group/ed-monitor/patient_data_v9/predictions/15sec-500hz-1norm-10wpp/II/final-transformer-64/waveform-only/val.csv\")\n",
    "testy = df[\"actual\"]\n",
    "yhat = df[\"preds\"]\n",
    "\n",
    "# calculate roc curves\n",
    "fpr, tpr, thresholds = roc_curve(testy, yhat)\n",
    "# Find threshold at sensitivity=0.99\n",
    "index = -1\n",
    "for k in range(len(tpr)):\n",
    "    if tpr[k] > 0.99 and index == -1:\n",
    "        # Choose interval from before 0.99\n",
    "        index = k - 1\n",
    "    if tpr[k] == 0.99:\n",
    "        index = k\n",
    "if index == -1:\n",
    "    assert index_alt != -1\n",
    "    index = index_alt\n",
    "\n",
    "best_thresh = thresholds[index]\n",
    "best_thresh"
   ]
  },
  {
   "cell_type": "code",
   "execution_count": 18,
   "id": "bdac8596",
   "metadata": {},
   "outputs": [
    {
     "name": "stderr",
     "output_type": "stream",
     "text": [
      "100%|██████████| 10000/10000 [08:43<00:00, 19.09it/s]"
     ]
    },
    {
     "name": "stdout",
     "output_type": "stream",
     "text": [
      "Sensitivity: 0.9933 [0.9781, 1.0]\n",
      "Specificity: 0.0879 [0.0722, 0.1042]\n",
      "PPV: 0.1193 [0.1015, 0.1373]\n",
      "NPV: 0.9907 [0.9688, 1.0]\n"
     ]
    },
    {
     "name": "stderr",
     "output_type": "stream",
     "text": [
      "\n"
     ]
    }
   ],
   "source": [
    "# Apply threshold to test\n",
    "\n",
    "def print_ci(samples, alpha=0.95):\n",
    "    p = ((1.0-alpha)/2.0) * 100\n",
    "    lower = max(0.0, np.percentile(samples, p))\n",
    "    p = (alpha+((1.0-alpha)/2.0)) * 100\n",
    "    upper = min(1.0, np.percentile(samples, p))\n",
    "    return lower, upper\n",
    "\n",
    "df = pd.read_csv(f\"/deep/group/ed-monitor/patient_data_v9/predictions/15sec-500hz-1norm-10wpp/II/final-transformer-64/waveform-only/test.csv\")\n",
    "testy = df[\"actual\"]\n",
    "yhat = df[\"preds\"]\n",
    "\n",
    "preds_t = (df[\"preds\"] >= best_thresh).to_numpy()\n",
    "accuracy = sum(preds_t == df[\"actual\"]) / len(df[\"actual\"])\n",
    "\n",
    "bootstrap_sensitivities, bootstrap_specificities, bootstrap_ppvs, bootstrap_npvs = get_bootstrap_metrics(df[\"preds\"], df[\"actual\"], best_thresh)\n",
    "\n",
    "tp, fp, fn, tn = get_confusion_matrix(df[\"preds\"], df[\"actual\"], best_thresh)\n",
    "sen, sen_ci, spe, spe_ci, ppv, ppv_ci, npv, npv_ci = calculate_metrics(tp, fp, fn, tn)\n",
    "\n",
    "lower, upper = print_ci(bootstrap_sensitivities)\n",
    "print(f\"Sensitivity: {round(sen, 4)} [{round(lower, 4)}, {round(upper, 4)}]\")\n",
    "\n",
    "lower, upper = print_ci(bootstrap_specificities)\n",
    "print(f\"Specificity: {round(spe, 4)} [{round(lower, 4)}, {round(upper, 4)}]\")\n",
    "\n",
    "lower, upper = print_ci(bootstrap_ppvs)\n",
    "print(f\"PPV: {round(ppv, 4)} [{round(lower, 4)}, {round(upper, 4)}]\")\n",
    "\n",
    "lower, upper = print_ci(bootstrap_npvs)\n",
    "print(f\"NPV: {round(npv, 4)} [{round(lower, 4)}, {round(upper, 4)}]\")\n"
   ]
  },
  {
   "cell_type": "code",
   "execution_count": 19,
   "id": "5c43ee96",
   "metadata": {},
   "outputs": [
    {
     "name": "stdout",
     "output_type": "stream",
     "text": [
      "tp=149, fp=1100, fn=1, tn=106\n"
     ]
    }
   ],
   "source": [
    "df = pd.read_csv(f\"/deep/group/ed-monitor/patient_data_v9/predictions/15sec-500hz-1norm-10wpp/II/final-transformer-64/waveform-only/test.csv\")\n",
    "testy = df[\"actual\"]\n",
    "yhat = df[\"preds\"]\n",
    "tp, fp, fn, tn = get_confusion_matrix(df[\"preds\"], df[\"actual\"], best_thresh)\n",
    "print(f\"tp={tp}, fp={fp}, fn={fn}, tn={tn}\")"
   ]
  },
  {
   "cell_type": "markdown",
   "id": "68ad2dd7",
   "metadata": {},
   "source": [
    "## Waveform + Age + Sex + Vital Signs"
   ]
  },
  {
   "cell_type": "markdown",
   "id": "eae00b8c",
   "metadata": {},
   "source": [
    "### 85% Sensitivity"
   ]
  },
  {
   "cell_type": "code",
   "execution_count": 3,
   "id": "61d49064",
   "metadata": {},
   "outputs": [
    {
     "data": {
      "text/plain": [
       "0.0434097461402416"
      ]
     },
     "execution_count": 3,
     "metadata": {},
     "output_type": "execute_result"
    }
   ],
   "source": [
    "# Find average threshold on validation set\n",
    "\n",
    "df = pd.read_csv(f\"/deep/group/ed-monitor/patient_data_v9/predictions/15sec-500hz-1norm-10wpp/II/final-transformer-64/waveform-demo-vital/val.csv\")\n",
    "testy = df[\"actual\"]\n",
    "yhat = df[\"preds\"]\n",
    "\n",
    "# calculate roc curves\n",
    "fpr, tpr, thresholds = roc_curve(testy, yhat)\n",
    "# Find threshold at sensitivity=0.85\n",
    "index = -1\n",
    "for k in range(len(tpr)):\n",
    "    if tpr[k] > 0.85 and index == -1:\n",
    "        # Choose interval from before 0.85\n",
    "        index = k - 1\n",
    "    if tpr[k] == 0.85:\n",
    "        index = k\n",
    "if index == -1:\n",
    "    assert index_alt != -1\n",
    "    index = index_alt\n",
    "\n",
    "best_thresh = thresholds[index]\n",
    "best_thresh"
   ]
  },
  {
   "cell_type": "markdown",
   "id": "aff1e9c8",
   "metadata": {},
   "source": [
    "## Waveform + Age + Sex + Vital Signs + Risk"
   ]
  },
  {
   "cell_type": "markdown",
   "id": "ad0a5d0d",
   "metadata": {},
   "source": [
    "### 85% Sensitivity"
   ]
  },
  {
   "cell_type": "code",
   "execution_count": 13,
   "id": "be0596bc",
   "metadata": {},
   "outputs": [
    {
     "data": {
      "text/plain": [
       "0.0445840992033481"
      ]
     },
     "execution_count": 13,
     "metadata": {},
     "output_type": "execute_result"
    }
   ],
   "source": [
    "# Find average threshold on validation set\n",
    "\n",
    "df = pd.read_csv(f\"/deep/group/ed-monitor/patient_data_v9/predictions/15sec-500hz-1norm-10wpp/II/final-transformer-64/waveform-demo-vital-risk/val.csv\")\n",
    "testy = df[\"actual\"]\n",
    "yhat = df[\"preds\"]\n",
    "\n",
    "# calculate roc curves\n",
    "fpr, tpr, thresholds = roc_curve(testy, yhat)\n",
    "# Find threshold at sensitivity=0.85\n",
    "index = -1\n",
    "for k in range(len(tpr)):\n",
    "    if tpr[k] > 0.85 and index == -1:\n",
    "        # Choose interval from before 0.85\n",
    "        index = k - 1\n",
    "    if tpr[k] == 0.85:\n",
    "        index = k\n",
    "if index == -1:\n",
    "    assert index_alt != -1\n",
    "    index = index_alt\n",
    "\n",
    "best_thresh = thresholds[index]\n",
    "best_thresh"
   ]
  },
  {
   "cell_type": "code",
   "execution_count": 14,
   "id": "964dd759",
   "metadata": {},
   "outputs": [
    {
     "name": "stderr",
     "output_type": "stream",
     "text": [
      "100%|██████████| 10000/10000 [02:59<00:00, 55.86it/s]"
     ]
    },
    {
     "name": "stdout",
     "output_type": "stream",
     "text": [
      "Sensitivity: 0.8667 [0.8105, 0.9184]\n",
      "Specificity: 0.4469 [0.4189, 0.4752]\n",
      "PPV: 0.1631 [0.1378, 0.1891]\n",
      "NPV: 0.9642 [0.9479, 0.9785]\n"
     ]
    },
    {
     "name": "stderr",
     "output_type": "stream",
     "text": [
      "\n"
     ]
    }
   ],
   "source": [
    "# Apply threshold to test\n",
    "\n",
    "def print_ci(samples, alpha=0.95):\n",
    "    p = ((1.0-alpha)/2.0) * 100\n",
    "    lower = max(0.0, np.percentile(samples, p))\n",
    "    p = (alpha+((1.0-alpha)/2.0)) * 100\n",
    "    upper = min(1.0, np.percentile(samples, p))\n",
    "    return lower, upper\n",
    "\n",
    "df = pd.read_csv(f\"/deep/group/ed-monitor/patient_data_v9/predictions/15sec-500hz-1norm-10wpp/II/final-transformer-64/waveform-demo-vital-risk/test.csv\")\n",
    "testy = df[\"actual\"]\n",
    "yhat = df[\"preds\"]\n",
    "\n",
    "preds_t = (df[\"preds\"] >= best_thresh).to_numpy()\n",
    "accuracy = sum(preds_t == df[\"actual\"]) / len(df[\"actual\"])\n",
    "\n",
    "bootstrap_sensitivities, bootstrap_specificities, bootstrap_ppvs, bootstrap_npvs = get_bootstrap_metrics(df[\"preds\"], df[\"actual\"], best_thresh)\n",
    "\n",
    "best_bootstrap_ppvs = bootstrap_ppvs\n",
    "best_bootstrap_npvs = bootstrap_npvs\n",
    "\n",
    "tp, fp, fn, tn = get_confusion_matrix(df[\"preds\"], df[\"actual\"], best_thresh)\n",
    "sen, sen_ci, spe, spe_ci, ppv, ppv_ci, npv, npv_ci = calculate_metrics(tp, fp, fn, tn)\n",
    "\n",
    "lower, upper = print_ci(bootstrap_sensitivities)\n",
    "print(f\"Sensitivity: {round(sen, 4)} [{round(lower, 4)}, {round(upper, 4)}]\")\n",
    "\n",
    "lower, upper = print_ci(bootstrap_specificities)\n",
    "print(f\"Specificity: {round(spe, 4)} [{round(lower, 4)}, {round(upper, 4)}]\")\n",
    "\n",
    "lower, upper = print_ci(bootstrap_ppvs)\n",
    "print(f\"PPV: {round(ppv, 4)} [{round(lower, 4)}, {round(upper, 4)}]\")\n",
    "\n",
    "lower, upper = print_ci(bootstrap_npvs)\n",
    "print(f\"NPV: {round(npv, 4)} [{round(lower, 4)}, {round(upper, 4)}]\")\n"
   ]
  },
  {
   "cell_type": "code",
   "execution_count": 11,
   "id": "d5046549",
   "metadata": {},
   "outputs": [
    {
     "name": "stdout",
     "output_type": "stream",
     "text": [
      "tp=130, fp=667, fn=20, tn=539\n"
     ]
    }
   ],
   "source": [
    "df = pd.read_csv(f\"/deep/group/ed-monitor/patient_data_v9/predictions/15sec-500hz-1norm-10wpp/II/final-transformer-64/waveform-demo-vital-risk/test.csv\")\n",
    "testy = df[\"actual\"]\n",
    "yhat = df[\"preds\"]\n",
    "tp, fp, fn, tn = get_confusion_matrix(df[\"preds\"], df[\"actual\"], best_thresh)\n",
    "print(f\"tp={tp}, fp={fp}, fn={fn}, tn={tn}\")"
   ]
  },
  {
   "cell_type": "markdown",
   "id": "ec82714e",
   "metadata": {},
   "source": [
    "### 95% Sensitivity"
   ]
  },
  {
   "cell_type": "code",
   "execution_count": 32,
   "id": "236f2fa6",
   "metadata": {},
   "outputs": [
    {
     "data": {
      "text/plain": [
       "0.0305267199873924"
      ]
     },
     "execution_count": 32,
     "metadata": {},
     "output_type": "execute_result"
    }
   ],
   "source": [
    "# Find average threshold on validation set\n",
    "\n",
    "df = pd.read_csv(f\"/deep/group/ed-monitor/patient_data_v9/predictions/15sec-500hz-1norm-10wpp/II/final-transformer-64/waveform-demo-vital-risk/val.csv\")\n",
    "testy = df[\"actual\"]\n",
    "yhat = df[\"preds\"]\n",
    "\n",
    "# calculate roc curves\n",
    "fpr, tpr, thresholds = roc_curve(testy, yhat)\n",
    "# Find threshold at sensitivity=0.95\n",
    "index = -1\n",
    "for k in range(len(tpr)):\n",
    "    if tpr[k] > 0.95 and index == -1:\n",
    "        # Choose interval from before 0.95\n",
    "        index = k - 1\n",
    "    if tpr[k] == 0.95:\n",
    "        index = k\n",
    "if index == -1:\n",
    "    assert index_alt != -1\n",
    "    index = index_alt\n",
    "\n",
    "best_thresh = thresholds[index]\n",
    "best_thresh"
   ]
  },
  {
   "cell_type": "code",
   "execution_count": 33,
   "id": "ca5f994a",
   "metadata": {},
   "outputs": [
    {
     "name": "stderr",
     "output_type": "stream",
     "text": [
      "100%|██████████| 10000/10000 [03:02<00:00, 54.86it/s]"
     ]
    },
    {
     "name": "stdout",
     "output_type": "stream",
     "text": [
      "Sensitivity: 0.9467 [0.9085, 0.9793]\n",
      "Specificity: 0.2968 [0.2708, 0.3227]\n",
      "PPV: 0.1434 [0.1218, 0.1656]\n",
      "NPV: 0.9781 [0.9621, 0.9917]\n"
     ]
    },
    {
     "name": "stderr",
     "output_type": "stream",
     "text": [
      "\n"
     ]
    }
   ],
   "source": [
    "# Apply threshold to test\n",
    "\n",
    "def print_ci(samples, alpha=0.95):\n",
    "    p = ((1.0-alpha)/2.0) * 100\n",
    "    lower = max(0.0, np.percentile(samples, p))\n",
    "    p = (alpha+((1.0-alpha)/2.0)) * 100\n",
    "    upper = min(1.0, np.percentile(samples, p))\n",
    "    return lower, upper\n",
    "\n",
    "df = pd.read_csv(f\"/deep/group/ed-monitor/patient_data_v9/predictions/15sec-500hz-1norm-10wpp/II/final-transformer-64/waveform-demo-vital-risk/test.csv\")\n",
    "testy = df[\"actual\"]\n",
    "yhat = df[\"preds\"]\n",
    "\n",
    "preds_t = (df[\"preds\"] >= best_thresh).to_numpy()\n",
    "accuracy = sum(preds_t == df[\"actual\"]) / len(df[\"actual\"])\n",
    "\n",
    "bootstrap_sensitivities, bootstrap_specificities, bootstrap_ppvs, bootstrap_npvs = get_bootstrap_metrics(df[\"preds\"], df[\"actual\"], best_thresh)\n",
    "\n",
    "best_95_bootstrap_ppvs = bootstrap_ppvs\n",
    "best_95_bootstrap_npvs = bootstrap_npvs\n",
    "\n",
    "tp, fp, fn, tn = get_confusion_matrix(df[\"preds\"], df[\"actual\"], best_thresh)\n",
    "sen, sen_ci, spe, spe_ci, ppv, ppv_ci, npv, npv_ci = calculate_metrics(tp, fp, fn, tn)\n",
    "\n",
    "lower, upper = print_ci(bootstrap_sensitivities)\n",
    "print(f\"Sensitivity: {round(sen, 4)} [{round(lower, 4)}, {round(upper, 4)}]\")\n",
    "\n",
    "lower, upper = print_ci(bootstrap_specificities)\n",
    "print(f\"Specificity: {round(spe, 4)} [{round(lower, 4)}, {round(upper, 4)}]\")\n",
    "\n",
    "lower, upper = print_ci(bootstrap_ppvs)\n",
    "print(f\"PPV: {round(ppv, 4)} [{round(lower, 4)}, {round(upper, 4)}]\")\n",
    "\n",
    "lower, upper = print_ci(bootstrap_npvs)\n",
    "print(f\"NPV: {round(npv, 4)} [{round(lower, 4)}, {round(upper, 4)}]\")\n"
   ]
  },
  {
   "cell_type": "code",
   "execution_count": 14,
   "id": "22d42ce4",
   "metadata": {},
   "outputs": [
    {
     "name": "stdout",
     "output_type": "stream",
     "text": [
      "tp=142, fp=848, fn=8, tn=358\n"
     ]
    }
   ],
   "source": [
    "df = pd.read_csv(f\"/deep/group/ed-monitor/patient_data_v9/predictions/15sec-500hz-1norm-10wpp/II/final-transformer-64/waveform-demo-vital-risk/test.csv\")\n",
    "testy = df[\"actual\"]\n",
    "yhat = df[\"preds\"]\n",
    "tp, fp, fn, tn = get_confusion_matrix(df[\"preds\"], df[\"actual\"], best_thresh)\n",
    "print(f\"tp={tp}, fp={fp}, fn={fn}, tn={tn}\")"
   ]
  },
  {
   "cell_type": "markdown",
   "id": "1379955b",
   "metadata": {},
   "source": [
    "### 99% Sensitivity"
   ]
  },
  {
   "cell_type": "code",
   "execution_count": 15,
   "id": "935a8055",
   "metadata": {},
   "outputs": [
    {
     "data": {
      "text/plain": [
       "0.023553904145956"
      ]
     },
     "execution_count": 15,
     "metadata": {},
     "output_type": "execute_result"
    }
   ],
   "source": [
    "# Find average threshold on validation set\n",
    "\n",
    "df = pd.read_csv(f\"/deep/group/ed-monitor/patient_data_v9/predictions/15sec-500hz-1norm-10wpp/II/final-transformer-64/waveform-demo-vital-risk/val.csv\")\n",
    "testy = df[\"actual\"]\n",
    "yhat = df[\"preds\"]\n",
    "\n",
    "# calculate roc curves\n",
    "fpr, tpr, thresholds = roc_curve(testy, yhat)\n",
    "# Find threshold at sensitivity=0.99\n",
    "index = -1\n",
    "for k in range(len(tpr)):\n",
    "    if tpr[k] > 0.99 and index == -1:\n",
    "        # Choose interval from before 0.99\n",
    "        index = k - 1\n",
    "    if tpr[k] == 0.99:\n",
    "        index = k\n",
    "if index == -1:\n",
    "    assert index_alt != -1\n",
    "    index = index_alt\n",
    "\n",
    "best_thresh = thresholds[index]\n",
    "best_thresh"
   ]
  },
  {
   "cell_type": "code",
   "execution_count": 16,
   "id": "888c030b",
   "metadata": {},
   "outputs": [
    {
     "name": "stderr",
     "output_type": "stream",
     "text": [
      "100%|██████████| 10000/10000 [08:16<00:00, 20.13it/s]\n"
     ]
    },
    {
     "name": "stdout",
     "output_type": "stream",
     "text": [
      "Sensitivity: 0.9667 [0.9346, 0.9931]\n",
      "Specificity: 0.2032 [0.1807, 0.2263]\n",
      "PPV: 0.1311 [0.1116, 0.1515]\n",
      "NPV: 0.98 [0.9607, 0.9959]\n"
     ]
    }
   ],
   "source": [
    "# Apply threshold to test\n",
    "\n",
    "def print_ci(samples, alpha=0.95):\n",
    "    p = ((1.0-alpha)/2.0) * 100\n",
    "    lower = max(0.0, np.percentile(samples, p))\n",
    "    p = (alpha+((1.0-alpha)/2.0)) * 100\n",
    "    upper = min(1.0, np.percentile(samples, p))\n",
    "    return lower, upper\n",
    "\n",
    "df = pd.read_csv(f\"/deep/group/ed-monitor/patient_data_v9/predictions/15sec-500hz-1norm-10wpp/II/final-transformer-64/waveform-demo-vital-risk/test.csv\")\n",
    "testy = df[\"actual\"]\n",
    "yhat = df[\"preds\"]\n",
    "\n",
    "preds_t = (df[\"preds\"] >= best_thresh).to_numpy()\n",
    "accuracy = sum(preds_t == df[\"actual\"]) / len(df[\"actual\"])\n",
    "\n",
    "bootstrap_sensitivities, bootstrap_specificities, bootstrap_ppvs, bootstrap_npvs = get_bootstrap_metrics(df[\"preds\"], df[\"actual\"], best_thresh)\n",
    "\n",
    "tp, fp, fn, tn = get_confusion_matrix(df[\"preds\"], df[\"actual\"], best_thresh)\n",
    "sen, sen_ci, spe, spe_ci, ppv, ppv_ci, npv, npv_ci = calculate_metrics(tp, fp, fn, tn)\n",
    "\n",
    "lower, upper = print_ci(bootstrap_sensitivities)\n",
    "print(f\"Sensitivity: {round(sen, 4)} [{round(lower, 4)}, {round(upper, 4)}]\")\n",
    "\n",
    "lower, upper = print_ci(bootstrap_specificities)\n",
    "print(f\"Specificity: {round(spe, 4)} [{round(lower, 4)}, {round(upper, 4)}]\")\n",
    "\n",
    "lower, upper = print_ci(bootstrap_ppvs)\n",
    "print(f\"PPV: {round(ppv, 4)} [{round(lower, 4)}, {round(upper, 4)}]\")\n",
    "\n",
    "lower, upper = print_ci(bootstrap_npvs)\n",
    "print(f\"NPV: {round(npv, 4)} [{round(lower, 4)}, {round(upper, 4)}]\")\n"
   ]
  },
  {
   "cell_type": "code",
   "execution_count": 17,
   "id": "30219e2f",
   "metadata": {},
   "outputs": [
    {
     "name": "stdout",
     "output_type": "stream",
     "text": [
      "tp=145, fp=961, fn=5, tn=245\n"
     ]
    }
   ],
   "source": [
    "df = pd.read_csv(f\"/deep/group/ed-monitor/patient_data_v9/predictions/15sec-500hz-1norm-10wpp/II/final-transformer-64/waveform-demo-vital-risk/test.csv\")\n",
    "testy = df[\"actual\"]\n",
    "yhat = df[\"preds\"]\n",
    "tp, fp, fn, tn = get_confusion_matrix(df[\"preds\"], df[\"actual\"], best_thresh)\n",
    "print(f\"tp={tp}, fp={fp}, fn={fn}, tn={tn}\")"
   ]
  },
  {
   "cell_type": "code",
   "execution_count": null,
   "id": "3f90d951",
   "metadata": {},
   "outputs": [],
   "source": []
  },
  {
   "cell_type": "markdown",
   "id": "2cb46f43",
   "metadata": {},
   "source": [
    "## 95% CI Diff"
   ]
  },
  {
   "cell_type": "code",
   "execution_count": 29,
   "id": "8c02c235",
   "metadata": {},
   "outputs": [],
   "source": [
    "def get_ci_diff(left_aucs, right_aucs, alpha=0.95):\n",
    "    diffs = np.subtract(left_aucs, right_aucs)\n",
    "    assert len(diffs) == 10000\n",
    "    \n",
    "    p = ((1.0-alpha)/2.0) * 100\n",
    "    lower = np.percentile(diffs, p)\n",
    "    p = (alpha+((1.0-alpha)/2.0)) * 100\n",
    "    upper = min(1.0, np.percentile(diffs, p))\n",
    "\n",
    "    auc_ci = [round(lower, 3), round(upper, 3)]\n",
    "    \n",
    "    print(f\"[Bootstrap] 95% CI={auc_ci}\")\n",
    "    "
   ]
  },
  {
   "cell_type": "markdown",
   "id": "14a733e3",
   "metadata": {},
   "source": [
    "### 85% Sensitivity"
   ]
  },
  {
   "cell_type": "code",
   "execution_count": 30,
   "id": "cc20b678",
   "metadata": {},
   "outputs": [
    {
     "name": "stdout",
     "output_type": "stream",
     "text": [
      "[Bootstrap] 95% CI=[-0.027, 0.044]\n"
     ]
    }
   ],
   "source": [
    "# Best - Baseline PPV\n",
    "get_ci_diff(best_bootstrap_ppvs, baseline_bootstrap_ppvs)\n"
   ]
  },
  {
   "cell_type": "code",
   "execution_count": 31,
   "id": "a6cab963",
   "metadata": {},
   "outputs": [
    {
     "name": "stdout",
     "output_type": "stream",
     "text": [
      "[Bootstrap] 95% CI=[-0.017, 0.029]\n"
     ]
    }
   ],
   "source": [
    "# Best - Baseline NPV\n",
    "get_ci_diff(best_bootstrap_npvs, baseline_bootstrap_npvs)\n"
   ]
  },
  {
   "cell_type": "markdown",
   "id": "c3f6f837",
   "metadata": {},
   "source": [
    "### 95% Sensitivity"
   ]
  },
  {
   "cell_type": "code",
   "execution_count": 36,
   "id": "10cceba0",
   "metadata": {},
   "outputs": [
    {
     "data": {
      "text/plain": [
       "0.14333644738068838"
      ]
     },
     "execution_count": 36,
     "metadata": {},
     "output_type": "execute_result"
    }
   ],
   "source": [
    "np.mean(best_95_bootstrap_ppvs)"
   ]
  },
  {
   "cell_type": "code",
   "execution_count": 37,
   "id": "f2b4634c",
   "metadata": {},
   "outputs": [
    {
     "data": {
      "text/plain": [
       "0.15438706697994817"
      ]
     },
     "execution_count": 37,
     "metadata": {},
     "output_type": "execute_result"
    }
   ],
   "source": [
    "np.mean(baseline_bootstrap_ppvs)"
   ]
  },
  {
   "cell_type": "code",
   "execution_count": 40,
   "id": "548d9a08",
   "metadata": {},
   "outputs": [
    {
     "name": "stdout",
     "output_type": "stream",
     "text": [
      "[Bootstrap] 95% CI=[-0.013, 0.047]\n"
     ]
    }
   ],
   "source": [
    "# Best - Baseline PPV\n",
    "get_ci_diff(best_95_bootstrap_ppvs, baseline_95_bootstrap_ppvs)\n"
   ]
  },
  {
   "cell_type": "code",
   "execution_count": 41,
   "id": "b91d3de6",
   "metadata": {},
   "outputs": [
    {
     "name": "stdout",
     "output_type": "stream",
     "text": [
      "[Bootstrap] 95% CI=[-0.003, 0.056]\n"
     ]
    }
   ],
   "source": [
    "# Best - Baseline NPV\n",
    "get_ci_diff(best_95_bootstrap_npvs, baseline_95_bootstrap_npvs)\n"
   ]
  },
  {
   "cell_type": "code",
   "execution_count": null,
   "id": "8624cc60",
   "metadata": {},
   "outputs": [],
   "source": []
  }
 ],
 "metadata": {
  "kernelspec": {
   "display_name": "Python 3",
   "language": "python",
   "name": "python3"
  },
  "language_info": {
   "codemirror_mode": {
    "name": "ipython",
    "version": 3
   },
   "file_extension": ".py",
   "mimetype": "text/x-python",
   "name": "python",
   "nbconvert_exporter": "python",
   "pygments_lexer": "ipython3",
   "version": "3.7.10"
  }
 },
 "nbformat": 4,
 "nbformat_minor": 5
}
