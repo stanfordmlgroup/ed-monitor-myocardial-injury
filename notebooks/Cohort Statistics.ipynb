{
 "cells": [
  {
   "cell_type": "code",
   "execution_count": 1,
   "id": "980959be",
   "metadata": {},
   "outputs": [],
   "source": [
    "import matplotlib.pyplot as plt\n",
    "import numpy as np\n",
    "from scipy import interp, stats\n",
    "import pandas as pd\n",
    "import os\n",
    "import sys\n",
    "from tqdm import tqdm\n",
    "import math\n",
    "\n",
    "from scipy.stats import chi2_contingency\n",
    "from scipy.stats import chi2, kstest, ranksums\n",
    "import seaborn as sns\n",
    "\n",
    "from sklearn.datasets import make_classification\n",
    "from sklearn.model_selection import KFold\n",
    "from sklearn.linear_model import LogisticRegression\n",
    "from sklearn.metrics import roc_curve, auc, roc_auc_score, precision_recall_curve\n",
    "\n",
    "import warnings\n",
    "warnings.filterwarnings('ignore')\n",
    "\n",
    "from edm.utils.measures import perf_measure, calculate_output_statistics\n",
    "\n",
    "pd.set_option('display.max_columns', None)"
   ]
  },
  {
   "cell_type": "code",
   "execution_count": 2,
   "id": "d320badc",
   "metadata": {},
   "outputs": [],
   "source": [
    "def print_statistics(df_cohort):\n",
    "    df_pos = df_cohort[df_cohort[\"outcome\"] == 1]\n",
    "    df_neg = df_cohort[df_cohort[\"outcome\"] == 0]\n",
    "    print(f\"Shape {df_pos.shape} for outcome = 1\")\n",
    "    print(f\"Shape {df_neg.shape} for outcome = 0\")\n",
    "    print(f\"---\")\n",
    "#     SpO2\tRR\tHR\tTemp\tSBP\tDBP\n",
    "    def print_numeric(col):\n",
    "        pos_stat = f\"{df_pos[col].describe()['50%']} [{df_pos[col].describe()['25%']}-{df_pos[col].describe()['75%']}]\"\n",
    "        neg_stat = f\"{df_neg[col].describe()['50%']} [{df_neg[col].describe()['25%']}-{df_neg[col].describe()['75%']}]\"\n",
    "        pos_missing = df_pos[col].isna().sum()\n",
    "        neg_missing = df_pos[col].isna().sum()\n",
    "#         p_val = stats.ttest_ind(df_pos[col], df_neg[col], nan_policy=\"omit\", equal_var=False).pvalue\n",
    "        w, p_val = ranksums(df_pos[col], df_neg[col])\n",
    "\n",
    "        print(f\"{col}, {pos_stat}, {pos_missing}, {neg_stat}, {neg_missing}, {p_val}\")\n",
    "    \n",
    "    def print_binary_col(col, val_1, val_2):\n",
    "        contingency_table = [\n",
    "            [df_pos[df_pos[col] == val_2].shape[0], df_neg[df_neg[col] == val_2].shape[0]],\n",
    "            [df_pos[df_pos[col] == val_1].shape[0], df_neg[df_neg[col] == val_1].shape[0]]\n",
    "        ]\n",
    "\n",
    "#         print(contingency_table)\n",
    "\n",
    "        stat, p, dof, expected = chi2_contingency(contingency_table, correction=False)\n",
    "#         print(stat, p, dof, expected)\n",
    "\n",
    "#         prob = 0.95\n",
    "#         critical = chi2.ppf(prob, dof)\n",
    "#         if abs(stat) >= critical:\n",
    "#             print(f\"Dependent (reject H0) at {stat}\")\n",
    "#         else:\n",
    "#             print(f\"Independent (fail to reject H0) at {stat}\")\n",
    "\n",
    "        pos_f = df_pos[df_pos[col] == val_1].shape[0]\n",
    "        pos_m = df_pos[df_pos[col] == val_2].shape[0]\n",
    "        neg_f = df_neg[df_neg[col] == val_1].shape[0]\n",
    "        neg_m = df_neg[df_neg[col] == val_2].shape[0]\n",
    "        pos_f_missing = df_pos[df_pos[col] == val_1][col].isna().sum()\n",
    "        neg_f_missing = df_neg[df_neg[col] == val_1][col].isna().sum()\n",
    "        pos_m_missing = df_pos[df_pos[col] == val_2][col].isna().sum()\n",
    "        neg_m_missing = df_neg[df_neg[col] == val_2][col].isna().sum()\n",
    "        print(f\"{col} - {val_1}, {pos_f} ({round(100*pos_f/(pos_f+pos_m), 2)}), {pos_f_missing}, {neg_f} ({round(100*neg_f/(neg_f+neg_m), 2)}), {neg_f_missing}, {p}\")\n",
    "        print(f\"{col} - {val_2}, {pos_m} ({round(100*pos_m/(pos_f+pos_m), 2)}), {pos_m_missing}, {neg_m} ({round(100*neg_m/(neg_f+neg_m), 2)}), {neg_m_missing},\")\n",
    "    \n",
    "    def print_risk_factor(col):\n",
    "        pos_missing = df_pos[col].isna().sum()\n",
    "        neg_missing = df_neg[col].isna().sum()\n",
    "        pval = stats.ttest_ind(df_pos[col], df_neg[col], nan_policy=\"omit\", equal_var=False).pvalue\n",
    "        print(f\"{col}, {int(df_pos[col].sum())} ({round(100 * df_pos[col].sum() / (len(df_pos[col]) - int(df_pos[col].isna().sum())), 2)}), {pos_missing}, {int(df_neg[col].sum())} ({round(100 * df_neg[col].sum() / (len(df_neg[col]) - int(df_neg[col].isna().sum())), 2)}), {neg_missing}, {pval}\")\n",
    "\n",
    "    # ---\n",
    "    print(\"Characteristic, Pos Statistic, Pos Missing, Neg Statistic, Neg Missing, p-value\")\n",
    "    print_numeric(\"Age\")\n",
    "    print_binary_col(\"Gender\", \"F\", \"M\")\n",
    "    print_binary_col(\"CC_CP_SOB\", 0, 1)\n",
    "    print_numeric(\"SpO2\")\n",
    "    print_numeric(\"RR\")\n",
    "    print_numeric(\"HR\")\n",
    "    print_numeric(\"Temp\")\n",
    "    print_numeric(\"SBP\")\n",
    "    print_numeric(\"DBP\")\n",
    "    print_numeric(\"First_trop\")\n",
    "    print_numeric(\"Max_trop\")\n",
    "    print_numeric(\"ED_LOS\")\n",
    "    print_numeric(\"First_trop_result_time-waveform_start_time\")\n",
    "    print_numeric(\"First_trop_result_time-Arrival_time\")\n",
    "    print_numeric(\"trim_length\")\n",
    "    print_risk_factor(\"Athero\")\n",
    "    print_risk_factor(\"HTN\")\n",
    "    print_risk_factor(\"HLD\")\n",
    "    print_risk_factor(\"DM\")\n",
    "    print_risk_factor(\"Obese\")\n",
    "    print_risk_factor(\"Smoking\")"
   ]
  },
  {
   "cell_type": "markdown",
   "id": "976e290e",
   "metadata": {},
   "source": [
    "## Load Files"
   ]
  },
  {
   "cell_type": "code",
   "execution_count": 13,
   "id": "92134b1b",
   "metadata": {},
   "outputs": [
    {
     "name": "stdout",
     "output_type": "stream",
     "text": [
      "(10874, 77)\n"
     ]
    }
   ],
   "source": [
    "df_annotated_manual = pd.read_csv(\"/deep/group/ed-monitor/patient_data_v9/consolidated.filtered.csv\")\n",
    "print(df_annotated_manual.shape)"
   ]
  },
  {
   "cell_type": "code",
   "execution_count": null,
   "id": "37113f8c",
   "metadata": {},
   "outputs": [],
   "source": [
    "df_annotated_manual.describe()"
   ]
  },
  {
   "cell_type": "code",
   "execution_count": 4,
   "id": "66044144",
   "metadata": {},
   "outputs": [
    {
     "name": "stdout",
     "output_type": "stream",
     "text": [
      "(1057, 79)\n",
      "(9817, 79)\n"
     ]
    }
   ],
   "source": [
    "df_pos = df_annotated_manual[df_annotated_manual[\"outcome\"] == 1]\n",
    "print(df_pos.shape)\n",
    "df_neg = df_annotated_manual[df_annotated_manual[\"outcome\"] == 0]\n",
    "print(df_neg.shape)"
   ]
  },
  {
   "cell_type": "markdown",
   "id": "ccf82402",
   "metadata": {},
   "source": [
    "## Statistics"
   ]
  },
  {
   "cell_type": "code",
   "execution_count": 19,
   "id": "dba22090",
   "metadata": {},
   "outputs": [
    {
     "name": "stdout",
     "output_type": "stream",
     "text": [
      "Shape (1057, 79) for outcome = 1\n",
      "Shape (9817, 79) for outcome = 0\n",
      "---\n",
      "Characteristic, Pos Statistic, Pos Missing, Neg Statistic, Neg Missing, p-value\n",
      "Age, 71.0 [59.0-83.0], 0, 63.0 [47.0-76.0], 0, 6.4975853236443074e-43\n",
      "Gender - F, 444 (42.09), 0, 5136 (52.32), 0, 2.587171245842113e-10\n",
      "Gender - M, 611 (57.91), 0, 4680 (47.68), 0,\n",
      "CC_CP_SOB - 0, 644 (60.93), 0, 6501 (66.22), 0, 0.0005697700577133987\n",
      "CC_CP_SOB - 1, 413 (39.07), 0, 3316 (33.78), 0,\n",
      "SpO2, 98.0 [96.0-100.0], 2, 99.0 [97.0-100.0], 2, 3.9983671651375525e-13\n",
      "RR, 18.0 [18.0-22.0], 1, 18.0 [16.0-20.0], 1, 7.702467483918752e-19\n",
      "HR, 87.0 [73.0-106.0], 1, 84.0 [72.0-99.0], 1, 3.283582954343181e-05\n",
      "Temp, 36.7 [36.5-36.9], 65, 36.7 [36.5-36.9], 65, 0.038499824253701444\n",
      "SBP, 137.0 [116.0-156.0], 3, 138.0 [123.0-153.0], 3, 0.02133306751585782\n",
      "DBP, 78.0 [66.0-91.0], 3, 79.0 [69.0-89.0], 3, 0.13611389432796914\n",
      "First_trop, 0.124 [0.072-0.327], 0, 0.0 [0.0-0.0], 0, 0.0\n",
      "Max_trop, 0.164 [0.091-0.492], 0, 0.0 [0.0-0.0], 0, 0.0\n",
      "ED_LOS, 6.47 [4.8549999999999995-8.3], 7, 5.75 [4.27-7.57], 7, 2.6811728481189483e-18\n",
      "First_trop_result_time-waveform_start_time, 5460.0 [4440.0-6960.0], 0, 5280.0 [4259.0-6720.0], 0, 0.0004886014015180989\n",
      "First_trop_result_time-Arrival_time, 6720.0 [5280.0-8460.0], 0, 6960.0 [5640.0-8880.0], 0, 1.1019523444992148e-05\n",
      "trim_length, 6399.0 [2809.0-11230.0], 0, 7802.0 [4292.0-12299.0], 0, 2.654124278616294e-11\n",
      "Athero, 210 (31.91), 399, 1153 (20.18), 4104, 9.587068731952986e-10\n",
      "HTN, 261 (39.67), 399, 1840 (32.21), 4104, 0.00021507016203822245\n",
      "HLD, 202 (30.7), 399, 1514 (26.5), 4104, 0.026763511124936145\n",
      "DM, 181 (27.51), 399, 1368 (23.95), 4104, 0.05211369200101317\n",
      "Obese, 43 (6.53), 399, 440 (7.7), 4104, 0.2560976293205908\n",
      "Smoking, 27 (4.1), 399, 255 (4.46), 4104, 0.6608959909891639\n"
     ]
    }
   ],
   "source": [
    "print_statistics(df_annotated_manual)"
   ]
  },
  {
   "cell_type": "code",
   "execution_count": 24,
   "id": "ff37f10b",
   "metadata": {},
   "outputs": [
    {
     "name": "stdout",
     "output_type": "stream",
     "text": [
      "\n",
      "Number of patients who had first trop pos 957/1057 (90.53926206244087%)\n",
      "Number of patients who had first trop neg 100/1057 (9.460737937559129%)\n"
     ]
    }
   ],
   "source": [
    "# First trop neg?\n",
    "tot_patient = df_pos.shape[0]\n",
    "mi_patients = df_pos[df_pos[\"First_trop\"] > 0.055].shape[0]\n",
    "print(f\"\")\n",
    "print(f\"Number of patients who had first trop pos {mi_patients}/{tot_patient} ({100*mi_patients/tot_patient}%)\")\n",
    "print(f\"Number of patients who had first trop neg {(tot_patient-mi_patients)}/{tot_patient} ({100*(tot_patient-mi_patients)/tot_patient}%)\")"
   ]
  },
  {
   "cell_type": "code",
   "execution_count": 26,
   "id": "25ffb738",
   "metadata": {},
   "outputs": [
    {
     "name": "stdout",
     "output_type": "stream",
     "text": [
      "100\n",
      "MI patients who had first trop neg have to wait 6.244333333333333 hours until first pos trop\n"
     ]
    }
   ],
   "source": [
    "# How long did MI patients who had first trop neg have to wait until pos trop result?\n",
    "from dateutil import parser\n",
    "\n",
    "wait_times = []\n",
    "for i, row in df_pos[df_pos[\"First_trop\"] <= 0.055].iterrows():\n",
    "    trop_available = parser.parse(row[\"Max_trop_result_time\"])\n",
    "    arrival_time = parser.parse(row[\"Arrival_time\"])\n",
    "    wait_times.append((trop_available - arrival_time).total_seconds())\n",
    "    \n",
    "print(len(wait_times))\n",
    "print(f\"MI patients who had first trop neg have to wait {np.mean(wait_times) / 3600} hours until first pos trop\")\n",
    "    "
   ]
  },
  {
   "cell_type": "code",
   "execution_count": 32,
   "id": "1c466bb3",
   "metadata": {},
   "outputs": [],
   "source": [
    "# CI difference in populations\n",
    "# https://www.dummies.com/education/math/statistics/creating-a-confidence-interval-for-the-difference-of-two-means-with-known-standard-deviations/\n",
    "\n",
    "def diff_in_cols(df_pos, df_neg, col):\n",
    "    acs_std = df_pos[col].describe()[\"std\"]\n",
    "    nonacs_std = df_neg[col].describe()[\"std\"]\n",
    "    ci_diff = 1.96 * math.sqrt(((acs_std ** 2) / df_pos.shape[0]) + ((nonacs_std ** 2) / df_neg.shape[0]))\n",
    "    diff = df_pos[col].describe()[\"50%\"] - df_neg[col].describe()[\"50%\"] \n",
    "    print(f\"{col} difference = {round(diff, 3)} [{round(diff - ci_diff, 3)}-{round(diff + ci_diff, 3)}]\")\n"
   ]
  },
  {
   "cell_type": "code",
   "execution_count": 33,
   "id": "6c6d8627",
   "metadata": {},
   "outputs": [
    {
     "name": "stdout",
     "output_type": "stream",
     "text": [
      "trim_length difference = -1403.0 [-1809.623--996.377]\n"
     ]
    }
   ],
   "source": [
    "# What's the difference between bedside monitoring lengths?\n",
    "\n",
    "diff_in_cols(df_pos, df_neg, \"trim_length\")"
   ]
  },
  {
   "cell_type": "code",
   "execution_count": 34,
   "id": "1e1ec578",
   "metadata": {},
   "outputs": [
    {
     "name": "stdout",
     "output_type": "stream",
     "text": [
      "ED_LOS difference = 0.72 [0.53-0.91]\n"
     ]
    }
   ],
   "source": [
    "# What's the difference between bedside ED stay?\n",
    "\n",
    "diff_in_cols(df_pos, df_neg, \"ED_LOS\")"
   ]
  },
  {
   "cell_type": "code",
   "execution_count": 37,
   "id": "6b5dcc4f",
   "metadata": {},
   "outputs": [
    {
     "name": "stdout",
     "output_type": "stream",
     "text": [
      "For pos, 1009/1057 (95.45884578997162%) patients were admitted to inpatient\n",
      "For neg, 4543/9817 (46.27686665987573%) patients were admitted to inpatient\n"
     ]
    }
   ],
   "source": [
    "# How many were admitted to inpatient care?\n",
    "\n",
    "inpatient_values = [\n",
    "    \"Admit to Inpatient\", \n",
    "    \"Place in Observation\", \n",
    "    \"Place in Observation-CDU\", \n",
    "    \"Transfer to Outside Facility/Hospital\", \n",
    "    \"Transfer to LPCH/PEC\"\n",
    "]\n",
    "\n",
    "df_pos_inpatient = df_pos[df_pos[\"ED_dispo\"].isin(inpatient_values)]\n",
    "print(f\"For pos, {df_pos_inpatient.shape[0]}/{df_pos.shape[0]} ({100*df_pos_inpatient.shape[0]/df_pos.shape[0]}%) patients were admitted to inpatient\")\n",
    "\n",
    "df_neg_inpatient = df_neg[df_neg[\"ED_dispo\"].isin(inpatient_values)]\n",
    "print(f\"For neg, {df_neg_inpatient.shape[0]}/{df_neg.shape[0]} ({100*df_neg_inpatient.shape[0]/df_neg.shape[0]}%) patients were admitted to inpatient\")\n",
    "\n",
    "diff_in_cols(df_pos, df_neg, \"ED_LOS\")"
   ]
  },
  {
   "cell_type": "markdown",
   "id": "6e19ab5d",
   "metadata": {},
   "source": [
    "```\n",
    "> prop.test(x=c(1009, 4543), n=c(1057, 9817), correct=FALSE)\n",
    "\n",
    "\t2-sample test for equality of proportions without continuity correction\n",
    "\n",
    "data:  c(1009, 4543) out of c(1057, 9817)\n",
    "X-squared = 923.7, df = 1, p-value < 2.2e-16\n",
    "alternative hypothesis: two.sided\n",
    "95 percent confidence interval:\n",
    " 0.4758564 0.5077832\n",
    "sample estimates:\n",
    "   prop 1    prop 2 \n",
    "0.9545885 0.4627687 \n",
    "```"
   ]
  },
  {
   "cell_type": "code",
   "execution_count": null,
   "id": "1305043c",
   "metadata": {},
   "outputs": [],
   "source": []
  },
  {
   "cell_type": "markdown",
   "id": "99d4069a",
   "metadata": {},
   "source": [
    "## Independence"
   ]
  },
  {
   "cell_type": "markdown",
   "id": "46b9bcbc",
   "metadata": {},
   "source": [
    "### Validate independence of test set with overall SOB dataset"
   ]
  },
  {
   "cell_type": "code",
   "execution_count": null,
   "id": "292c7935",
   "metadata": {},
   "outputs": [],
   "source": [
    "df_annotated_manual = pd.read_csv(\"/deep/group/ed-monitor/patient_data_v9/consolidated.filtered.csv\")\n",
    "df_annotated_manual = df_annotated_manual[(df_annotated_manual[\"Case_for_test\"] == 1) | (df_annotated_manual[\"Case_for_test\"] == 0)]\n",
    "print(df_annotated_manual.shape)\n",
    "df_annotated_manual.head(1)"
   ]
  },
  {
   "cell_type": "code",
   "execution_count": null,
   "id": "4a7341ed",
   "metadata": {},
   "outputs": [],
   "source": [
    "df_annotated_manual.describe()"
   ]
  },
  {
   "cell_type": "code",
   "execution_count": null,
   "id": "37c13649",
   "metadata": {},
   "outputs": [],
   "source": [
    "df_annotated_manual_test = pd.read_csv(\"/deep/group/ed-monitor/patient_data_v9/consolidated.filtered.test.txt\", sep=\"\\t\")\n",
    "print(df_annotated_manual_test.shape)\n",
    "df_annotated_manual_test.head(1)"
   ]
  },
  {
   "cell_type": "code",
   "execution_count": 36,
   "id": "9957e0fc",
   "metadata": {},
   "outputs": [],
   "source": [
    "def print_numeric_stat(df_annotated_manual, df_annotated_manual_test, col):\n",
    "    x = np.array(df_annotated_manual[col], dtype=np.float)\n",
    "    y = np.array(df_annotated_manual_test[col], dtype=np.float)\n",
    "    statistic, pval = stats.ttest_ind(x[~np.isnan(x)], y[~np.isnan(y)], equal_var=False)\n",
    "    print(f\"{col}: {statistic} pval={pval}\")"
   ]
  },
  {
   "cell_type": "code",
   "execution_count": 37,
   "id": "a5d75877",
   "metadata": {},
   "outputs": [],
   "source": [
    "def print_cat_stat(df_annotated_manual, df_annotated_manual_test, col, mappings):\n",
    "    contingency_table = []\n",
    "    for k in mappings.keys():\n",
    "        row = []\n",
    "        \n",
    "        count = 0\n",
    "        for r in df_annotated_manual[col].tolist():\n",
    "            if r == k:\n",
    "                count += 1\n",
    "        row.append(count)\n",
    "\n",
    "        count = 0\n",
    "        for r in df_annotated_manual_test[col].tolist():\n",
    "            if r == k:\n",
    "                count += 1\n",
    "        row.append(count)\n",
    "\n",
    "        contingency_table.append(row)\n",
    "        \n",
    "    stat, p, dof, expected = chi2_contingency(contingency_table, correction=False)\n",
    "\n",
    "    prob = 0.95\n",
    "    critical = chi2.ppf(prob, dof)\n",
    "    if abs(stat) >= critical:\n",
    "        print(f\"{col}: {contingency_table} statistically significant\")\n",
    "    else:\n",
    "        print(f\"{col}: {contingency_table} not statistically significant\")\n"
   ]
  },
  {
   "cell_type": "code",
   "execution_count": 42,
   "id": "fcac1c05",
   "metadata": {},
   "outputs": [
    {
     "name": "stdout",
     "output_type": "stream",
     "text": [
      "Age: -0.0815471189210677 pval=0.9350139729115687\n",
      "Gender: [[2111, 712], [2019, 643]] not statistically significant\n",
      "SpO2: 0.1449359465478856 pval=0.8847745822279938\n",
      "RR: -0.6037434299757884 pval=0.546077232451806\n",
      "HR: 0.3043184824916402 pval=0.760912457715388\n",
      "Temp: -0.8721309776977275 pval=0.3832364753214976\n",
      "SBP: 0.0050405249274155075 pval=0.9959787034858913\n",
      "DBP: 0.701384375054689 pval=0.4831334649096156\n",
      "First_trop: -1.0973691477534222 pval=0.27262655787734447\n",
      "Max_trop: -1.125362364398196 pval=0.2605823666221569\n",
      "ED_LOS: -0.07051907298445818 pval=0.943786560802435\n",
      "First_trop_result_time-waveform_start_time: -0.47989196235282483 pval=0.631350727296526\n",
      "First_trop_result_time-Arrival_time: 0.24758566168948865 pval=0.8044774535444357\n",
      "trim_length: 0.023040519027420898 pval=0.9816199461876243\n",
      "Athero: [[1959, 672], [545, 182]] not statistically significant\n",
      "HTN: [[1717, 601], [787, 253]] not statistically significant\n",
      "HLD: [[1837, 662], [667, 192]] statistically significant\n",
      "DM: [[1890, 636], [614, 218]] not statistically significant\n",
      "Obese: [[2274, 779], [230, 75]] not statistically significant\n",
      "Smoking: [[2388, 819], [116, 35]] not statistically significant\n"
     ]
    }
   ],
   "source": [
    "print_numeric_stat(df_annotated_manual, df_annotated_manual_test, \"Age\")\n",
    "print_cat_stat(df_annotated_manual, df_annotated_manual_test, \"Gender\", {\"F\": 0, \"M\": 1})\n",
    "print_numeric_stat(df_annotated_manual, df_annotated_manual_test, \"SpO2\")\n",
    "print_numeric_stat(df_annotated_manual, df_annotated_manual_test, \"RR\")\n",
    "print_numeric_stat(df_annotated_manual, df_annotated_manual_test, \"HR\")\n",
    "print_numeric_stat(df_annotated_manual, df_annotated_manual_test, \"Temp\")\n",
    "print_numeric_stat(df_annotated_manual, df_annotated_manual_test, \"SBP\")\n",
    "print_numeric_stat(df_annotated_manual, df_annotated_manual_test, \"DBP\")\n",
    "print_numeric_stat(df_annotated_manual, df_annotated_manual_test, \"First_trop\")\n",
    "print_numeric_stat(df_annotated_manual, df_annotated_manual_test, \"Max_trop\")\n",
    "print_numeric_stat(df_annotated_manual, df_annotated_manual_test, \"ED_LOS\")\n",
    "print_numeric_stat(df_annotated_manual, df_annotated_manual_test, \"First_trop_result_time-waveform_start_time\")\n",
    "print_numeric_stat(df_annotated_manual, df_annotated_manual_test, \"First_trop_result_time-Arrival_time\")\n",
    "print_numeric_stat(df_annotated_manual, df_annotated_manual_test, \"trim_length\")\n",
    "print_cat_stat(df_annotated_manual, df_annotated_manual_test, \"Athero\", {0: 0, 1: 1})\n",
    "print_cat_stat(df_annotated_manual, df_annotated_manual_test, \"HTN\", {0: 0, 1: 1})\n",
    "print_cat_stat(df_annotated_manual, df_annotated_manual_test, \"HLD\", {0: 0, 1: 1})\n",
    "print_cat_stat(df_annotated_manual, df_annotated_manual_test, \"DM\", {0: 0, 1: 1})\n",
    "print_cat_stat(df_annotated_manual, df_annotated_manual_test, \"Obese\", {0: 0, 1: 1})\n",
    "print_cat_stat(df_annotated_manual, df_annotated_manual_test, \"Smoking\", {0: 0, 1: 1})"
   ]
  },
  {
   "cell_type": "markdown",
   "id": "1cb549b5",
   "metadata": {},
   "source": [
    "### Validate independence of val set with overall SOB dataset"
   ]
  },
  {
   "cell_type": "code",
   "execution_count": null,
   "id": "be380e13",
   "metadata": {},
   "outputs": [],
   "source": [
    "df_annotated_manual = pd.read_csv(\"/deep/group/ed-monitor/patient_data_v9/consolidated.filtered.val.txt\", sep=\"\\t\")\n",
    "print(df_annotated_manual.shape)\n",
    "df_annotated_manual.head(1)"
   ]
  },
  {
   "cell_type": "code",
   "execution_count": null,
   "id": "360faa67",
   "metadata": {},
   "outputs": [],
   "source": [
    "df_annotated_manual.describe()"
   ]
  },
  {
   "cell_type": "code",
   "execution_count": null,
   "id": "3ee869ca",
   "metadata": {},
   "outputs": [],
   "source": [
    "df_annotated_manual_test = pd.read_csv(\"/deep/group/ed-monitor/patient_data_v9/consolidated.filtered.test.txt\", sep=\"\\t\")\n",
    "print(df_annotated_manual_test.shape)\n",
    "df_annotated_manual_test.head(1)"
   ]
  },
  {
   "cell_type": "code",
   "execution_count": 55,
   "id": "8540da2c",
   "metadata": {},
   "outputs": [],
   "source": [
    "def print_numeric_stat(df_annotated_manual, df_annotated_manual_test, col):\n",
    "    x = np.array(df_annotated_manual[col], dtype=np.float)\n",
    "    y = np.array(df_annotated_manual_test[col], dtype=np.float)\n",
    "    statistic, pval = stats.ttest_ind(x[~np.isnan(x)], y[~np.isnan(y)], equal_var=False)\n",
    "    print(f\"{col}: {statistic} pval={pval}\")"
   ]
  },
  {
   "cell_type": "code",
   "execution_count": 56,
   "id": "cdeb2a92",
   "metadata": {},
   "outputs": [],
   "source": [
    "def print_cat_stat(df_annotated_manual, df_annotated_manual_test, col, mappings):\n",
    "    contingency_table = []\n",
    "    for k in mappings.keys():\n",
    "        row = []\n",
    "        \n",
    "        count = 0\n",
    "        for r in df_annotated_manual[col].tolist():\n",
    "            if r == k:\n",
    "                count += 1\n",
    "        row.append(count)\n",
    "\n",
    "        count = 0\n",
    "        for r in df_annotated_manual_test[col].tolist():\n",
    "            if r == k:\n",
    "                count += 1\n",
    "        row.append(count)\n",
    "\n",
    "        contingency_table.append(row)\n",
    "        \n",
    "    stat, p, dof, expected = chi2_contingency(contingency_table, correction=False)\n",
    "\n",
    "    prob = 0.95\n",
    "    critical = chi2.ppf(prob, dof)\n",
    "    if abs(stat) >= critical:\n",
    "        print(f\"{col}: {contingency_table} statistically significant\")\n",
    "    else:\n",
    "        print(f\"{col}: {contingency_table} not statistically significant\")\n"
   ]
  },
  {
   "cell_type": "code",
   "execution_count": 57,
   "id": "736c6432",
   "metadata": {},
   "outputs": [
    {
     "name": "stdout",
     "output_type": "stream",
     "text": [
      "Age: 0.8206702197157482 pval=0.4119063320485823\n",
      "Gender: [[687, 712], [669, 643]] not statistically significant\n",
      "SpO2: 0.28540941971372413 pval=0.775352432076268\n",
      "RR: -0.8203944979663653 pval=0.41206425705507777\n",
      "HR: 0.7105116689368924 pval=0.4774480557371259\n",
      "Temp: -1.1620882336041958 pval=0.24530929885192615\n",
      "SBP: -0.5521722206055424 pval=0.5808761064154928\n",
      "DBP: 0.7644176037928548 pval=0.4446850001552457\n",
      "First_trop: -1.1572396657347122 pval=0.2472950109395037\n",
      "Max_trop: -1.208118861933213 pval=0.22712047967023463\n",
      "ED_LOS: 0.38387931099428363 pval=0.7010980832502776\n",
      "First_trop_result_time-waveform_start_time: -0.8659342409463803 pval=0.3866028890627804\n",
      "First_trop_result_time-Arrival_time: -0.23935978406527025 pval=0.8108447262454463\n",
      "trim_length: 0.5780481744617176 pval=0.5632796337214367\n",
      "Athero: [[616, 672], [184, 182]] not statistically significant\n",
      "HTN: [[558, 601], [242, 253]] not statistically significant\n",
      "HLD: [[584, 662], [216, 192]] statistically significant\n",
      "DM: [[618, 636], [182, 218]] not statistically significant\n",
      "Obese: [[730, 779], [70, 75]] not statistically significant\n",
      "Smoking: [[759, 819], [41, 35]] not statistically significant\n"
     ]
    }
   ],
   "source": [
    "print_numeric_stat(df_annotated_manual, df_annotated_manual_test, \"Age\")\n",
    "print_cat_stat(df_annotated_manual, df_annotated_manual_test, \"Gender\", {\"F\": 0, \"M\": 1})\n",
    "print_numeric_stat(df_annotated_manual, df_annotated_manual_test, \"SpO2\")\n",
    "print_numeric_stat(df_annotated_manual, df_annotated_manual_test, \"RR\")\n",
    "print_numeric_stat(df_annotated_manual, df_annotated_manual_test, \"HR\")\n",
    "print_numeric_stat(df_annotated_manual, df_annotated_manual_test, \"Temp\")\n",
    "print_numeric_stat(df_annotated_manual, df_annotated_manual_test, \"SBP\")\n",
    "print_numeric_stat(df_annotated_manual, df_annotated_manual_test, \"DBP\")\n",
    "print_numeric_stat(df_annotated_manual, df_annotated_manual_test, \"First_trop\")\n",
    "print_numeric_stat(df_annotated_manual, df_annotated_manual_test, \"Max_trop\")\n",
    "print_numeric_stat(df_annotated_manual, df_annotated_manual_test, \"ED_LOS\")\n",
    "print_numeric_stat(df_annotated_manual, df_annotated_manual_test, \"First_trop_result_time-waveform_start_time\")\n",
    "print_numeric_stat(df_annotated_manual, df_annotated_manual_test, \"First_trop_result_time-Arrival_time\")\n",
    "print_numeric_stat(df_annotated_manual, df_annotated_manual_test, \"trim_length\")\n",
    "print_cat_stat(df_annotated_manual, df_annotated_manual_test, \"Athero\", {0: 0, 1: 1})\n",
    "print_cat_stat(df_annotated_manual, df_annotated_manual_test, \"HTN\", {0: 0, 1: 1})\n",
    "print_cat_stat(df_annotated_manual, df_annotated_manual_test, \"HLD\", {0: 0, 1: 1})\n",
    "print_cat_stat(df_annotated_manual, df_annotated_manual_test, \"DM\", {0: 0, 1: 1})\n",
    "print_cat_stat(df_annotated_manual, df_annotated_manual_test, \"Obese\", {0: 0, 1: 1})\n",
    "print_cat_stat(df_annotated_manual, df_annotated_manual_test, \"Smoking\", {0: 0, 1: 1})"
   ]
  },
  {
   "cell_type": "code",
   "execution_count": null,
   "id": "54555b59",
   "metadata": {},
   "outputs": [],
   "source": []
  }
 ],
 "metadata": {
  "kernelspec": {
   "display_name": "Python 3",
   "language": "python",
   "name": "python3"
  },
  "language_info": {
   "codemirror_mode": {
    "name": "ipython",
    "version": 3
   },
   "file_extension": ".py",
   "mimetype": "text/x-python",
   "name": "python",
   "nbconvert_exporter": "python",
   "pygments_lexer": "ipython3",
   "version": "3.7.10"
  }
 },
 "nbformat": 4,
 "nbformat_minor": 5
}
