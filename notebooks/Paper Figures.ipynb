{
 "cells": [
  {
   "cell_type": "code",
   "execution_count": 9,
   "id": "72c23974",
   "metadata": {},
   "outputs": [],
   "source": [
    "import matplotlib.pyplot as plt\n",
    "import numpy as np\n",
    "from scipy import interp, stats\n",
    "import pandas as pd\n",
    "import os\n",
    "import sys\n",
    "from tqdm import tqdm\n",
    "\n",
    "from sklearn.datasets import make_classification\n",
    "from sklearn.model_selection import KFold\n",
    "from sklearn.linear_model import LogisticRegression\n",
    "from sklearn.metrics import roc_curve, auc, roc_auc_score, precision_recall_curve\n",
    "\n",
    "import warnings\n",
    "warnings.filterwarnings('ignore')\n",
    "\n",
    "from edm.utils.measures import perf_measure, calculate_output_statistics, get_bootstrap_metrics\n"
   ]
  },
  {
   "cell_type": "code",
   "execution_count": 2,
   "id": "5d5c1576",
   "metadata": {},
   "outputs": [],
   "source": [
    "pd.set_option('display.max_columns', None)\n"
   ]
  },
  {
   "cell_type": "markdown",
   "id": "9af7ad1b",
   "metadata": {},
   "source": [
    "# Patient Characteristics"
   ]
  },
  {
   "cell_type": "code",
   "execution_count": null,
   "id": "98bd072e",
   "metadata": {},
   "outputs": [],
   "source": [
    "df_cohort = pd.read_csv(\"/deep/group/ed-monitor/patient_data_v9/consolidated.filtered.csv\")\n",
    "df_cohort.head(3)"
   ]
  },
  {
   "cell_type": "code",
   "execution_count": 4,
   "id": "de978758",
   "metadata": {},
   "outputs": [
    {
     "data": {
      "text/plain": [
       "(1057, 79)"
      ]
     },
     "execution_count": 4,
     "metadata": {},
     "output_type": "execute_result"
    }
   ],
   "source": [
    "df_cohort[df_cohort[\"Case_for_train\"] == 1].shape"
   ]
  },
  {
   "cell_type": "code",
   "execution_count": 5,
   "id": "952c1e7c",
   "metadata": {},
   "outputs": [
    {
     "data": {
      "text/plain": [
       "(1057, 79)"
      ]
     },
     "execution_count": 5,
     "metadata": {},
     "output_type": "execute_result"
    }
   ],
   "source": [
    "df_cohort[df_cohort[\"Max_trop\"] > 0.055].shape"
   ]
  },
  {
   "cell_type": "code",
   "execution_count": 6,
   "id": "6eb8fb3f",
   "metadata": {},
   "outputs": [
    {
     "data": {
      "text/plain": [
       "(10874, 43)"
      ]
     },
     "execution_count": 6,
     "metadata": {},
     "output_type": "execute_result"
    }
   ],
   "source": [
    "df_cohort.groupby(\"CSN\").mean().shape"
   ]
  },
  {
   "cell_type": "code",
   "execution_count": 7,
   "id": "10714b82",
   "metadata": {},
   "outputs": [
    {
     "data": {
      "text/plain": [
       "(10874, 79)"
      ]
     },
     "execution_count": 7,
     "metadata": {},
     "output_type": "execute_result"
    }
   ],
   "source": [
    "df_cohort.shape"
   ]
  },
  {
   "cell_type": "code",
   "execution_count": 8,
   "id": "a8c85460",
   "metadata": {},
   "outputs": [],
   "source": [
    "df_train = pd.read_csv(f\"/deep/group/ed-monitor/patient_data_v9/consolidated.filtered.train.txt\", sep=\"\\t\")\n",
    "df_val = pd.read_csv(f\"/deep/group/ed-monitor/patient_data_v9/consolidated.filtered.val.txt\", sep=\"\\t\")\n",
    "df_test = pd.read_csv(f\"/deep/group/ed-monitor/patient_data_v9/consolidated.filtered.test.txt\", sep=\"\\t\")"
   ]
  },
  {
   "cell_type": "code",
   "execution_count": 9,
   "id": "b4419f04",
   "metadata": {},
   "outputs": [],
   "source": [
    "df = pd.concat([df_train, df_val, df_test])"
   ]
  },
  {
   "cell_type": "code",
   "execution_count": 10,
   "id": "05049e2d",
   "metadata": {},
   "outputs": [
    {
     "data": {
      "text/plain": [
       "(10874, 79)"
      ]
     },
     "execution_count": 10,
     "metadata": {},
     "output_type": "execute_result"
    }
   ],
   "source": [
    "df.shape"
   ]
  },
  {
   "cell_type": "code",
   "execution_count": 12,
   "id": "9e4b2a79",
   "metadata": {},
   "outputs": [],
   "source": [
    "df_merged = df"
   ]
  },
  {
   "cell_type": "code",
   "execution_count": 13,
   "id": "80b375ce",
   "metadata": {},
   "outputs": [],
   "source": [
    "df_merged_acs = df[df[\"Case_for_train\"] == 1]\n",
    "df_merged_nonacs = df[df[\"Case_for_train\"] == 0]"
   ]
  },
  {
   "cell_type": "code",
   "execution_count": 14,
   "id": "19d7adf1",
   "metadata": {},
   "outputs": [
    {
     "data": {
      "text/plain": [
       "(1057, 79)"
      ]
     },
     "execution_count": 14,
     "metadata": {},
     "output_type": "execute_result"
    }
   ],
   "source": [
    "df_merged_acs.shape"
   ]
  },
  {
   "cell_type": "code",
   "execution_count": 15,
   "id": "9242e57c",
   "metadata": {},
   "outputs": [
    {
     "data": {
      "text/plain": [
       "(9817, 79)"
      ]
     },
     "execution_count": 15,
     "metadata": {},
     "output_type": "execute_result"
    }
   ],
   "source": [
    "df_merged_nonacs.shape"
   ]
  },
  {
   "cell_type": "code",
   "execution_count": 16,
   "id": "d966434a",
   "metadata": {},
   "outputs": [
    {
     "data": {
      "text/plain": [
       "(5291, 79)"
      ]
     },
     "execution_count": 16,
     "metadata": {},
     "output_type": "execute_result"
    }
   ],
   "source": [
    "df[df[\"Gender\"] == \"M\"].shape"
   ]
  },
  {
   "cell_type": "code",
   "execution_count": 17,
   "id": "44e0154c",
   "metadata": {},
   "outputs": [
    {
     "data": {
      "text/plain": [
       "(5580, 79)"
      ]
     },
     "execution_count": 17,
     "metadata": {},
     "output_type": "execute_result"
    }
   ],
   "source": [
    "df[df[\"Gender\"] == \"F\"].shape"
   ]
  },
  {
   "cell_type": "code",
   "execution_count": 18,
   "id": "64373d8f",
   "metadata": {},
   "outputs": [
    {
     "data": {
      "text/plain": [
       "3729"
      ]
     },
     "execution_count": 18,
     "metadata": {},
     "output_type": "execute_result"
    }
   ],
   "source": [
    "sum(df[\"CC_CP_SOB\"])"
   ]
  },
  {
   "cell_type": "markdown",
   "id": "9b60e43c",
   "metadata": {},
   "source": [
    "#### df_merged.describe()"
   ]
  },
  {
   "cell_type": "code",
   "execution_count": 19,
   "id": "a0486f29",
   "metadata": {},
   "outputs": [
    {
     "data": {
      "text/plain": [
       "(611, 79)"
      ]
     },
     "execution_count": 19,
     "metadata": {},
     "output_type": "execute_result"
    }
   ],
   "source": [
    "df_merged_acs[df_merged_acs[\"Gender\"] == \"M\"].shape"
   ]
  },
  {
   "cell_type": "code",
   "execution_count": 20,
   "id": "a5d21611",
   "metadata": {},
   "outputs": [
    {
     "data": {
      "text/plain": [
       "(444, 79)"
      ]
     },
     "execution_count": 20,
     "metadata": {},
     "output_type": "execute_result"
    }
   ],
   "source": [
    "df_merged_acs[df_merged_acs[\"Gender\"] == \"F\"].shape"
   ]
  },
  {
   "cell_type": "code",
   "execution_count": 21,
   "id": "0478f46b",
   "metadata": {},
   "outputs": [
    {
     "data": {
      "text/plain": [
       "413"
      ]
     },
     "execution_count": 21,
     "metadata": {},
     "output_type": "execute_result"
    }
   ],
   "source": [
    "sum(df_merged_acs[\"CC_CP_SOB\"])"
   ]
  },
  {
   "cell_type": "code",
   "execution_count": 24,
   "id": "563d1d8c",
   "metadata": {},
   "outputs": [
    {
     "data": {
      "text/plain": [
       "count    1057.000000\n",
       "mean        2.182036\n",
       "std         1.782569\n",
       "min         0.005556\n",
       "25%         0.780278\n",
       "50%         1.777500\n",
       "75%         3.119444\n",
       "max        11.417778\n",
       "dtype: float64"
      ]
     },
     "execution_count": 24,
     "metadata": {},
     "output_type": "execute_result"
    }
   ],
   "source": [
    "# ECG Length hours\n",
    "(df_merged_acs[\"recommended_trim_end_sec\"]/3600 - df_merged_acs[\"recommended_trim_start_sec\"]/3600).describe()"
   ]
  },
  {
   "cell_type": "code",
   "execution_count": 25,
   "id": "fed6f573",
   "metadata": {},
   "outputs": [
    {
     "data": {
      "text/plain": [
       "count    9817.000000\n",
       "mean        2.483615\n",
       "std         1.757922\n",
       "min         0.004167\n",
       "25%         1.192222\n",
       "50%         2.167222\n",
       "75%         3.416389\n",
       "max        16.074167\n",
       "dtype: float64"
      ]
     },
     "execution_count": 25,
     "metadata": {},
     "output_type": "execute_result"
    }
   ],
   "source": [
    "# ECG Length hours\n",
    "(df_merged_nonacs[\"recommended_trim_end_sec\"]/3600 - df_merged_nonacs[\"recommended_trim_start_sec\"]/3600).describe()"
   ]
  },
  {
   "cell_type": "code",
   "execution_count": 26,
   "id": "0cc3be4d",
   "metadata": {},
   "outputs": [
    {
     "data": {
      "text/plain": [
       "(4680, 79)"
      ]
     },
     "execution_count": 26,
     "metadata": {},
     "output_type": "execute_result"
    }
   ],
   "source": [
    "df_merged_nonacs[df_merged_nonacs[\"Gender\"] == \"M\"].shape"
   ]
  },
  {
   "cell_type": "code",
   "execution_count": 27,
   "id": "9cb95e02",
   "metadata": {},
   "outputs": [
    {
     "data": {
      "text/plain": [
       "(5136, 79)"
      ]
     },
     "execution_count": 27,
     "metadata": {},
     "output_type": "execute_result"
    }
   ],
   "source": [
    "df_merged_nonacs[df_merged_nonacs[\"Gender\"] == \"F\"].shape"
   ]
  },
  {
   "cell_type": "markdown",
   "id": "7c15fd69",
   "metadata": {},
   "source": [
    "#### How many patients with myocardial injury have negative first trop"
   ]
  },
  {
   "cell_type": "code",
   "execution_count": 28,
   "id": "cfb51476",
   "metadata": {},
   "outputs": [
    {
     "data": {
      "text/plain": [
       "(91, 79)"
      ]
     },
     "execution_count": 28,
     "metadata": {},
     "output_type": "execute_result"
    }
   ],
   "source": [
    "df_neg_first_trop = df_merged_acs[df_merged_acs[\"First_trop\"] < 0.055]\n",
    "df_neg_first_trop.shape"
   ]
  },
  {
   "cell_type": "code",
   "execution_count": 29,
   "id": "e8f22785",
   "metadata": {},
   "outputs": [
    {
     "data": {
      "text/plain": [
       "(966, 79)"
      ]
     },
     "execution_count": 29,
     "metadata": {},
     "output_type": "execute_result"
    }
   ],
   "source": [
    "df_pos_first_trop = df_merged_acs[df_merged_acs[\"First_trop\"] >= 0.055]\n",
    "df_pos_first_trop.shape"
   ]
  },
  {
   "cell_type": "markdown",
   "id": "246f6374",
   "metadata": {},
   "source": [
    "#### Among Negative First Trop Patients - when was first pos trop?"
   ]
  },
  {
   "cell_type": "code",
   "execution_count": 31,
   "id": "ce488d89",
   "metadata": {},
   "outputs": [
    {
     "data": {
      "text/plain": [
       "(91, 79)"
      ]
     },
     "execution_count": 31,
     "metadata": {},
     "output_type": "execute_result"
    }
   ],
   "source": [
    "df_neg_first_trop.shape"
   ]
  },
  {
   "cell_type": "code",
   "execution_count": 32,
   "id": "5a2c9592",
   "metadata": {},
   "outputs": [
    {
     "data": {
      "text/plain": [
       "(91, 158)"
      ]
     },
     "execution_count": 32,
     "metadata": {},
     "output_type": "execute_result"
    }
   ],
   "source": [
    "df_neg_first_trop = df_neg_first_trop.merge(df_cohort, how=\"left\", left_on=\"patient_id\", right_on=\"CSN\")\n",
    "df_neg_first_trop.shape"
   ]
  },
  {
   "cell_type": "code",
   "execution_count": null,
   "id": "8b80b485",
   "metadata": {},
   "outputs": [],
   "source": [
    "df_neg_first_trop.head(3)"
   ]
  },
  {
   "cell_type": "code",
   "execution_count": 34,
   "id": "b1f6e91a",
   "metadata": {},
   "outputs": [],
   "source": [
    "time_diff = pd.to_datetime(df_neg_first_trop[\"Max_trop_result_time_x\"]) - pd.to_datetime(df_neg_first_trop[\"Arrival_time_x\"])\n",
    "sec_diff = time_diff.astype('timedelta64[s]')"
   ]
  },
  {
   "cell_type": "code",
   "execution_count": 35,
   "id": "09c555ca",
   "metadata": {},
   "outputs": [
    {
     "data": {
      "text/plain": [
       "count       91.000000\n",
       "mean     22432.087912\n",
       "std       9640.341109\n",
       "min       7860.000000\n",
       "25%      15570.000000\n",
       "50%      19680.000000\n",
       "75%      27120.000000\n",
       "max      61800.000000\n",
       "dtype: float64"
      ]
     },
     "execution_count": 35,
     "metadata": {},
     "output_type": "execute_result"
    }
   ],
   "source": [
    "sec_diff.describe()"
   ]
  },
  {
   "cell_type": "markdown",
   "id": "3aa8dc05",
   "metadata": {},
   "source": [
    "#### Duration Analysis"
   ]
  },
  {
   "cell_type": "code",
   "execution_count": null,
   "id": "f3d1b87b",
   "metadata": {},
   "outputs": [],
   "source": []
  },
  {
   "cell_type": "code",
   "execution_count": null,
   "id": "579a5658",
   "metadata": {},
   "outputs": [],
   "source": []
  },
  {
   "cell_type": "code",
   "execution_count": 36,
   "id": "02f2b520",
   "metadata": {},
   "outputs": [
    {
     "data": {
      "text/plain": [
       "count     1057.000000\n",
       "mean      7855.329234\n",
       "std       6417.248505\n",
       "min         20.000000\n",
       "25%       2809.000000\n",
       "50%       6399.000000\n",
       "75%      11230.000000\n",
       "max      41104.000000\n",
       "Name: trim_length, dtype: float64"
      ]
     },
     "execution_count": 36,
     "metadata": {},
     "output_type": "execute_result"
    }
   ],
   "source": [
    "df_merged_acs[\"trim_length\"].describe()"
   ]
  },
  {
   "cell_type": "code",
   "execution_count": null,
   "id": "dfa238af",
   "metadata": {},
   "outputs": [],
   "source": []
  },
  {
   "cell_type": "code",
   "execution_count": 37,
   "id": "00e834f0",
   "metadata": {},
   "outputs": [
    {
     "data": {
      "text/plain": [
       "count     9817.000000\n",
       "mean      8941.013242\n",
       "std       6328.517878\n",
       "min         15.000000\n",
       "25%       4292.000000\n",
       "50%       7802.000000\n",
       "75%      12299.000000\n",
       "max      57867.000000\n",
       "Name: trim_length, dtype: float64"
      ]
     },
     "execution_count": 37,
     "metadata": {},
     "output_type": "execute_result"
    }
   ],
   "source": [
    "df_merged_nonacs[\"trim_length\"].describe()\n"
   ]
  },
  {
   "cell_type": "code",
   "execution_count": 38,
   "id": "73195f7b",
   "metadata": {},
   "outputs": [
    {
     "data": {
      "text/plain": [
       "6417.248505406262"
      ]
     },
     "execution_count": 38,
     "metadata": {},
     "output_type": "execute_result"
    }
   ],
   "source": [
    "acs_std = df_merged_acs[\"trim_length\"].describe()[\"std\"]\n",
    "acs_std"
   ]
  },
  {
   "cell_type": "code",
   "execution_count": 39,
   "id": "1d45022c",
   "metadata": {},
   "outputs": [
    {
     "data": {
      "text/plain": [
       "6328.517877827278"
      ]
     },
     "execution_count": 39,
     "metadata": {},
     "output_type": "execute_result"
    }
   ],
   "source": [
    "nonacs_std = df_merged_nonacs[\"trim_length\"].describe()[\"std\"]\n",
    "nonacs_std"
   ]
  },
  {
   "cell_type": "code",
   "execution_count": 40,
   "id": "5a8a1a5e",
   "metadata": {},
   "outputs": [
    {
     "data": {
      "text/plain": [
       "406.62329726741666"
      ]
     },
     "execution_count": 40,
     "metadata": {},
     "output_type": "execute_result"
    }
   ],
   "source": [
    "# CI difference in populations\n",
    "# https://www.dummies.com/education/math/statistics/creating-a-confidence-interval-for-the-difference-of-two-means-with-known-standard-deviations/\n",
    "import math\n",
    "ci_diff = 1.96 * math.sqrt(((acs_std ** 2) / 1057) + ((nonacs_std ** 2) / 9817))\n",
    "ci_diff"
   ]
  },
  {
   "cell_type": "code",
   "execution_count": 41,
   "id": "5f881d93",
   "metadata": {},
   "outputs": [
    {
     "data": {
      "text/plain": [
       "1403.0"
      ]
     },
     "execution_count": 41,
     "metadata": {},
     "output_type": "execute_result"
    }
   ],
   "source": [
    "df_merged_nonacs[\"trim_length\"].describe()[\"50%\"] - df_merged_acs[\"trim_length\"].describe()[\"50%\"]"
   ]
  },
  {
   "cell_type": "code",
   "execution_count": 42,
   "id": "0c500f89",
   "metadata": {},
   "outputs": [
    {
     "data": {
      "text/plain": [
       "0.38972222222222225"
      ]
     },
     "execution_count": 42,
     "metadata": {},
     "output_type": "execute_result"
    }
   ],
   "source": [
    "1403.0/3600"
   ]
  },
  {
   "cell_type": "code",
   "execution_count": 43,
   "id": "45234c68",
   "metadata": {},
   "outputs": [
    {
     "data": {
      "text/plain": [
       "0.2767713063146065"
      ]
     },
     "execution_count": 43,
     "metadata": {},
     "output_type": "execute_result"
    }
   ],
   "source": [
    "(1403.0 - 406.62329726741666)/3600"
   ]
  },
  {
   "cell_type": "code",
   "execution_count": 44,
   "id": "107718dd",
   "metadata": {},
   "outputs": [
    {
     "data": {
      "text/plain": [
       "0.5026731381298379"
      ]
     },
     "execution_count": 44,
     "metadata": {},
     "output_type": "execute_result"
    }
   ],
   "source": [
    "(1403.0 + 406.62329726741666)/3600"
   ]
  },
  {
   "cell_type": "markdown",
   "id": "39b52fba",
   "metadata": {},
   "source": [
    "#### ED Stay"
   ]
  },
  {
   "cell_type": "code",
   "execution_count": 45,
   "id": "9657b500",
   "metadata": {},
   "outputs": [
    {
     "data": {
      "text/plain": [
       "count    1050.000000\n",
       "mean        6.906895\n",
       "std         3.004102\n",
       "min         0.350000\n",
       "25%         4.855000\n",
       "50%         6.470000\n",
       "75%         8.300000\n",
       "max        28.230000\n",
       "Name: ED_LOS, dtype: float64"
      ]
     },
     "execution_count": 45,
     "metadata": {},
     "output_type": "execute_result"
    }
   ],
   "source": [
    "df_merged_acs[\"ED_LOS\"].describe()"
   ]
  },
  {
   "cell_type": "code",
   "execution_count": null,
   "id": "08faaa19",
   "metadata": {},
   "outputs": [],
   "source": []
  },
  {
   "cell_type": "code",
   "execution_count": 46,
   "id": "59347f7b",
   "metadata": {},
   "outputs": [
    {
     "data": {
      "text/plain": [
       "count    9793.000000\n",
       "mean        6.211038\n",
       "std         2.891980\n",
       "min         0.470000\n",
       "25%         4.270000\n",
       "50%         5.750000\n",
       "75%         7.570000\n",
       "max        50.620000\n",
       "Name: ED_LOS, dtype: float64"
      ]
     },
     "execution_count": 46,
     "metadata": {},
     "output_type": "execute_result"
    }
   ],
   "source": [
    "df_merged_nonacs[\"ED_LOS\"].describe()\n"
   ]
  },
  {
   "cell_type": "code",
   "execution_count": 47,
   "id": "c7191cce",
   "metadata": {},
   "outputs": [
    {
     "data": {
      "text/plain": [
       "3.004102323608724"
      ]
     },
     "execution_count": 47,
     "metadata": {},
     "output_type": "execute_result"
    }
   ],
   "source": [
    "acs_std = df_merged_acs[\"ED_LOS\"].describe()[\"std\"]\n",
    "acs_std"
   ]
  },
  {
   "cell_type": "code",
   "execution_count": 48,
   "id": "56b4b73c",
   "metadata": {},
   "outputs": [
    {
     "data": {
      "text/plain": [
       "2.891980229271248"
      ]
     },
     "execution_count": 48,
     "metadata": {},
     "output_type": "execute_result"
    }
   ],
   "source": [
    "nonacs_std = df_merged_nonacs[\"ED_LOS\"].describe()[\"std\"]\n",
    "nonacs_std"
   ]
  },
  {
   "cell_type": "code",
   "execution_count": 49,
   "id": "15e59dc6",
   "metadata": {},
   "outputs": [
    {
     "data": {
      "text/plain": [
       "0.18992705667577817"
      ]
     },
     "execution_count": 49,
     "metadata": {},
     "output_type": "execute_result"
    }
   ],
   "source": [
    "# CI difference in populations\n",
    "# https://www.dummies.com/education/math/statistics/creating-a-confidence-interval-for-the-difference-of-two-means-with-known-standard-deviations/\n",
    "import math\n",
    "ci_diff = 1.96 * math.sqrt(((acs_std ** 2) / 1057) + ((nonacs_std ** 2) / 9817))\n",
    "ci_diff"
   ]
  },
  {
   "cell_type": "code",
   "execution_count": 50,
   "id": "773681ff",
   "metadata": {},
   "outputs": [
    {
     "data": {
      "text/plain": [
       "0.7199999999999998"
      ]
     },
     "execution_count": 50,
     "metadata": {},
     "output_type": "execute_result"
    }
   ],
   "source": [
    "df_merged_acs[\"ED_LOS\"].describe()[\"50%\"] - df_merged_nonacs[\"ED_LOS\"].describe()[\"50%\"] "
   ]
  },
  {
   "cell_type": "code",
   "execution_count": 51,
   "id": "003db85b",
   "metadata": {},
   "outputs": [
    {
     "data": {
      "text/plain": [
       "0.5300729433242216"
      ]
     },
     "execution_count": 51,
     "metadata": {},
     "output_type": "execute_result"
    }
   ],
   "source": [
    "0.7199999999999998 - 0.18992705667577817\n"
   ]
  },
  {
   "cell_type": "code",
   "execution_count": 52,
   "id": "c0360527",
   "metadata": {},
   "outputs": [
    {
     "data": {
      "text/plain": [
       "0.9099270566757779"
      ]
     },
     "execution_count": 52,
     "metadata": {},
     "output_type": "execute_result"
    }
   ],
   "source": [
    "0.7199999999999998 + 0.18992705667577817\n"
   ]
  },
  {
   "cell_type": "markdown",
   "id": "3f7bcba3",
   "metadata": {},
   "source": [
    "#### How many were admitted to inpatient care?"
   ]
  },
  {
   "cell_type": "code",
   "execution_count": 53,
   "id": "7004d391",
   "metadata": {},
   "outputs": [],
   "source": [
    "inpatient_values = [\n",
    "    \"Admit to Inpatient\", \n",
    "    \"Place in Observation\", \n",
    "    \"Place in Observation-CDU\", \n",
    "    \"Transfer to Outside Facility/Hospital\", \n",
    "    \"Transfer to LPCH/PEC\"\n",
    "]"
   ]
  },
  {
   "cell_type": "code",
   "execution_count": 54,
   "id": "4c607a0c",
   "metadata": {},
   "outputs": [
    {
     "data": {
      "text/plain": [
       "array(['Place in Observation', 'Admit to Inpatient', 'Discharge',\n",
       "       'Expired', 'Transfer to Outside Facility/Hospital',\n",
       "       'Place in Observation-CDU', 'Transfer to LPCH/PEC',\n",
       "       'Against Medical Advice', 'Place in Outpatient Procedure', nan],\n",
       "      dtype=object)"
      ]
     },
     "execution_count": 54,
     "metadata": {},
     "output_type": "execute_result"
    }
   ],
   "source": [
    "df_merged_acs[\"ED_dispo\"].unique()"
   ]
  },
  {
   "cell_type": "code",
   "execution_count": null,
   "id": "4ca5a789",
   "metadata": {},
   "outputs": [],
   "source": [
    "df_merged_acs[~df_merged_acs[\"ED_dispo\"].isin(inpatient_values)]"
   ]
  },
  {
   "cell_type": "code",
   "execution_count": 56,
   "id": "4cee1b77",
   "metadata": {},
   "outputs": [
    {
     "data": {
      "text/plain": [
       "(1009, 79)"
      ]
     },
     "execution_count": 56,
     "metadata": {},
     "output_type": "execute_result"
    }
   ],
   "source": [
    "df_merged_acs[df_merged_acs[\"ED_dispo\"].isin(inpatient_values)].shape"
   ]
  },
  {
   "cell_type": "code",
   "execution_count": 57,
   "id": "bdf83c87",
   "metadata": {},
   "outputs": [
    {
     "data": {
      "text/plain": [
       "(1057, 79)"
      ]
     },
     "execution_count": 57,
     "metadata": {},
     "output_type": "execute_result"
    }
   ],
   "source": [
    "df_merged_acs.shape"
   ]
  },
  {
   "cell_type": "code",
   "execution_count": 58,
   "id": "7dc95264",
   "metadata": {},
   "outputs": [
    {
     "data": {
      "text/plain": [
       "(4543, 79)"
      ]
     },
     "execution_count": 58,
     "metadata": {},
     "output_type": "execute_result"
    }
   ],
   "source": [
    "df_merged_nonacs[df_merged_nonacs[\"ED_dispo\"].isin(inpatient_values)].shape"
   ]
  },
  {
   "cell_type": "code",
   "execution_count": 59,
   "id": "4fa50d5a",
   "metadata": {},
   "outputs": [
    {
     "data": {
      "text/plain": [
       "(9817, 79)"
      ]
     },
     "execution_count": 59,
     "metadata": {},
     "output_type": "execute_result"
    }
   ],
   "source": [
    "df_merged_nonacs.shape"
   ]
  },
  {
   "cell_type": "code",
   "execution_count": null,
   "id": "92986eda",
   "metadata": {},
   "outputs": [],
   "source": [
    "df_merged_nonacs[df_merged_nonacs[\"ED_dispo\"].isin(inpatient_values)]"
   ]
  },
  {
   "cell_type": "code",
   "execution_count": 61,
   "id": "6d26cf8d",
   "metadata": {},
   "outputs": [
    {
     "data": {
      "text/plain": [
       "array(['Discharge', 'Admit to Inpatient', 'Against Medical Advice',\n",
       "       'Place in Observation', nan, 'Transfer to Psych',\n",
       "       'Transfer to Outside Facility/Hospital',\n",
       "       'Place in Observation-CDU', 'Place in Outpatient Procedure',\n",
       "       'Transfer to LPCH/PEC', 'Elopement', 'Decision to Admit',\n",
       "       'Expired', 'Left Without Being Seen', 'Send to Labor and Delivery',\n",
       "       'Conditional Discharge'], dtype=object)"
      ]
     },
     "execution_count": 61,
     "metadata": {},
     "output_type": "execute_result"
    }
   ],
   "source": [
    "df_merged_nonacs[\"ED_dispo\"].unique()"
   ]
  },
  {
   "cell_type": "markdown",
   "id": "d1a140b5",
   "metadata": {},
   "source": [
    "### Trop"
   ]
  },
  {
   "cell_type": "code",
   "execution_count": 62,
   "id": "89b7bab2",
   "metadata": {},
   "outputs": [
    {
     "data": {
      "text/plain": [
       "Ttest_indResult(statistic=7.85233189764912, pvalue=9.990752737585947e-15)"
      ]
     },
     "execution_count": 62,
     "metadata": {},
     "output_type": "execute_result"
    }
   ],
   "source": [
    "stats.ttest_ind(df_merged_acs[\"First_trop\"], df_merged_nonacs[\"First_trop\"], nan_policy=\"omit\", equal_var=False)"
   ]
  },
  {
   "cell_type": "code",
   "execution_count": 63,
   "id": "e6ca8808",
   "metadata": {},
   "outputs": [
    {
     "data": {
      "text/plain": [
       "Ttest_indResult(statistic=9.113771109577263, pvalue=3.9019899747770586e-19)"
      ]
     },
     "execution_count": 63,
     "metadata": {},
     "output_type": "execute_result"
    }
   ],
   "source": [
    "stats.ttest_ind(df_merged_acs[\"Max_trop\"], df_merged_nonacs[\"Max_trop\"], nan_policy=\"omit\", equal_var=False)"
   ]
  },
  {
   "cell_type": "markdown",
   "id": "d42f186f",
   "metadata": {},
   "source": [
    "### ECG Length"
   ]
  },
  {
   "cell_type": "code",
   "execution_count": 64,
   "id": "b1b9f086",
   "metadata": {},
   "outputs": [
    {
     "data": {
      "text/plain": [
       "Ttest_indResult(statistic=-5.233199059825073, pvalue=1.9434039289707565e-07)"
      ]
     },
     "execution_count": 64,
     "metadata": {},
     "output_type": "execute_result"
    }
   ],
   "source": [
    "stats.ttest_ind((df_merged_acs[\"recommended_trim_end_sec\"]/3600 - df_merged_acs[\"recommended_trim_start_sec\"]/3600), (df_merged_nonacs[\"recommended_trim_end_sec\"]/3600 - df_merged_nonacs[\"recommended_trim_start_sec\"]/3600), nan_policy=\"omit\", equal_var=False)"
   ]
  },
  {
   "cell_type": "code",
   "execution_count": 65,
   "id": "7ce76b9d",
   "metadata": {},
   "outputs": [
    {
     "data": {
      "text/plain": [
       "Ttest_indResult(statistic=2.7089599883319924, pvalue=0.00684208416356258)"
      ]
     },
     "execution_count": 65,
     "metadata": {},
     "output_type": "execute_result"
    }
   ],
   "source": [
    "stats.ttest_ind(df_merged_acs[\"First_trop_result_time-waveform_start_time\"], df_merged_nonacs[\"First_trop_result_time-waveform_start_time\"], nan_policy=\"omit\", equal_var=False)"
   ]
  },
  {
   "cell_type": "markdown",
   "id": "dba9de53",
   "metadata": {},
   "source": [
    "### ED Time"
   ]
  },
  {
   "cell_type": "code",
   "execution_count": 66,
   "id": "ce81298e",
   "metadata": {},
   "outputs": [
    {
     "data": {
      "text/plain": [
       "Ttest_indResult(statistic=7.158610861781326, pvalue=1.3769813875106958e-12)"
      ]
     },
     "execution_count": 66,
     "metadata": {},
     "output_type": "execute_result"
    }
   ],
   "source": [
    "stats.ttest_ind(df_merged_acs[\"ED_LOS\"], df_merged_nonacs[\"ED_LOS\"], nan_policy=\"omit\", equal_var=False)"
   ]
  },
  {
   "cell_type": "code",
   "execution_count": 67,
   "id": "a84ea290",
   "metadata": {},
   "outputs": [
    {
     "data": {
      "text/plain": [
       "Ttest_indResult(statistic=-1.6150928618947917, pvalue=0.10654337196270797)"
      ]
     },
     "execution_count": 67,
     "metadata": {},
     "output_type": "execute_result"
    }
   ],
   "source": [
    "stats.ttest_ind(df_merged_acs[\"First_trop_result_time-Arrival_time\"], df_merged_nonacs[\"First_trop_result_time-Arrival_time\"], nan_policy=\"omit\", equal_var=False)"
   ]
  },
  {
   "cell_type": "markdown",
   "id": "2923e7eb",
   "metadata": {},
   "source": [
    "#### Sex"
   ]
  },
  {
   "cell_type": "code",
   "execution_count": 68,
   "id": "af43895c",
   "metadata": {},
   "outputs": [
    {
     "data": {
      "text/plain": [
       "0"
      ]
     },
     "execution_count": 68,
     "metadata": {},
     "output_type": "execute_result"
    }
   ],
   "source": [
    "df_merged_acs[\"Gender\"].isna().sum()"
   ]
  },
  {
   "cell_type": "code",
   "execution_count": 69,
   "id": "0542eaa0",
   "metadata": {},
   "outputs": [
    {
     "name": "stdout",
     "output_type": "stream",
     "text": [
      "=== (Chi-Squared) ===\n",
      "39.963771120255124 2.587171245842113e-10 1 [[ 513.47668108 4777.52331892]\n",
      " [ 541.52331892 5038.47668108]]\n",
      "Dependent (reject H0) at 39.963771120255124\n"
     ]
    }
   ],
   "source": [
    "from scipy.stats import chi2_contingency\n",
    "from scipy.stats import chi2, kstest\n",
    "import seaborn as sns\n",
    "\n",
    "\n",
    "print(f\"=== (Chi-Squared) ===\")\n",
    "contingency_table = [\n",
    "    [df_merged_acs[df_merged_acs[\"Gender\"] == \"M\"].shape[0], df_merged_nonacs[df_merged_nonacs[\"Gender\"] == \"M\"].shape[0]],\n",
    "    [df_merged_acs[df_merged_acs[\"Gender\"] == \"F\"].shape[0], df_merged_nonacs[df_merged_nonacs[\"Gender\"] == \"F\"].shape[0]]\n",
    "]\n",
    "\n",
    "stat, p, dof, expected = chi2_contingency(contingency_table, correction=False)\n",
    "print(stat, p, dof, expected)\n",
    "\n",
    "prob = 0.95\n",
    "critical = chi2.ppf(prob, dof)\n",
    "if abs(stat) >= critical:\n",
    "    print(f\"Dependent (reject H0) at {stat}\")\n",
    "else:\n",
    "    print(f\"Independent (fail to reject H0) at {stat}\")\n"
   ]
  },
  {
   "cell_type": "markdown",
   "id": "5b70471b",
   "metadata": {},
   "source": [
    "#### Chief Complaint of SOB"
   ]
  },
  {
   "cell_type": "code",
   "execution_count": 70,
   "id": "3f3e8dde",
   "metadata": {},
   "outputs": [
    {
     "name": "stdout",
     "output_type": "stream",
     "text": [
      "=== (Chi-Squared) ===\n",
      "10.000942822459109 0.001564601032104349 1 [[ 245.97754872 2211.02245128]\n",
      " [ 463.02245128 4161.97754872]]\n",
      "Dependent (reject H0) at 10.000942822459109\n"
     ]
    }
   ],
   "source": [
    "from scipy.stats import chi2_contingency\n",
    "from scipy.stats import chi2, kstest\n",
    "import seaborn as sns\n",
    "\n",
    "\n",
    "print(f\"=== (Chi-Squared) ===\")\n",
    "contingency_table = [\n",
    "    [284, 2173],\n",
    "    [709-284, 6373-2173]\n",
    "]\n",
    "\n",
    "stat, p, dof, expected = chi2_contingency(contingency_table, correction=False)\n",
    "print(stat, p, dof, expected)\n",
    "\n",
    "prob = 0.95\n",
    "critical = chi2.ppf(prob, dof)\n",
    "if abs(stat) >= critical:\n",
    "    print(f\"Dependent (reject H0) at {stat}\")\n",
    "else:\n",
    "    print(f\"Independent (fail to reject H0) at {stat}\")\n"
   ]
  },
  {
   "cell_type": "markdown",
   "id": "fc5149e6",
   "metadata": {},
   "source": [
    "# Mean ROC"
   ]
  },
  {
   "cell_type": "markdown",
   "id": "61c53a6c",
   "metadata": {},
   "source": [
    "## Combined"
   ]
  },
  {
   "cell_type": "code",
   "execution_count": 4,
   "id": "100b474b",
   "metadata": {},
   "outputs": [],
   "source": [
    "df = pd.read_csv(f\"/deep/group/ed-monitor/patient_data_v9/predictions/baseline/test.csv\")\n",
    "y_pred = np.array(df[\"preds\"].tolist())\n",
    "y_true = np.array(df[\"actual\"].tolist())"
   ]
  },
  {
   "cell_type": "code",
   "execution_count": 5,
   "id": "0d9c9e93",
   "metadata": {},
   "outputs": [],
   "source": [
    "roc_baseline = roc_auc_score(y_true, y_pred)\n",
    "base_fpr = np.linspace(0, 1, 101)\n",
    "fpr, tpr, _ = roc_curve(y_true, y_pred)\n",
    "tpr = interp(base_fpr, fpr, tpr)\n",
    "tpr[0] = 0.0\n",
    "\n",
    "fpr_baseline = fpr\n",
    "tpr_baseline = tpr"
   ]
  },
  {
   "cell_type": "code",
   "execution_count": 9,
   "id": "9f7e294e",
   "metadata": {},
   "outputs": [],
   "source": [
    "df = pd.read_csv(f\"/deep/group/ed-monitor/patient_data_v9/predictions/15sec-500hz-1norm-10wpp/II/final-transformer-64/waveform-only/test.csv\")\n",
    "y_pred = np.array(df[\"preds\"].tolist())\n",
    "y_true = np.array(df[\"actual\"].tolist())"
   ]
  },
  {
   "cell_type": "code",
   "execution_count": 10,
   "id": "18354c72",
   "metadata": {},
   "outputs": [
    {
     "name": "stdout",
     "output_type": "stream",
     "text": [
      "0.7260309563294638\n",
      "0.7260309563294638\n"
     ]
    }
   ],
   "source": [
    "roc_waveform = roc_auc_score(y_true, y_pred)\n",
    "base_fpr = np.linspace(0, 1, 101)\n",
    "fpr, tpr, _ = roc_curve(y_true, y_pred)\n",
    "tpr = interp(base_fpr, fpr, tpr)\n",
    "tpr[0] = 0.0\n",
    "\n",
    "fpr_waveform = fpr\n",
    "tpr_waveform = tpr\n",
    "print(roc_waveform)\n",
    "\n",
    "\n",
    "fpr_keras, tpr_keras, thresholds_keras = roc_curve(y_true, y_pred)\n",
    "print(auc(fpr_keras, tpr_keras))\n"
   ]
  },
  {
   "cell_type": "code",
   "execution_count": 11,
   "id": "0d5e55a6",
   "metadata": {},
   "outputs": [],
   "source": [
    "df = pd.read_csv(f\"/deep/group/ed-monitor/patient_data_v9/predictions/15sec-500hz-1norm-10wpp/II/final-transformer-64/waveform-demo-vital-risk/test.csv\")\n",
    "y_pred = np.array(df[\"preds\"].tolist())\n",
    "y_true = np.array(df[\"actual\"].tolist())"
   ]
  },
  {
   "cell_type": "code",
   "execution_count": 12,
   "id": "19655c5b",
   "metadata": {},
   "outputs": [],
   "source": [
    "roc_combined = roc_auc_score(y_true, y_pred)\n",
    "base_fpr = np.linspace(0, 1, 101)\n",
    "fpr, tpr, _ = roc_curve(y_true, y_pred)\n",
    "tpr = interp(base_fpr, fpr, tpr)\n",
    "tpr[0] = 0.0\n",
    "\n",
    "fpr_combined = fpr\n",
    "tpr_combined = tpr"
   ]
  },
  {
   "cell_type": "code",
   "execution_count": 13,
   "id": "21c6dafd",
   "metadata": {},
   "outputs": [
    {
     "data": {
      "text/plain": [
       "<Figure size 640x480 with 0 Axes>"
      ]
     },
     "metadata": {},
     "output_type": "display_data"
    },
    {
     "data": {
      "image/png": "[encoded data removed]",
      "text/plain": [
       "<Figure size 500x500 with 1 Axes>"
      ]
     },
     "metadata": {},
     "output_type": "display_data"
    }
   ],
   "source": [
    "\n",
    "plt.clf()\n",
    "fig, ax = plt.subplots(figsize=(5, 5))\n",
    "\n",
    "ax.plot(1-base_fpr, tpr_baseline, '#e6a02e', label=f\"Patient Features Only               (AUC={round(roc_baseline, 3)})\")\n",
    "ax.plot(1-base_fpr, tpr_waveform, '#2e74e6', label=f\"Waveforms Only                       (AUC={round(roc_waveform, 3)})\")\n",
    "auc = '{0:.3f}'.format(round(roc_combined, 3))\n",
    "ax.plot(1-base_fpr, tpr_combined, '#32a852', label=f\"Waveforms + Patient Features (AUC={auc})\")\n",
    "\n",
    "ax.plot([1, 0], [0, 1], 'k--')\n",
    "ax.set_xlim([-0.01, 1.01])\n",
    "ax.set_ylim([-0.01, 1.01])\n",
    "ax.set_ylabel('Sensitivity')\n",
    "ax.set_xlabel('Specificity')\n",
    "ax.invert_xaxis()\n",
    "ax.legend(loc='lower right')\n",
    "plt.show()"
   ]
  },
  {
   "cell_type": "markdown",
   "id": "0377727d",
   "metadata": {},
   "source": [
    "## Baseline"
   ]
  },
  {
   "cell_type": "code",
   "execution_count": null,
   "id": "1c26dec5",
   "metadata": {},
   "outputs": [],
   "source": [
    "df = pd.read_csv(f\"/deep/group/ed-monitor/patient_data_v9/predictions/baseline/test.csv\")\n",
    "ids_baseline = np.array(df[\"patient_id\"].tolist())\n",
    "y_pred = np.array(df[\"preds\"].tolist())\n",
    "y_true = np.array(df[\"actual\"].tolist())\n",
    "df.head(3)"
   ]
  },
  {
   "cell_type": "code",
   "execution_count": 72,
   "id": "14b2434f",
   "metadata": {},
   "outputs": [
    {
     "name": "stdout",
     "output_type": "stream",
     "text": [
      "Original ROC area: 0.718\n",
      "Confidence interval for the score: [0.678 - 0.757]\n"
     ]
    }
   ],
   "source": [
    "tprs = []\n",
    "auroc = roc_auc_score(y_true, y_pred)\n",
    "base_fpr = np.linspace(0, 1, 101)\n",
    "\n",
    "print(\"Original ROC area: {:0.3f}\".format(roc_auc_score(y_true, y_pred)))\n",
    "\n",
    "n_bootstraps = 1000\n",
    "rng_seed = 42  # control reproducibility\n",
    "bootstrapped_scores = []\n",
    "\n",
    "rng = np.random.RandomState(rng_seed)\n",
    "for i in range(n_bootstraps):\n",
    "    # bootstrap by sampling with replacement on the prediction indices\n",
    "    indices = rng.randint(0, len(y_pred), len(y_pred))\n",
    "    if len(np.unique(y_true[indices])) < 2:\n",
    "        # We need at least one positive and one negative sample for ROC AUC\n",
    "        # to be defined: reject the sample\n",
    "        continue\n",
    "\n",
    "    score = roc_auc_score(y_true[indices], y_pred[indices])\n",
    "    bootstrapped_scores.append(score)\n",
    "    # print(\"Bootstrap #{} ROC area: {:0.3f}\".format(i + 1, score))\n",
    "    \n",
    "    fpr, tpr, _ = roc_curve(y_true[indices], y_pred[indices])\n",
    "    tpr = interp(base_fpr, fpr, tpr)\n",
    "    tpr[0] = 0.0\n",
    "    tprs.append(tpr)\n",
    "\n",
    "sorted_scores = np.array(bootstrapped_scores)\n",
    "sorted_scores.sort()\n",
    "\n",
    "# Computing the lower and upper bound of the 90% confidence interval\n",
    "# You can change the bounds percentiles to 0.025 and 0.975 to get\n",
    "# a 95% confidence interval instead.\n",
    "confidence_lower = sorted_scores[int(0.05 * len(sorted_scores))]\n",
    "confidence_upper = sorted_scores[int(0.95 * len(sorted_scores))]\n",
    "print(\"Confidence interval for the score: [{:0.3f} - {:0.3}]\".format(\n",
    "    confidence_lower, confidence_upper))"
   ]
  },
  {
   "cell_type": "code",
   "execution_count": 5,
   "id": "64509f56",
   "metadata": {},
   "outputs": [],
   "source": [
    "sorted_scores_baseline = sorted_scores"
   ]
  },
  {
   "cell_type": "code",
   "execution_count": 73,
   "id": "af0c1060",
   "metadata": {},
   "outputs": [
    {
     "data": {
      "text/plain": [
       "<Figure size 640x480 with 0 Axes>"
      ]
     },
     "metadata": {},
     "output_type": "display_data"
    },
    {
     "data": {
      "image/png": "[encoded data removed]",
      "text/plain": [
       "<Figure size 500x500 with 1 Axes>"
      ]
     },
     "metadata": {},
     "output_type": "display_data"
    }
   ],
   "source": [
    "\n",
    "tprs = np.array(tprs)\n",
    "mean_tprs = tprs.mean(axis=0)\n",
    "std = tprs.std(axis=0)\n",
    "\n",
    "tprs_upper = np.minimum(mean_tprs + std * 2, 1)\n",
    "tprs_lower = mean_tprs - std * 2\n",
    "\n",
    "plt.clf()\n",
    "fig, ax = plt.subplots(figsize=(5, 5))\n",
    "\n",
    "ax.plot(1-base_fpr, mean_tprs, '#e6a02e', label=f\"Patient Features Only (AUC={round(auroc, 3)})\")\n",
    "ax.fill_between(1-base_fpr, tprs_lower, tprs_upper, color='#e6a02e', alpha=0.1)\n",
    "\n",
    "ax.plot([1, 0], [0, 1], 'k--')\n",
    "ax.set_xlim([-0.01, 1.01])\n",
    "ax.set_ylim([-0.01, 1.01])\n",
    "ax.set_ylabel('Sensitivity')\n",
    "ax.set_xlabel('Specificity')\n",
    "ax.invert_xaxis()\n",
    "ax.legend(loc='lower right')\n",
    "plt.show()"
   ]
  },
  {
   "cell_type": "markdown",
   "id": "a535e6b8",
   "metadata": {},
   "source": [
    "## Waveform"
   ]
  },
  {
   "cell_type": "code",
   "execution_count": null,
   "id": "157db4ba",
   "metadata": {},
   "outputs": [],
   "source": []
  },
  {
   "cell_type": "code",
   "execution_count": null,
   "id": "8fc55220",
   "metadata": {},
   "outputs": [],
   "source": [
    "df = pd.read_csv(f\"/deep/group/ed-monitor/patient_data_v9/predictions/15sec-500hz-1norm-10wpp/II/final-transformer-64/waveform-only/test.csv\")\n",
    "ids_waveform = np.array(df[\"patient_id\"].tolist())\n",
    "y_pred = np.array(df[\"preds\"].tolist())\n",
    "y_true = np.array(df[\"actual\"].tolist())\n",
    "df.head(3)"
   ]
  },
  {
   "cell_type": "code",
   "execution_count": 18,
   "id": "c4a8690e",
   "metadata": {},
   "outputs": [
    {
     "name": "stdout",
     "output_type": "stream",
     "text": [
      "Original ROC area: 0.726\n",
      "Confidence interval for the score: [0.690 - 0.76]\n"
     ]
    }
   ],
   "source": [
    "tprs = []\n",
    "auroc = roc_auc_score(y_true, y_pred)\n",
    "base_fpr = np.linspace(0, 1, 101)\n",
    "\n",
    "print(\"Original ROC area: {:0.3f}\".format(roc_auc_score(y_true, y_pred)))\n",
    "\n",
    "n_bootstraps = 1000\n",
    "rng_seed = 42  # control reproducibility\n",
    "bootstrapped_scores = []\n",
    "\n",
    "rng = np.random.RandomState(rng_seed)\n",
    "for i in range(n_bootstraps):\n",
    "    # bootstrap by sampling with replacement on the prediction indices\n",
    "    indices = rng.randint(0, len(y_pred), len(y_pred))\n",
    "    if len(np.unique(y_true[indices])) < 2:\n",
    "        # We need at least one positive and one negative sample for ROC AUC\n",
    "        # to be defined: reject the sample\n",
    "        continue\n",
    "\n",
    "    score = roc_auc_score(y_true[indices], y_pred[indices])\n",
    "    bootstrapped_scores.append(score)\n",
    "    # print(\"Bootstrap #{} ROC area: {:0.3f}\".format(i + 1, score))\n",
    "    \n",
    "    fpr, tpr, _ = roc_curve(y_true[indices], y_pred[indices])\n",
    "    tpr = interp(base_fpr, fpr, tpr)\n",
    "    tpr[0] = 0.0\n",
    "    tprs.append(tpr)\n",
    "\n",
    "sorted_scores = np.array(bootstrapped_scores)\n",
    "sorted_scores.sort()\n",
    "\n",
    "# Computing the lower and upper bound of the 90% confidence interval\n",
    "# You can change the bounds percentiles to 0.025 and 0.975 to get\n",
    "# a 95% confidence interval instead.\n",
    "confidence_lower = sorted_scores[int(0.05 * len(sorted_scores))]\n",
    "confidence_upper = sorted_scores[int(0.95 * len(sorted_scores))]\n",
    "print(\"Confidence interval for the score: [{:0.3f} - {:0.3}]\".format(\n",
    "    confidence_lower, confidence_upper))"
   ]
  },
  {
   "cell_type": "code",
   "execution_count": 19,
   "id": "9d51225b",
   "metadata": {},
   "outputs": [],
   "source": [
    "sorted_scores_waveforms = sorted_scores"
   ]
  },
  {
   "cell_type": "code",
   "execution_count": 16,
   "id": "cd4d67bc",
   "metadata": {},
   "outputs": [
    {
     "data": {
      "text/plain": [
       "<Figure size 640x480 with 0 Axes>"
      ]
     },
     "metadata": {},
     "output_type": "display_data"
    },
    {
     "data": {
      "image/png": "[encoded data removed]",
      "text/plain": [
       "<Figure size 500x500 with 1 Axes>"
      ]
     },
     "metadata": {},
     "output_type": "display_data"
    }
   ],
   "source": [
    "\n",
    "tprs = np.array(tprs)\n",
    "mean_tprs = tprs.mean(axis=0)\n",
    "std = tprs.std(axis=0)\n",
    "\n",
    "tprs_upper = np.minimum(mean_tprs + std * 2, 1)\n",
    "tprs_lower = mean_tprs - std * 2\n",
    "\n",
    "plt.clf()\n",
    "fig, ax = plt.subplots(figsize=(5, 5))\n",
    "\n",
    "ax.plot(1-base_fpr, mean_tprs, '#2e74e6', label=f\"Waveforms Only (AUC={round(auroc, 3)})\")\n",
    "ax.fill_between(1-base_fpr, tprs_lower, tprs_upper, color='#2e74e6', alpha=0.1)\n",
    "\n",
    "ax.plot([1, 0], [0, 1], 'k--')\n",
    "ax.set_xlim([-0.01, 1.01])\n",
    "ax.set_ylim([-0.01, 1.01])\n",
    "ax.set_ylabel('Sensitivity')\n",
    "ax.set_xlabel('Specificity')\n",
    "ax.invert_xaxis()\n",
    "ax.legend(loc='lower right')\n",
    "plt.show()"
   ]
  },
  {
   "cell_type": "markdown",
   "id": "8d621a16",
   "metadata": {},
   "source": [
    "## Waveform + Patient ROC"
   ]
  },
  {
   "cell_type": "code",
   "execution_count": null,
   "id": "6a04eefd",
   "metadata": {},
   "outputs": [],
   "source": [
    "df = pd.read_csv(f\"/deep/group/ed-monitor/patient_data_v9/predictions/15sec-500hz-1norm-10wpp/II/final-transformer-64/waveform-demo-vital-risk/test.csv\")\n",
    "ids_best = np.array(df[\"patient_id\"].tolist())\n",
    "y_pred = np.array(df[\"preds\"].tolist())\n",
    "y_true = np.array(df[\"actual\"].tolist())\n",
    "df.head(3)"
   ]
  },
  {
   "cell_type": "code",
   "execution_count": 7,
   "id": "8ba31edc",
   "metadata": {},
   "outputs": [
    {
     "name": "stdout",
     "output_type": "stream",
     "text": [
      "Original ROC area: 0.760\n",
      "Confidence interval for the score: [0.727 - 0.794]\n"
     ]
    }
   ],
   "source": [
    "tprs = []\n",
    "auroc = roc_auc_score(y_true, y_pred)\n",
    "base_fpr = np.linspace(0, 1, 101)\n",
    "\n",
    "print(\"Original ROC area: {:0.3f}\".format(roc_auc_score(y_true, y_pred)))\n",
    "\n",
    "n_bootstraps = 1000\n",
    "rng_seed = 42  # control reproducibility\n",
    "bootstrapped_scores = []\n",
    "\n",
    "rng = np.random.RandomState(rng_seed)\n",
    "for i in range(n_bootstraps):\n",
    "    # bootstrap by sampling with replacement on the prediction indices\n",
    "    indices = rng.randint(0, len(y_pred), len(y_pred))\n",
    "    if len(np.unique(y_true[indices])) < 2:\n",
    "        # We need at least one positive and one negative sample for ROC AUC\n",
    "        # to be defined: reject the sample\n",
    "        continue\n",
    "\n",
    "    score = roc_auc_score(y_true[indices], y_pred[indices])\n",
    "    bootstrapped_scores.append(score)\n",
    "    # print(\"Bootstrap #{} ROC area: {:0.3f}\".format(i + 1, score))\n",
    "    \n",
    "    fpr, tpr, _ = roc_curve(y_true[indices], y_pred[indices])\n",
    "    tpr = interp(base_fpr, fpr, tpr)\n",
    "    tpr[0] = 0.0\n",
    "    tprs.append(tpr)\n",
    "\n",
    "sorted_scores = np.array(bootstrapped_scores)\n",
    "sorted_scores.sort()\n",
    "\n",
    "# Computing the lower and upper bound of the 90% confidence interval\n",
    "# You can change the bounds percentiles to 0.025 and 0.975 to get\n",
    "# a 95% confidence interval instead.\n",
    "confidence_lower = sorted_scores[int(0.05 * len(sorted_scores))]\n",
    "confidence_upper = sorted_scores[int(0.95 * len(sorted_scores))]\n",
    "print(\"Confidence interval for the score: [{:0.3f} - {:0.3}]\".format(\n",
    "    confidence_lower, confidence_upper))"
   ]
  },
  {
   "cell_type": "code",
   "execution_count": 8,
   "id": "7f688df0",
   "metadata": {},
   "outputs": [],
   "source": [
    "sorted_scores_best = sorted_scores"
   ]
  },
  {
   "cell_type": "code",
   "execution_count": 79,
   "id": "fa20e426",
   "metadata": {},
   "outputs": [
    {
     "data": {
      "text/plain": [
       "<Figure size 640x480 with 0 Axes>"
      ]
     },
     "metadata": {},
     "output_type": "display_data"
    },
    {
     "data": {
      "image/png": "[encoded data removed]",
      "text/plain": [
       "<Figure size 500x500 with 1 Axes>"
      ]
     },
     "metadata": {},
     "output_type": "display_data"
    }
   ],
   "source": [
    "\n",
    "tprs = np.array(tprs)\n",
    "mean_tprs = tprs.mean(axis=0)\n",
    "std = tprs.std(axis=0)\n",
    "\n",
    "tprs_upper = np.minimum(mean_tprs + std * 2, 1)\n",
    "tprs_lower = mean_tprs - std * 2\n",
    "\n",
    "plt.clf()\n",
    "fig, ax = plt.subplots(figsize=(5, 5))\n",
    "auc = '{0:.3f}'.format(round(roc_combined, 3))\n",
    "ax.plot(1-base_fpr, mean_tprs, '#32a852', label=f\"Waveforms + Patient Features (AUC={auc})\")\n",
    "ax.fill_between(1-base_fpr, tprs_lower, tprs_upper, color='#32a852', alpha=0.1)\n",
    "\n",
    "ax.plot([1, 0], [0, 1], 'k--')\n",
    "ax.set_xlim([-0.01, 1.01])\n",
    "ax.set_ylim([-0.01, 1.01])\n",
    "ax.set_ylabel('Sensitivity')\n",
    "ax.set_xlabel('Specificity')\n",
    "ax.invert_xaxis()\n",
    "ax.legend(loc='lower right')\n",
    "plt.show()"
   ]
  },
  {
   "cell_type": "markdown",
   "id": "8747443f",
   "metadata": {},
   "source": [
    "# Baseline vs Model Statistical Tests"
   ]
  },
  {
   "cell_type": "code",
   "execution_count": 83,
   "id": "4b9d89ed",
   "metadata": {},
   "outputs": [],
   "source": [
    "df_nonpretrained = pd.read_csv(f\"/deep/group/ed-monitor/patient_data_v9/waveforms/15sec-500hz-1norm-1wpp/II/transformer-64-scratch/test.csv\")\n",
    "df_baseline = pd.read_csv(f\"/deep/group/ed-monitor/patient_data_v9/predictions/baseline/test.csv\")\n",
    "df_waveform = pd.read_csv(f\"/deep/group/ed-monitor/patient_data_v9/predictions/15sec-500hz-1norm-10wpp/II/final-transformer-64/waveform-only/test.csv\")\n",
    "df_best = pd.read_csv(f\"/deep/group/ed-monitor/patient_data_v9/predictions/15sec-500hz-1norm-10wpp/II/final-transformer-64/waveform-demo-vital-risk/test.csv\")\n",
    "\n",
    "df_nonpretrained = df_nonpretrained.sort_values([\"patient_id\"])\n",
    "df_baseline = df_baseline.sort_values([\"patient_id\"])\n",
    "df_waveform = df_waveform.sort_values([\"patient_id\"])\n",
    "df_best = df_best.sort_values([\"patient_id\"])\n"
   ]
  },
  {
   "cell_type": "code",
   "execution_count": null,
   "id": "be4d9c38",
   "metadata": {},
   "outputs": [],
   "source": [
    "df_baseline.head(3)"
   ]
  },
  {
   "cell_type": "code",
   "execution_count": 85,
   "id": "ea18d5b4",
   "metadata": {},
   "outputs": [
    {
     "name": "stdout",
     "output_type": "stream",
     "text": [
      "ok\n"
     ]
    }
   ],
   "source": [
    "assert df_nonpretrained[\"patient_id\"].tolist() == df_baseline[\"patient_id\"].tolist()\n",
    "assert df_waveform[\"patient_id\"].tolist() == df_baseline[\"patient_id\"].tolist()\n",
    "assert df_best[\"patient_id\"].tolist() == df_baseline[\"patient_id\"].tolist()\n",
    "print(\"ok\")"
   ]
  },
  {
   "cell_type": "code",
   "execution_count": 86,
   "id": "a273b490",
   "metadata": {},
   "outputs": [
    {
     "name": "stderr",
     "output_type": "stream",
     "text": [
      "100%|██████████| 10000/10000 [05:01<00:00, 33.19it/s]\n",
      "100%|██████████| 10000/10000 [04:59<00:00, 33.39it/s]\n",
      "100%|██████████| 10000/10000 [04:59<00:00, 33.39it/s]\n",
      "100%|██████████| 10000/10000 [05:00<00:00, 33.22it/s]\n"
     ]
    }
   ],
   "source": [
    "df_nonpretrained = pd.read_csv(f\"/deep/group/ed-monitor/patient_data_v9/waveforms/15sec-500hz-1norm-1wpp/II/transformer-64-scratch/test.csv\")\n",
    "df_baseline = pd.read_csv(f\"/deep/group/ed-monitor/patient_data_v9/predictions/baseline/test.csv\")\n",
    "df_waveform = pd.read_csv(f\"/deep/group/ed-monitor/patient_data_v9/predictions/15sec-500hz-1norm-10wpp/II/final-transformer-64/waveform-only/test.csv\")\n",
    "df_best = pd.read_csv(f\"/deep/group/ed-monitor/patient_data_v9/predictions/15sec-500hz-1norm-10wpp/II/final-transformer-64/waveform-demo-vital-risk/test.csv\")\n",
    "\n",
    "nonpretrained_aucs, nonpretrained_auprcs = get_bootstrap_metrics(df_nonpretrained[\"preds\"].tolist(), df_nonpretrained[\"actual\"].tolist())\n",
    "baseline_aucs, baseline_auprcs = get_bootstrap_metrics(df_baseline[\"preds\"].tolist(), df_baseline[\"actual\"].tolist())\n",
    "waveforms_aucs, waveforms_auprcs = get_bootstrap_metrics(df_waveform[\"preds\"].tolist(), df_waveform[\"actual\"].tolist())\n",
    "best_aucs, best_auprcs = get_bootstrap_metrics(df_best[\"preds\"].tolist(), df_best[\"actual\"].tolist())"
   ]
  },
  {
   "cell_type": "code",
   "execution_count": 87,
   "id": "80f608f8",
   "metadata": {},
   "outputs": [],
   "source": [
    "def get_ci(bootstrap_aucs, bootstrap_auprcs, y_actual, y_pred, alpha=0.95):\n",
    "    p = ((1.0-alpha)/2.0) * 100\n",
    "    lower = max(0.0, np.percentile(bootstrap_aucs, p))\n",
    "    p = (alpha+((1.0-alpha)/2.0)) * 100\n",
    "    upper = min(1.0, np.percentile(bootstrap_aucs, p))\n",
    "\n",
    "    auc_ci = [round(lower, 3), round(upper, 3)]\n",
    "\n",
    "    fpr_keras, tpr_keras, thresholds_keras = roc_curve(y_actual, y_pred)\n",
    "    auc_keras = auc(fpr_keras, tpr_keras)\n",
    "\n",
    "    p = ((1.0-alpha)/2.0) * 100\n",
    "    lower = max(0.0, np.percentile(bootstrap_auprcs, p))\n",
    "    p = (alpha+((1.0-alpha)/2.0)) * 100\n",
    "    upper = min(1.0, np.percentile(bootstrap_auprcs, p))\n",
    "\n",
    "    auprc_ci = [round(lower, 3), round(upper, 3)]\n",
    "\n",
    "    precision, recall, _ = precision_recall_curve(y_actual, y_pred)\n",
    "    auprc = auc(recall, precision)\n",
    "\n",
    "    print(f\"[Bootstrap] AUC={round(auc_keras, 3)}, 95% CI={auc_ci}; AUPRC={round(auprc, 3)}, 95% CI={auprc_ci}\")\n"
   ]
  },
  {
   "cell_type": "code",
   "execution_count": 88,
   "id": "7f4e20ac",
   "metadata": {},
   "outputs": [
    {
     "name": "stdout",
     "output_type": "stream",
     "text": [
      "[Bootstrap] AUC=0.659, 95% CI=[0.611, 0.706]; AUPRC=0.206, 95% CI=[0.16, 0.267]\n"
     ]
    }
   ],
   "source": [
    "get_ci(nonpretrained_aucs, nonpretrained_auprcs, df_nonpretrained[\"actual\"].tolist(), df_nonpretrained[\"preds\"].tolist())"
   ]
  },
  {
   "cell_type": "code",
   "execution_count": 89,
   "id": "fef5b658",
   "metadata": {},
   "outputs": [
    {
     "name": "stdout",
     "output_type": "stream",
     "text": [
      "[Bootstrap] AUC=0.718, 95% CI=[0.673, 0.761]; AUPRC=0.247, 95% CI=[0.196, 0.313]\n"
     ]
    }
   ],
   "source": [
    "get_ci(baseline_aucs, baseline_auprcs, df_baseline[\"actual\"].tolist(), df_baseline[\"preds\"].tolist())"
   ]
  },
  {
   "cell_type": "code",
   "execution_count": 90,
   "id": "ce0fcd7a",
   "metadata": {},
   "outputs": [
    {
     "name": "stdout",
     "output_type": "stream",
     "text": [
      "[Bootstrap] AUC=0.726, 95% CI=[0.684, 0.766]; AUPRC=0.265, 95% CI=[0.204, 0.336]\n"
     ]
    }
   ],
   "source": [
    "get_ci(waveforms_aucs, waveforms_auprcs, df_waveform[\"actual\"].tolist(), df_waveform[\"preds\"].tolist())"
   ]
  },
  {
   "cell_type": "code",
   "execution_count": 91,
   "id": "1d2f3d6b",
   "metadata": {},
   "outputs": [
    {
     "name": "stdout",
     "output_type": "stream",
     "text": [
      "[Bootstrap] AUC=0.76, 95% CI=[0.721, 0.799]; AUPRC=0.321, 95% CI=[0.251, 0.397]\n"
     ]
    }
   ],
   "source": [
    "get_ci(best_aucs, best_auprcs, df_best[\"actual\"].tolist(), df_best[\"preds\"].tolist())"
   ]
  },
  {
   "cell_type": "code",
   "execution_count": 99,
   "id": "23bc7fdb",
   "metadata": {},
   "outputs": [],
   "source": [
    "def get_ci_diff(left_aucs, right_aucs, y_actual1, y_pred1, y_actual2, y_pred2, alpha=0.95):\n",
    "    diffs = np.subtract(left_aucs, right_aucs)\n",
    "    assert len(diffs) == 10000\n",
    "    \n",
    "    p = ((1.0-alpha)/2.0) * 100\n",
    "    # lower = max(0.0, np.percentile(diffs, p))\n",
    "#     print(p)\n",
    "    lower = np.percentile(diffs, p)\n",
    "    p = (alpha+((1.0-alpha)/2.0)) * 100\n",
    "#     print(p)\n",
    "    upper = min(1.0, np.percentile(diffs, p))\n",
    "\n",
    "    auc_ci = [round(lower, 3), round(upper, 3)]\n",
    "    \n",
    "    fpr_keras1, tpr_keras1, _ = roc_curve(y_actual1, y_pred1)\n",
    "    auc_keras1 = auc(fpr_keras1, tpr_keras1)\n",
    "    fpr_keras2, tpr_keras2, _ = roc_curve(y_actual2, y_pred2)\n",
    "    auc_keras2 = auc(fpr_keras2, tpr_keras2)\n",
    "    print(auc_keras1, auc_keras2)\n",
    "\n",
    "    print(f\"[Bootstrap] DIFF={round(auc_keras1 - auc_keras2, 3)} 95% CI={auc_ci}\")\n",
    "    "
   ]
  },
  {
   "cell_type": "code",
   "execution_count": 100,
   "id": "8cfa3c38",
   "metadata": {},
   "outputs": [
    {
     "name": "stdout",
     "output_type": "stream",
     "text": [
      "0.7604643449419568 0.7175511332227751\n",
      "[Bootstrap] DIFF=0.043 95% CI=[0.011, 0.076]\n"
     ]
    }
   ],
   "source": [
    "# Best - Baseline\n",
    "get_ci_diff(best_aucs, baseline_aucs, df_best[\"actual\"].tolist(), df_best[\"preds\"].tolist(), df_baseline[\"actual\"].tolist(), df_baseline[\"preds\"].tolist())\n",
    "\n"
   ]
  },
  {
   "cell_type": "code",
   "execution_count": 101,
   "id": "a4ee0564",
   "metadata": {},
   "outputs": [
    {
     "name": "stdout",
     "output_type": "stream",
     "text": [
      "0.7260309563294638 0.7175511332227751\n",
      "[Bootstrap] DIFF=0.008 95% CI=[-0.039, 0.055]\n"
     ]
    }
   ],
   "source": [
    "# Waveform only - Baseline\n",
    "get_ci_diff(waveforms_aucs, baseline_aucs, df_waveform[\"actual\"].tolist(), df_waveform[\"preds\"].tolist(), df_baseline[\"actual\"].tolist(), df_baseline[\"preds\"].tolist())\n",
    "\n"
   ]
  },
  {
   "cell_type": "code",
   "execution_count": 102,
   "id": "e6552204",
   "metadata": {},
   "outputs": [
    {
     "name": "stdout",
     "output_type": "stream",
     "text": [
      "0.7175511332227751 0.6590049751243781\n",
      "[Bootstrap] DIFF=0.059 95% CI=[0.008, 0.109]\n"
     ]
    }
   ],
   "source": [
    "# Baseline - Non-Pretrained\n",
    "get_ci_diff(baseline_aucs, nonpretrained_aucs, df_baseline[\"actual\"].tolist(), df_baseline[\"preds\"].tolist(), df_nonpretrained[\"actual\"].tolist(), df_nonpretrained[\"preds\"].tolist())\n",
    "\n"
   ]
  },
  {
   "cell_type": "code",
   "execution_count": 103,
   "id": "d9a26367",
   "metadata": {},
   "outputs": [
    {
     "name": "stdout",
     "output_type": "stream",
     "text": [
      "0.7260309563294638 0.6590049751243781\n",
      "[Bootstrap] DIFF=0.067 95% CI=[0.028, 0.107]\n"
     ]
    }
   ],
   "source": [
    "# Waveform only - Non-Pretrained\n",
    "get_ci_diff(waveforms_aucs, nonpretrained_aucs, df_waveform[\"actual\"].tolist(), df_waveform[\"preds\"].tolist(), df_nonpretrained[\"actual\"].tolist(), df_nonpretrained[\"preds\"].tolist())\n",
    "\n"
   ]
  },
  {
   "cell_type": "markdown",
   "id": "19be7a80",
   "metadata": {},
   "source": [
    "# Lead Time"
   ]
  },
  {
   "cell_type": "code",
   "execution_count": 88,
   "id": "1b1a978c",
   "metadata": {},
   "outputs": [
    {
     "data": {
      "text/plain": [
       "<Figure size 640x480 with 0 Axes>"
      ]
     },
     "metadata": {},
     "output_type": "display_data"
    },
    {
     "data": {
      "image/png": "[encoded data removed]",
      "text/plain": [
       "<Figure size 900x500 with 1 Axes>"
      ]
     },
     "metadata": {},
     "output_type": "display_data"
    }
   ],
   "source": [
    "from sklearn import metrics\n",
    "import numpy as np\n",
    "import matplotlib.pyplot as plt\n",
    "\n",
    "plt.close()\n",
    "plt.figure(0).clf()\n",
    "a4_dims = (9, 5)\n",
    "fig, ax = plt.subplots(figsize=a4_dims)\n",
    "\n",
    "single_window_x = [0, 1, 2, 3, 4]\n",
    "single_window_y = [0.709, 0.694, 0.662, 0.658, 0.590]\n",
    "\n",
    "random_window_x = [1, 2, 3, 4]\n",
    "random_window_y = [0.726, 0.725, 0.723, 0.723]\n",
    "\n",
    "all_window_x = [1, 2, 3, 4]\n",
    "all_window_y = [0.702, 0.699, 0.696, 0.695]\n",
    "\n",
    "all_window_avg_x = [1, 2, 3, 4]\n",
    "all_window_avg_y = [0.730, 0.728, 0.728, 0.727]\n",
    "\n",
    "ax.set_xlabel('Lead Time (Hours)')\n",
    "ax.set_ylabel('Averaged Test AUROC')\n",
    "\n",
    "ax.plot(single_window_x, single_window_y, label='Single Window', marker='o', color=\"#F57C00\")\n",
    "ax.plot(random_window_x, random_window_y, label='10 Random Windows', marker='o', color=\"#448AFF\")\n",
    "ax.plot(all_window_x, all_window_y, label='All Windows (Max)', marker='o', color=\"#009688\")\n",
    "ax.plot(all_window_avg_x, all_window_avg_y, label='All Windows (Avg)', marker='o', color=\"#fc037f\")\n",
    "\n",
    "ax.grid()\n",
    "ax.legend(loc=0)\n",
    "\n",
    "plt.show()\n",
    "# plt.savefig(\"LT5_AUPRC.eps\")"
   ]
  },
  {
   "cell_type": "markdown",
   "id": "8e9f0d41",
   "metadata": {},
   "source": [
    "### Logits Over Time"
   ]
  },
  {
   "cell_type": "code",
   "execution_count": null,
   "id": "6f946869",
   "metadata": {},
   "outputs": [],
   "source": [
    "acs_start_to_outputs = {}\n",
    "nonacs_start_to_outputs = {}\n",
    "\n",
    "def add_to_start_to_outputs(k, v, is_acs):\n",
    "    assert k % 7500 == 0\n",
    "    if is_acs:\n",
    "        if k not in acs_start_to_outputs:\n",
    "            acs_start_to_outputs[k] = []\n",
    "        acs_start_to_outputs[k].append(v)\n",
    "    else:\n",
    "        if k not in nonacs_start_to_outputs:\n",
    "            nonacs_start_to_outputs[k] = []\n",
    "        nonacs_start_to_outputs[k].append(v)\n",
    "\n",
    "for i in range(10):\n",
    "    df = pd.read_csv(f\"/deep/group/ed-monitor/experiments-v8/prna-128-15-leadtime-14400-all/training/{i}/logits.csv\")\n",
    "    df = df.sort_values([\"patient_id\", \"start_offset\"])\n",
    "    start = None\n",
    "    patient_id_to_start = {}\n",
    "    for i, row in tqdm(df.iterrows()):\n",
    "        patient_id = int(row[\"patient_id\"])\n",
    "        \n",
    "        label = int(row[\"label\"])\n",
    "        output = float(row[\"output\"])\n",
    "        start_offset = float(row[\"start_offset\"])\n",
    "        if patient_id not in patient_id_to_start:\n",
    "            patient_id_to_start[patient_id] = start_offset\n",
    "            start = start_offset\n",
    "\n",
    "#         # There are quality checks, so make sure we properly account for them\n",
    "#         num_windows_skipped = int((start_offset - start) / 7500)\n",
    "#         for w in range(num_windows_skipped):\n",
    "#             # Waveform was skipped because it was bad...\n",
    "#             patient_id_to_outputs[patient_id].append(float(\"nan\"))\n",
    "\n",
    "        if label == 1:\n",
    "            add_to_start_to_outputs((start_offset - start), output, True)\n",
    "        else:\n",
    "            add_to_start_to_outputs((start_offset - start), output, False)\n"
   ]
  },
  {
   "cell_type": "code",
   "execution_count": null,
   "id": "bf57fe30",
   "metadata": {},
   "outputs": [],
   "source": [
    "acs_mean_logits = []\n",
    "acs_std_logits = []\n",
    "acs_x = []\n",
    "nonacs_mean_logits = []\n",
    "nonacs_std_logits = []\n",
    "nonacs_x = []\n",
    "\n",
    "for k in sorted(list(acs_start_to_outputs.keys())):\n",
    "    acs_mean_logits.append(np.mean(acs_start_to_outputs[k]))\n",
    "    acs_std_logits.append(np.std(acs_start_to_outputs[k]))\n",
    "    acs_x.append(k / (60*500))\n",
    "    if int(k / (60*500)) > 270:\n",
    "        # stop at 4 hours\n",
    "        break\n",
    "    \n",
    "for k in sorted(list(nonacs_start_to_outputs.keys())):\n",
    "    nonacs_mean_logits.append(np.mean(nonacs_start_to_outputs[k]))\n",
    "    nonacs_std_logits.append(np.std(nonacs_start_to_outputs[k]))\n",
    "    nonacs_x.append(k / (60*500))\n",
    "    if int(k / (60*500)) > 270:\n",
    "        # stop at 4.5 hours\n",
    "        break\n"
   ]
  },
  {
   "cell_type": "code",
   "execution_count": null,
   "id": "48a24219",
   "metadata": {},
   "outputs": [],
   "source": [
    "len(np.array(nonacs_x) - np.array(nonacs_mean_logits))"
   ]
  },
  {
   "cell_type": "code",
   "execution_count": null,
   "id": "ed5e6450",
   "metadata": {},
   "outputs": [],
   "source": [
    "from sklearn import metrics\n",
    "import numpy as np\n",
    "import matplotlib.pyplot as plt\n",
    "\n",
    "plt.close()\n",
    "plt.figure(0).clf()\n",
    "a4_dims = (9, 5)\n",
    "fig, ax = plt.subplots(figsize=a4_dims)\n",
    "\n",
    "ax.set_xlabel('Lead Time (Minutes)')\n",
    "ax.set_ylabel('Mean Output Probability')\n",
    "\n",
    "ax.fill_between(acs_x, np.array(acs_mean_logits) - np.array(acs_std_logits), \n",
    "                np.array(acs_mean_logits) + np.array(acs_std_logits), color=\"#F57C00\", alpha=0.1)\n",
    "ax.fill_between(nonacs_x, np.array(nonacs_mean_logits) - np.array(nonacs_std_logits), \n",
    "                np.array(nonacs_mean_logits) + np.array(nonacs_std_logits), color=\"#448AFF\", alpha=0.1)\n",
    "ax.scatter(acs_x, acs_mean_logits, label='Myocardial Injury', color=\"#F57C00\", s=0.5)\n",
    "ax.scatter(nonacs_x, nonacs_mean_logits, label='No Myocardial Injury', color=\"#448AFF\", s=0.5)\n",
    "\n",
    "ax.grid()\n",
    "ax.legend(loc=0)\n",
    "plt.show()"
   ]
  },
  {
   "cell_type": "code",
   "execution_count": null,
   "id": "f381fa88",
   "metadata": {},
   "outputs": [],
   "source": []
  },
  {
   "cell_type": "code",
   "execution_count": null,
   "id": "f44bd4ad",
   "metadata": {},
   "outputs": [],
   "source": []
  }
 ],
 "metadata": {
  "kernelspec": {
   "display_name": "Python 3",
   "language": "python",
   "name": "python3"
  },
  "language_info": {
   "codemirror_mode": {
    "name": "ipython",
    "version": 3
   },
   "file_extension": ".py",
   "mimetype": "text/x-python",
   "name": "python",
   "nbconvert_exporter": "python",
   "pygments_lexer": "ipython3",
   "version": "3.7.10"
  }
 },
 "nbformat": 4,
 "nbformat_minor": 5
}
