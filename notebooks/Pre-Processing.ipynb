{
 "cells": [
  {
   "cell_type": "markdown",
   "id": "a50f1a87",
   "metadata": {},
   "source": [
    "## Pre-Processing (V9)\n",
    "\n",
    "ED files from Aug 2020 to Sept 2021\n"
   ]
  },
  {
   "cell_type": "code",
   "execution_count": 1,
   "id": "4453682c",
   "metadata": {},
   "outputs": [],
   "source": [
    "import os\n",
    "import sys\n",
    "import numpy as np\n",
    "import matplotlib.pyplot as plt\n",
    "import random\n",
    "import pickle\n",
    "import pandas as pd\n",
    "import datetime\n",
    "from tqdm import tqdm\n",
    "from pathlib import Path\n",
    "import re\n",
    "from sklearn.model_selection import train_test_split\n",
    "\n",
    "pd.set_option('display.max_columns', None)"
   ]
  },
  {
   "cell_type": "code",
   "execution_count": null,
   "id": "ef04a62a",
   "metadata": {},
   "outputs": [],
   "source": [
    "df = pd.read_csv(\"/deep/group/ed-monitor/patient_data_v9/trop_cohort_v5_with_PMH.csv\")\n",
    "print(df.shape)\n",
    "print(sum(df[\"Case_for_train\"]))\n",
    "df.head(3)"
   ]
  },
  {
   "cell_type": "code",
   "execution_count": null,
   "id": "5310fc19",
   "metadata": {},
   "outputs": [],
   "source": [
    "df[\"Zero_trop\"] = df.apply(lambda row: row[\"Max_trop\"] == 0, axis=1)\n",
    "df.head(3)"
   ]
  },
  {
   "cell_type": "code",
   "execution_count": null,
   "id": "b740e52e",
   "metadata": {},
   "outputs": [],
   "source": []
  },
  {
   "cell_type": "markdown",
   "id": "d0ef640d",
   "metadata": {},
   "source": [
    "## Perform Matching"
   ]
  },
  {
   "cell_type": "markdown",
   "id": "2f6b6996",
   "metadata": {},
   "source": [
    "**This file above was then sent through the match.py script to produced a subset containing matched beds**\n",
    "\n",
    "```\n",
    "python /deep/u/tomjin/ed-monitor-data/processing/match.py -ci /deep/group/ed-monitor/patient_data_v9/trop_cohort_v5_with_PMH.csv -ef /deep/group/ed-monitor/2020_08_23_2020_09_23,/deep/group/ed-monitor/2020_09_23_2020_11_30,/deep/group/ed-monitor/2020_11_30_2020_12_31,/deep/group/ed-monitor/2021_01_01_2021_01_31,/deep/group/ed-monitor/2021_02_01_2021_02_28,/deep/group/ed-monitor/2021_03_01_2021_03_31,/deep/group/ed-monitor/2021_04_01_2021_05_12,/deep/group/ed-monitor/2021_05_13_2021_05_31,/deep/group/ed-monitor/2021_06_01_2021_06_30,/deep/group/ed-monitor/2021_07_01_2021_07_31,/deep/group/ed-monitor/2021_08_01_2021_09_16 -co /deep/group/ed-monitor/patient_data_v9/matched-cohort.csv -eo /deep/group/ed-monitor/patient_data_v9/matched-export.csv\n",
    "```"
   ]
  },
  {
   "cell_type": "markdown",
   "id": "a489959c",
   "metadata": {},
   "source": [
    "```\n",
    "After eliminating patients who moved beds: (22260, 52)\n",
    "After eliminating patients who had invalid times: (22034, 52)\n",
    "\n",
    "```"
   ]
  },
  {
   "cell_type": "code",
   "execution_count": 4,
   "id": "3a9a6521",
   "metadata": {},
   "outputs": [
    {
     "name": "stdout",
     "output_type": "stream",
     "text": [
      "-rw-rw-r-- 1 tomjin deeplearning 9568797 Sep 27 23:59 /deep/group/ed-monitor/patient_data_v9/matched-cohort.csv\n"
     ]
    }
   ],
   "source": [
    "!ls -l /deep/group/ed-monitor/patient_data_v9/matched-cohort.csv"
   ]
  },
  {
   "cell_type": "code",
   "execution_count": 57,
   "id": "6fe72440",
   "metadata": {},
   "outputs": [],
   "source": [
    "df = pd.read_csv(\"/deep/group/ed-monitor/patient_data_v9/matched-cohort.csv\")"
   ]
  },
  {
   "cell_type": "code",
   "execution_count": null,
   "id": "52080fa3",
   "metadata": {},
   "outputs": [],
   "source": [
    "df.head(3)"
   ]
  },
  {
   "cell_type": "code",
   "execution_count": 58,
   "id": "679d0e9a",
   "metadata": {},
   "outputs": [
    {
     "name": "stdout",
     "output_type": "stream",
     "text": [
      "(17797, 56)\n",
      "1614\n"
     ]
    }
   ],
   "source": [
    "print(df.shape)\n",
    "print(sum(df[\"Case_for_train\"]))"
   ]
  },
  {
   "cell_type": "markdown",
   "id": "890debd4",
   "metadata": {},
   "source": [
    "## Perform Consolidation"
   ]
  },
  {
   "cell_type": "markdown",
   "id": "d3c410d1",
   "metadata": {},
   "source": [
    "**This file above was then sent through the consolidate.py script to produce matching beds**\n",
    "\n",
    "```\n",
    "python -u /deep/group/ed-monitor/patient_data_v9/matched-cohort.csv /deep/group/ed-monitor/patient_data_v9/matched-export.csv /deep/group/ed-monitor/patient_data_v9 /deep/group/ed-monitor/patient_data_v9/consolidated.csv\n",
    "```"
   ]
  },
  {
   "cell_type": "code",
   "execution_count": null,
   "id": "5a83b1cd",
   "metadata": {},
   "outputs": [],
   "source": [
    "df = pd.read_csv(\"/deep/group/ed-monitor/patient_data_v9/consolidated.csv\")\n",
    "print(df.shape)\n",
    "print(sum(df[\"Case_for_train\"]))\n",
    "df.head(3)"
   ]
  },
  {
   "cell_type": "markdown",
   "id": "b5d2da89",
   "metadata": {},
   "source": [
    "## Post-Process Files (after running consolidate script)"
   ]
  },
  {
   "cell_type": "markdown",
   "id": "dab9ceaa",
   "metadata": {},
   "source": [
    "### Remove patients who do not have a corresponding waveform\n",
    "\n",
    "(e.g. lead II not available, waveform not available):"
   ]
  },
  {
   "cell_type": "code",
   "execution_count": 60,
   "id": "f5841581",
   "metadata": {},
   "outputs": [
    {
     "name": "stdout",
     "output_type": "stream",
     "text": [
      "(16902, 74)\n",
      "1552\n"
     ]
    }
   ],
   "source": [
    "df = df[df[\"notes\"].isnull()]\n",
    "print(df.shape)\n",
    "print(sum(df[\"Case_for_train\"]))"
   ]
  },
  {
   "cell_type": "markdown",
   "id": "1238e74e",
   "metadata": {},
   "source": [
    "### Add columns for time deltas"
   ]
  },
  {
   "cell_type": "code",
   "execution_count": 61,
   "id": "5b7b617b",
   "metadata": {},
   "outputs": [],
   "source": [
    "import datetime\n",
    "import pytz\n",
    "\n",
    "def arrival_time_diff(row):\n",
    "    first_trop_time = datetime.datetime.strptime(row[\"First_trop_result_time\"], \"%Y-%m-%dT%H:%M:%S%z\").replace(tzinfo=None)\n",
    "    # While the file lists this as UTC time, david_kim@ confirmed that this is actually Pacific time\n",
    "    first_trop_time = pytz.timezone('America/Vancouver').localize(first_trop_time)\n",
    "\n",
    "    arrival_time = datetime.datetime.strptime(row[\"Arrival_time\"], \"%Y-%m-%dT%H:%M:%S%z\").replace(tzinfo=None)\n",
    "    # While the file lists this as UTC time, david_kim@ confirmed that this is actually Pacific time\n",
    "    arrival_time = pytz.timezone('America/Vancouver').localize(arrival_time)\n",
    "    return (first_trop_time - arrival_time).total_seconds()\n",
    "\n",
    "def roomed_time_diff(row):\n",
    "    first_trop_time = datetime.datetime.strptime(row[\"First_trop_result_time\"], \"%Y-%m-%dT%H:%M:%S%z\").replace(tzinfo=None)\n",
    "    # While the file lists this as UTC time, david_kim@ confirmed that this is actually Pacific time\n",
    "    first_trop_time = pytz.timezone('America/Vancouver').localize(first_trop_time)\n",
    "\n",
    "    roomed_time = datetime.datetime.strptime(row[\"Roomed_time\"], \"%Y-%m-%dT%H:%M:%S%z\").replace(tzinfo=None)\n",
    "    # While the file lists this as UTC time, david_kim@ confirmed that this is actually Pacific time\n",
    "    roomed_time = pytz.timezone('America/Vancouver').localize(roomed_time)\n",
    "    return (first_trop_time - roomed_time).total_seconds()\n",
    "\n",
    "def waveform_start_time_diff(row):\n",
    "    first_trop_time = datetime.datetime.strptime(row[\"First_trop_result_time\"], \"%Y-%m-%dT%H:%M:%S%z\").replace(tzinfo=None)\n",
    "    # While the file lists this as UTC time, david_kim@ confirmed that this is actually Pacific time\n",
    "    first_trop_time = pytz.timezone('America/Vancouver').localize(first_trop_time)\n",
    "\n",
    "    roomed_time = datetime.datetime.strptime(row[\"waveform_start_time\"], \"%Y-%m-%d %H:%M:%S%z\").replace(tzinfo=None)\n",
    "    # While the file lists this as UTC time, david_kim@ confirmed that this is actually Pacific time\n",
    "    roomed_time = pytz.timezone('America/Vancouver').localize(roomed_time)\n",
    "    return (first_trop_time - roomed_time).total_seconds()\n",
    "\n"
   ]
  },
  {
   "cell_type": "code",
   "execution_count": 62,
   "id": "0ca8d22f",
   "metadata": {},
   "outputs": [],
   "source": [
    "df['First_trop_result_time-Arrival_time'] = df.apply(lambda row: arrival_time_diff(row), axis=1)\n",
    "df['First_trop_result_time-Roomed_time'] = df.apply(lambda row: roomed_time_diff(row), axis=1)\n",
    "df['First_trop_result_time-waveform_start_time'] = df.apply(lambda row: waveform_start_time_diff(row), axis=1)\n"
   ]
  },
  {
   "cell_type": "code",
   "execution_count": null,
   "id": "6101d50f",
   "metadata": {},
   "outputs": [],
   "source": [
    "df.head(3)"
   ]
  },
  {
   "cell_type": "code",
   "execution_count": 11,
   "id": "1055d9df",
   "metadata": {},
   "outputs": [
    {
     "data": {
      "text/plain": [
       "count     16902.000000\n",
       "mean       5630.220151\n",
       "std        4573.751968\n",
       "min     -154455.000000\n",
       "25%        4098.000000\n",
       "50%        5238.000000\n",
       "75%        6762.750000\n",
       "max       96480.000000\n",
       "Name: First_trop_result_time-waveform_start_time, dtype: float64"
      ]
     },
     "execution_count": 11,
     "metadata": {},
     "output_type": "execute_result"
    }
   ],
   "source": [
    "df['First_trop_result_time-waveform_start_time'].describe()"
   ]
  },
  {
   "cell_type": "markdown",
   "id": "768c3c90",
   "metadata": {},
   "source": [
    "### Remove patients whose result times occurred less than a minute after the waveforms\n",
    "\n",
    "This is to ensure we have sufficient sampling space later on when we sample before the trop result time"
   ]
  },
  {
   "cell_type": "code",
   "execution_count": 64,
   "id": "e44f86aa",
   "metadata": {},
   "outputs": [
    {
     "name": "stdout",
     "output_type": "stream",
     "text": [
      "(16157, 77)\n",
      "1512\n"
     ]
    }
   ],
   "source": [
    "df = df[df['First_trop_result_time-waveform_start_time'] >= 60]\n",
    "print(df.shape)\n",
    "print(sum(df[\"Case_for_train\"]))"
   ]
  },
  {
   "cell_type": "code",
   "execution_count": 65,
   "id": "852bccdc",
   "metadata": {},
   "outputs": [
    {
     "name": "stdout",
     "output_type": "stream",
     "text": [
      "(15884, 77)\n",
      "1482\n"
     ]
    }
   ],
   "source": [
    "df = df[df['First_trop_result_time-waveform_start_time'] >= (df[\"recommended_trim_start_sec\"] + 60)]\n",
    "print(df.shape)\n",
    "print(sum(df[\"Case_for_train\"]))"
   ]
  },
  {
   "cell_type": "markdown",
   "id": "0ebb8b68",
   "metadata": {},
   "source": [
    "### Remove patients whose waveforms are empty or with data < 15 sec\n",
    "\n",
    "This was pre-calculated based on the recommended trim start/end"
   ]
  },
  {
   "cell_type": "code",
   "execution_count": 66,
   "id": "0144dc66",
   "metadata": {},
   "outputs": [],
   "source": [
    "df[\"trim_length\"] = df[\"recommended_trim_end_sec\"] - df[\"recommended_trim_start_sec\"]"
   ]
  },
  {
   "cell_type": "code",
   "execution_count": 67,
   "id": "69b385b6",
   "metadata": {
    "scrolled": true
   },
   "outputs": [
    {
     "name": "stdout",
     "output_type": "stream",
     "text": [
      "(13752, 78)\n",
      "1392\n"
     ]
    }
   ],
   "source": [
    "df = df[df[\"trim_length\"] >= 15]\n",
    "print(df.shape)\n",
    "print(sum(df[\"Case_for_train\"]))"
   ]
  },
  {
   "cell_type": "markdown",
   "id": "7ab79c78",
   "metadata": {},
   "source": [
    "### Save filtered file "
   ]
  },
  {
   "cell_type": "code",
   "execution_count": 30,
   "id": "5e3e834b",
   "metadata": {},
   "outputs": [],
   "source": [
    "df_pt.to_csv(\"/deep/group/ed-monitor/patient_data_v9/consolidated.filtered.csv\", sep=\",\", index=False)"
   ]
  },
  {
   "cell_type": "code",
   "execution_count": 31,
   "id": "ea8170e8",
   "metadata": {},
   "outputs": [
    {
     "name": "stdout",
     "output_type": "stream",
     "text": [
      "(10874, 78)\n"
     ]
    }
   ],
   "source": [
    "df = pd.read_csv(\"/deep/group/ed-monitor/patient_data_v9/consolidated.filtered.csv\")\n",
    "print(df.shape)\n",
    "\n",
    "# Because several downstream tools require this\n",
    "df[\"outcome\"] = df[\"Case_for_train\"]\n",
    "df.to_csv(\"/deep/group/ed-monitor/patient_data_v9/consolidated.filtered.csv\", sep=\",\", index=False)"
   ]
  },
  {
   "cell_type": "code",
   "execution_count": 78,
   "id": "8b092427",
   "metadata": {},
   "outputs": [
    {
     "name": "stdout",
     "output_type": "stream",
     "text": [
      "(10874, 79)\n",
      "1057\n"
     ]
    }
   ],
   "source": [
    "df = pd.read_csv(\"/deep/group/ed-monitor/patient_data_v9/consolidated.filtered.csv\")\n",
    "print(df.shape)\n",
    "print(sum(df[\"Case_for_train\"]))"
   ]
  },
  {
   "cell_type": "markdown",
   "id": "cd4dcda7",
   "metadata": {},
   "source": [
    "## Train/Val/Test Split Files"
   ]
  },
  {
   "cell_type": "code",
   "execution_count": null,
   "id": "67a47e00",
   "metadata": {},
   "outputs": [],
   "source": [
    "# Import the previous version of the file, which we gave to clinicians to do manual annotation\n",
    "# We have to make sure our new test file is a superset of this clinician file.\n",
    "# Note that the samples given to clinicians were also randomly sampled in the previous iteration of this analysis.\n",
    "#\n",
    "df_clinician = pd.read_csv(\"/deep/group/ed-monitor/experiments-v8/prna-128-15/fold_8/outfiles/test.csv\")\n",
    "matched_file=\"/deep/u/tomjin/aihc-win21-ed-monitor/scripts/v8/cohort_matched_output_v8.csv\"\n",
    "df_matched = pd.read_csv(matched_file, delimiter=\",\")[[\"CSN\", \"CaseID\", \"Age\", \"Gender\", \"SpO2\", \"SBP\", \"DBP\", \"RR\", \"HR\", \"Temp\"]]\n",
    "df_clinician = pd.merge(df_clinician, df_matched, how=\"left\", left_on=\"patient_id\", right_on=\"CaseID\")\n",
    "\n",
    "print(df_clinician.shape)\n",
    "df_clinician.head(3)"
   ]
  },
  {
   "cell_type": "code",
   "execution_count": 3,
   "id": "b1c8db04",
   "metadata": {},
   "outputs": [
    {
     "name": "stdout",
     "output_type": "stream",
     "text": [
      "200\n"
     ]
    }
   ],
   "source": [
    "clinician_csns = set(df_clinician[\"CSN\"].tolist())\n",
    "print(len(clinician_csns))"
   ]
  },
  {
   "cell_type": "code",
   "execution_count": null,
   "id": "41ae3f1f",
   "metadata": {},
   "outputs": [],
   "source": [
    "df = pd.read_csv(\"/deep/group/ed-monitor/patient_data_v9/consolidated.filtered.csv\")\n",
    "print(df.shape)\n",
    "print(f\"Number of patients with myocardial injury = {sum(df['Case_for_train'])}\")\n",
    "df.head(3)\n"
   ]
  },
  {
   "cell_type": "code",
   "execution_count": null,
   "id": "80da794a",
   "metadata": {},
   "outputs": [],
   "source": [
    "df_cp = df[~df[\"Case_for_test\"].isna()]\n",
    "print(df_cp.shape)\n",
    "print(f\"Number of patients with myocardial injury = {sum(df_cp['Case_for_train'])} ({100 * sum(df_cp['Case_for_train']) / df_cp.shape[0]}%)\")\n",
    "df_cp.head(3)\n"
   ]
  },
  {
   "cell_type": "code",
   "execution_count": null,
   "id": "2d6012ec",
   "metadata": {},
   "outputs": [],
   "source": [
    "df_no_cp = df[df[\"Case_for_test\"].isna()]\n",
    "print(df_no_cp.shape)\n",
    "print(f\"Number of patients with myocardial injury = {sum(df_no_cp['Case_for_train'])} ({100 * sum(df_no_cp['Case_for_train']) / df_no_cp.shape[0]}%)\")\n",
    "df_no_cp.head(3)\n"
   ]
  },
  {
   "cell_type": "code",
   "execution_count": 7,
   "id": "58f10738",
   "metadata": {},
   "outputs": [
    {
     "name": "stdout",
     "output_type": "stream",
     "text": [
      "4131\n",
      "Expected number of patients to sample: 150 myocardial injury and 1206 control\n"
     ]
    }
   ],
   "source": [
    "cp_csns = set(df_cp[\"patient_id\"].tolist())\n",
    "print(len(cp_csns))\n",
    "print(f\"Expected number of patients to sample: 150 myocardial injury and {round(150 / 0.11063 - 150)} control\")"
   ]
  },
  {
   "cell_type": "code",
   "execution_count": 8,
   "id": "311cc2d0",
   "metadata": {},
   "outputs": [
    {
     "name": "stdout",
     "output_type": "stream",
     "text": [
      "200\n"
     ]
    }
   ],
   "source": [
    "clinician_csns = clinician_csns.intersection(cp_csns)\n",
    "print(len(clinician_csns))"
   ]
  },
  {
   "cell_type": "code",
   "execution_count": 9,
   "id": "57b318d7",
   "metadata": {},
   "outputs": [
    {
     "name": "stdout",
     "output_type": "stream",
     "text": [
      "(200, 79)\n",
      "Positive = 100\n",
      "Neg = 100\n"
     ]
    }
   ],
   "source": [
    "df_cp_clinician = df_cp[df_cp[\"patient_id\"].isin(clinician_csns)]\n",
    "print(df_cp_clinician.shape)\n",
    "num_cp_clinician_pos = df_cp_clinician[df_cp_clinician['outcome'] == 1].shape[0]\n",
    "num_cp_clinician_neg = df_cp_clinician[df_cp_clinician['outcome'] == 0].shape[0]\n",
    "print(f\"Positive = {num_cp_clinician_pos}\")\n",
    "print(f\"Neg = {num_cp_clinician_neg}\")"
   ]
  },
  {
   "cell_type": "code",
   "execution_count": 10,
   "id": "91ad5e71",
   "metadata": {},
   "outputs": [
    {
     "name": "stdout",
     "output_type": "stream",
     "text": [
      "(3931, 79)\n",
      "Positive = (359, 79)\n"
     ]
    }
   ],
   "source": [
    "df_cp_nonclinician = df_cp[~df_cp[\"patient_id\"].isin(clinician_csns)]\n",
    "print(df_cp_nonclinician.shape)\n",
    "print(f\"Positive = {df_cp_nonclinician[df_cp_nonclinician['outcome'] == 1].shape}\")"
   ]
  },
  {
   "cell_type": "code",
   "execution_count": 11,
   "id": "55f2208c",
   "metadata": {},
   "outputs": [
    {
     "name": "stdout",
     "output_type": "stream",
     "text": [
      "(3931, 79)\n",
      "Positive = (359, 79)\n",
      "Negative = (3572, 79)\n"
     ]
    }
   ],
   "source": [
    "df_cp_nonclinician = df_cp[~df_cp[\"patient_id\"].isin(clinician_csns)]\n",
    "print(df_cp_nonclinician.shape)\n",
    "\n",
    "df_cp_nonclinician_pos = df_cp_nonclinician[df_cp_nonclinician[\"outcome\"] == 1]\n",
    "df_cp_nonclinician_neg = df_cp_nonclinician[df_cp_nonclinician[\"outcome\"] == 0]\n",
    "\n",
    "print(f\"Positive = {df_cp_nonclinician_pos.shape}\")\n",
    "print(f\"Negative = {df_cp_nonclinician_neg.shape}\")"
   ]
  },
  {
   "cell_type": "code",
   "execution_count": 44,
   "id": "2e46a6ec",
   "metadata": {},
   "outputs": [],
   "source": [
    "RANDOM_STATE = 1234"
   ]
  },
  {
   "cell_type": "code",
   "execution_count": 45,
   "id": "e0c60bcc",
   "metadata": {},
   "outputs": [
    {
     "name": "stdout",
     "output_type": "stream",
     "text": [
      "df_cp_nonclinician_pos_train shape = (309, 79)\n",
      "df_cp_nonclinician_pos_test shape = (50, 79)\n",
      "df_cp_nonclinician_neg_train shape = (2466, 79)\n",
      "df_cp_nonclinician_neg_test shape = (1106, 79)\n"
     ]
    }
   ],
   "source": [
    "# We need to take (150 - 100 = 50) from the [+] CP nonclinician, (1206 - 100 = 1106) from the [-] CP nonclinician\n",
    "# to meet our target for the test set.\n",
    "df_cp_nonclinician_pos_train, df_cp_nonclinician_pos_test = train_test_split(df_cp_nonclinician_pos, \n",
    "                                                                             test_size=50, \n",
    "                                                                             random_state=RANDOM_STATE)\n",
    "print(f\"df_cp_nonclinician_pos_train shape = {df_cp_nonclinician_pos_train.shape}\")\n",
    "print(f\"df_cp_nonclinician_pos_test shape = {df_cp_nonclinician_pos_test.shape}\")\n",
    "df_cp_nonclinician_neg_train, df_cp_nonclinician_neg_test = train_test_split(df_cp_nonclinician_neg, \n",
    "                                                                             test_size=1106, \n",
    "                                                                             random_state=RANDOM_STATE)\n",
    "print(f\"df_cp_nonclinician_neg_train shape = {df_cp_nonclinician_neg_train.shape}\")\n",
    "print(f\"df_cp_nonclinician_neg_test shape = {df_cp_nonclinician_neg_test.shape}\")\n"
   ]
  },
  {
   "cell_type": "code",
   "execution_count": 46,
   "id": "30105ea2",
   "metadata": {},
   "outputs": [
    {
     "name": "stdout",
     "output_type": "stream",
     "text": [
      "df_test shape = (1356, 79)\n",
      "df_test pos = (150, 79)\n",
      "df_test neg = (1206, 79)\n"
     ]
    }
   ],
   "source": [
    "df_test = pd.concat([df_cp_nonclinician_pos_test, df_cp_nonclinician_neg_test, df_cp_clinician]).sample(frac=1, random_state=RANDOM_STATE).reset_index(drop=True)\n",
    "print(f\"df_test shape = {df_test.shape}\")\n",
    "print(f\"df_test pos = {df_test[df_test['outcome'] == 1].shape}\")\n",
    "print(f\"df_test neg = {df_test[df_test['outcome'] == 0].shape}\")"
   ]
  },
  {
   "cell_type": "code",
   "execution_count": 47,
   "id": "227b6a1e",
   "metadata": {},
   "outputs": [
    {
     "name": "stdout",
     "output_type": "stream",
     "text": [
      "df_cp_remaining shape = (2775, 79)\n",
      "df_cp_remaining pos = (309, 79)\n",
      "df_cp_remaining neg = (2466, 79)\n"
     ]
    }
   ],
   "source": [
    "df_cp_remaining = pd.concat([df_cp_nonclinician_pos_train, df_cp_nonclinician_neg_train]).sample(frac=1, random_state=RANDOM_STATE).reset_index(drop=True)\n",
    "print(f\"df_cp_remaining shape = {df_cp_remaining.shape}\")\n",
    "print(f\"df_cp_remaining pos = {df_cp_remaining[df_cp_remaining['outcome'] == 1].shape}\")\n",
    "print(f\"df_cp_remaining neg = {df_cp_remaining[df_cp_remaining['outcome'] == 0].shape}\")"
   ]
  },
  {
   "cell_type": "code",
   "execution_count": 48,
   "id": "8d8f6bce",
   "metadata": {},
   "outputs": [
    {
     "name": "stdout",
     "output_type": "stream",
     "text": [
      "df_cp_nonclinician_pos_train shape = (159, 79)\n",
      "df_cp_nonclinician_pos_val shape = (150, 79)\n",
      "df_cp_nonclinician_neg_train shape = (1260, 79)\n",
      "df_cp_nonclinician_neg_val shape = (1206, 79)\n",
      "df_val shape = (1356, 79)\n",
      "df_val pos = (150, 79)\n",
      "df_val neg = (1206, 79)\n",
      "df_cp_remaining shape = (1419, 79)\n",
      "df_cp_remaining pos = (159, 79)\n",
      "df_cp_remaining neg = (1260, 79)\n"
     ]
    }
   ],
   "source": [
    "# Create the val set from the remaining CP patients\n",
    "\n",
    "df_cp_nonclinician_pos_train, df_cp_nonclinician_pos_val = train_test_split(df_cp_nonclinician_pos_train, \n",
    "                                                                            test_size=150, \n",
    "                                                                            random_state=RANDOM_STATE)\n",
    "print(f\"df_cp_nonclinician_pos_train shape = {df_cp_nonclinician_pos_train.shape}\")\n",
    "print(f\"df_cp_nonclinician_pos_val shape = {df_cp_nonclinician_pos_val.shape}\")\n",
    "df_cp_nonclinician_neg_train, df_cp_nonclinician_neg_val = train_test_split(df_cp_nonclinician_neg_train, \n",
    "                                                                            test_size=1206, \n",
    "                                                                            random_state=RANDOM_STATE)\n",
    "print(f\"df_cp_nonclinician_neg_train shape = {df_cp_nonclinician_neg_train.shape}\")\n",
    "print(f\"df_cp_nonclinician_neg_val shape = {df_cp_nonclinician_neg_val.shape}\")\n",
    "\n",
    "df_val = pd.concat([df_cp_nonclinician_pos_val, df_cp_nonclinician_neg_val]).sample(frac=1, random_state=RANDOM_STATE).reset_index(drop=True)\n",
    "print(f\"df_val shape = {df_val.shape}\")\n",
    "print(f\"df_val pos = {df_val[df_val['outcome'] == 1].shape}\")\n",
    "print(f\"df_val neg = {df_val[df_val['outcome'] == 0].shape}\")\n",
    "\n",
    "df_cp_remaining = pd.concat([df_cp_nonclinician_pos_train, df_cp_nonclinician_neg_train]).sample(frac=1, random_state=RANDOM_STATE).reset_index(drop=True)\n",
    "print(f\"df_cp_remaining shape = {df_cp_remaining.shape}\")\n",
    "print(f\"df_cp_remaining pos = {df_cp_remaining[df_cp_remaining['outcome'] == 1].shape}\")\n",
    "print(f\"df_cp_remaining neg = {df_cp_remaining[df_cp_remaining['outcome'] == 0].shape}\")\n"
   ]
  },
  {
   "cell_type": "code",
   "execution_count": 49,
   "id": "ade39da2",
   "metadata": {},
   "outputs": [
    {
     "name": "stdout",
     "output_type": "stream",
     "text": [
      "df_train shape = (8162, 79)\n",
      "df_train pos = (757, 79)\n",
      "df_train neg = (7405, 79)\n"
     ]
    }
   ],
   "source": [
    "df_train = pd.concat([df_cp_remaining, df_no_cp]).sample(frac=1, random_state=RANDOM_STATE).reset_index(drop=True)\n",
    "print(f\"df_train shape = {df_train.shape}\")\n",
    "print(f\"df_train pos = {df_train[df_train['outcome'] == 1].shape}\")\n",
    "print(f\"df_train neg = {df_train[df_train['outcome'] == 0].shape}\")"
   ]
  },
  {
   "cell_type": "code",
   "execution_count": 50,
   "id": "cd2cbfa4",
   "metadata": {},
   "outputs": [],
   "source": [
    "df_train.to_csv(\"/deep/group/ed-monitor/patient_data_v9/consolidated.filtered.train.txt\", sep=\"\\t\", index=False)\n",
    "df_val.to_csv(\"/deep/group/ed-monitor/patient_data_v9/consolidated.filtered.val.txt\", sep=\"\\t\", index=False)\n",
    "df_test.to_csv(\"/deep/group/ed-monitor/patient_data_v9/consolidated.filtered.test.txt\", sep=\"\\t\", index=False)"
   ]
  },
  {
   "cell_type": "code",
   "execution_count": 51,
   "id": "7b637e84",
   "metadata": {},
   "outputs": [
    {
     "name": "stdout",
     "output_type": "stream",
     "text": [
      "Train = 8162\n",
      "Val = 1356\n",
      "Test = 1356\n",
      "Good\n"
     ]
    }
   ],
   "source": [
    "# Make sure we have no overlaps\n",
    "print(f\"Train = {len(set(df_train['CSN'].tolist()))}\")\n",
    "print(f\"Val = {len(set(df_val['CSN'].tolist()))}\")\n",
    "print(f\"Test = {len(set(df_test['CSN'].tolist()))}\")\n",
    "\n",
    "assert df.shape[0] == len(set(df_train[\"CSN\"].tolist()) | set(df_val[\"CSN\"].tolist()) | set(df_test[\"CSN\"].tolist()))\n",
    "print(\"Good\")"
   ]
  },
  {
   "cell_type": "code",
   "execution_count": null,
   "id": "36fb10ae",
   "metadata": {},
   "outputs": [],
   "source": []
  },
  {
   "cell_type": "code",
   "execution_count": null,
   "id": "cf7c64df",
   "metadata": {},
   "outputs": [],
   "source": []
  },
  {
   "cell_type": "markdown",
   "id": "c438d439",
   "metadata": {},
   "source": [
    "## Create Waveform Files (this time with quality checks)"
   ]
  },
  {
   "cell_type": "markdown",
   "id": "f7cc0726",
   "metadata": {},
   "source": [
    "\n",
    "\n",
    "```\n",
    "python -u /deep/u/tomjin/ed-monitor-data/processing/prepare_ed_waveforms.py -i /deep/group/ed-monitor/patient_data_v9/consolidated.filtered.csv -d /deep/group/ed-monitor/patient_data_v9/patient-data -o /deep/group/ed-monitor/patient_data_v9/waveforms -l 15 -f 500 -n -w II -m 1 -b First_trop_result_time-waveform_start_time\n",
    "```\n",
    "\n",
    "```\n",
    "python -u /deep/u/tomjin/ed-monitor-data/processing/prepare_ed_waveforms.py -i /deep/group/ed-monitor/patient_data_v9/consolidated.filtered.csv -d /deep/group/ed-monitor/patient_data_v9/patient-data -o /deep/group/ed-monitor/patient_data_v9/waveforms -l 15 -f 500 -n -w II -m 10 -b First_trop_result_time-waveform_start_time\n",
    "```\n",
    "\n",
    "```\n",
    "python -u /deep/u/tomjin/ed-monitor-data/processing/prepare_ed_waveforms.py -i /deep/group/ed-monitor/patient_data_v9/consolidated.filtered.csv -d /deep/group/ed-monitor/patient_data_v9/patient-data -o /deep/group/ed-monitor/patient_data_v9/waveforms -l 10 -f 500 -n -w II -m 10 -b First_trop_result_time-waveform_start_time\n",
    "```\n",
    "\n",
    "```\n",
    "python -u /deep/u/tomjin/ed-monitor-data/processing/prepare_ed_waveforms.py -i /deep/group/ed-monitor/patient_data_v9/consolidated.filtered.csv -d /deep/group/ed-monitor/patient_data_v9/patient-data -o /deep/group/ed-monitor/patient_data_v9/waveforms -l 30 -f 500 -n -w II -m 10 -b First_trop_result_time-waveform_start_time\n",
    "```\n",
    "\n",
    "```\n",
    "python -u /deep/u/tomjin/ed-monitor-data/processing/prepare_ed_waveforms.py -i /deep/group/ed-monitor/patient_data_v9/consolidated.filtered.csv -d /deep/group/ed-monitor/patient_data_v9/patient-data -o /deep/group/ed-monitor/patient_data_v9/waveforms -l 45 -f 500 -n -w II -m 10 -b First_trop_result_time-waveform_start_time\n",
    "```\n",
    "\n",
    "```\n",
    "python -u /deep/u/tomjin/ed-monitor-data/processing/prepare_ed_waveforms.py -i /deep/group/ed-monitor/patient_data_v9/consolidated.filtered.csv -d /deep/group/ed-monitor/patient_data_v9/patient-data -o /deep/group/ed-monitor/patient_data_v9/waveforms -l 10 -f 250 -w II -m 1 -b First_trop_result_time-waveform_start_time\n",
    "```\n",
    "\n",
    "```\n",
    "python -u /deep/u/tomjin/ed-monitor-data/processing/prepare_ed_waveforms.py -i /deep/group/ed-monitor/patient_data_v9/consolidated.filtered.csv -d /deep/group/ed-monitor/patient_data_v9/patient-data -o /deep/group/ed-monitor/patient_data_v9/waveforms -l 10 -f 250 -w II -m 10 -b First_trop_result_time-waveform_start_time\n",
    "```\n"
   ]
  },
  {
   "cell_type": "markdown",
   "id": "0a9a92a1",
   "metadata": {},
   "source": []
  },
  {
   "cell_type": "markdown",
   "id": "789c25bd",
   "metadata": {},
   "source": []
  },
  {
   "cell_type": "code",
   "execution_count": null,
   "id": "d5306e50",
   "metadata": {},
   "outputs": [],
   "source": []
  },
  {
   "cell_type": "code",
   "execution_count": null,
   "id": "88d50fa1",
   "metadata": {},
   "outputs": [],
   "source": []
  },
  {
   "cell_type": "markdown",
   "id": "ffaef671",
   "metadata": {},
   "source": [
    "## Apply Embeddings"
   ]
  },
  {
   "cell_type": "code",
   "execution_count": null,
   "id": "85d426f3",
   "metadata": {},
   "outputs": [],
   "source": []
  },
  {
   "cell_type": "markdown",
   "id": "60610eb1",
   "metadata": {},
   "source": [
    "```\n",
    "python -u /deep/u/tomjin/ed-monitor-data/processing/apply_pretrained_transformer.py -i /deep/group/ed-monitor/patient_data_v9/waveforms/15sec-500hz-1norm-1wpp/II -m /deep/u/tomjin/aihc-aut20-selfecg/prna/outputs-wide-64-15sec-bs64/saved_models/ctn/fold_1/ctn.tar\n",
    "```"
   ]
  },
  {
   "cell_type": "markdown",
   "id": "59a3e35d",
   "metadata": {},
   "source": [
    "```\n",
    "python -u /deep/u/tomjin/ed-monitor-data/processing/apply_pretrained_transformer.py -i /deep/group/ed-monitor/patient_data_v9/waveforms/15sec-500hz-1norm-10wpp/II -m /deep/u/tomjin/aihc-aut20-selfecg/prna/outputs-wide-64-15sec-bs64/saved_models/ctn/fold_1/ctn.tar\n",
    "```\n",
    "\n",
    "```\n",
    "python -u /deep/u/tomjin/ed-monitor-data/processing/apply_pretrained_transformer.py -i /deep/group/ed-monitor/patient_data_v9/waveforms/10sec-500hz-1norm-10wpp/II -m /deep/u/tomjin/aihc-aut20-selfecg/prna/outputs-wide-64-10sec-bs64/saved_models/ctn/fold_1/ctn.tar\n",
    "```\n",
    "\n",
    "```\n",
    "python -u /deep/u/tomjin/ed-monitor-data/processing/apply_pretrained_transformer.py -i /deep/group/ed-monitor/patient_data_v9/waveforms/30sec-500hz-1norm-10wpp/II -m /deep/u/tomjin/aihc-aut20-selfecg/prna/outputs-wide-64-30sec-bs64/saved_models/ctn/fold_1/ctn.tar\n",
    "```\n",
    "\n",
    "\n",
    "```\n",
    "python -u /deep/u/tomjin/ed-monitor-data/processing/apply_pretrained_transformer.py -i /deep/group/ed-monitor/patient_data_v9/waveforms/45sec-500hz-1norm-10wpp/II -m /deep/u/tomjin/aihc-aut20-selfecg/prna/outputs-wide-64-45sec-bs64/saved_models/ctn/fold_1/ctn.tar\n",
    "```"
   ]
  },
  {
   "cell_type": "markdown",
   "id": "db94c627",
   "metadata": {},
   "source": [
    "```\n",
    "python -u /deep/u/tomjin/ed-monitor-data/processing/apply_pretrained_transformer.py -i /deep/group/ed-monitor/patient_data_v9/waveforms/15sec-500hz-1norm-10wpp/II -m /deep/u/tomjin/aihc-aut20-selfecg/prna/outputs-wide-32-15sec-bs64/saved_models/ctn/fold_1/ctn.tar -d 32\n",
    "```\n",
    "\n",
    "```\n",
    "python -u /deep/u/tomjin/ed-monitor-data/processing/apply_pretrained_transformer.py -i /deep/group/ed-monitor/patient_data_v9/waveforms/15sec-500hz-1norm-10wpp/II -m /deep/u/tomjin/aihc-aut20-selfecg/prna/outputs-wide-128-15sec-bs64/saved_models/ctn/fold_1/ctn.tar -d 128\n",
    "```"
   ]
  },
  {
   "cell_type": "markdown",
   "id": "ef8935cb",
   "metadata": {},
   "source": [
    "```\n",
    "python -u /deep/u/tomjin/ed-monitor-data/processing/apply_pretrained_transformer.py -i /deep/group/ed-monitor/patient_data_v9/waveforms/15sec-500hz-1norm-10wpp/II -m /deep/u/tomjin/aihc-aut20-selfecg/prna/outputs-wide-256-15sec-bs64/saved_models/ctn/fold_1/ctn.tar -d 256\n",
    "```"
   ]
  },
  {
   "cell_type": "markdown",
   "id": "1b8e056d",
   "metadata": {},
   "source": [
    "```\n",
    "python -u /deep/u/tomjin/ed-monitor-data/processing/apply_pretrained_transformer.py -i /deep/group/ed-monitor/patient_data_v9/waveforms/15sec-500hz-1norm-10wpp/II -m /deep/u/tomjin/aihc-aut20-selfecg/prna/outputs-wide-512-15sec-bs64/saved_models/ctn/fold_1/ctn.tar -d 512\n",
    "```"
   ]
  },
  {
   "cell_type": "markdown",
   "id": "0984492b",
   "metadata": {},
   "source": [
    "```\n",
    "python -u /deep/u/tomjin/ed-monitor-data/processing/apply_pretrained_pclr.py -i /deep/group/ed-monitor/patient_data_v9/waveforms/10sec-250hz-0norm-1wpp/II -m /deep/group/pulmonary-embolism/v2/pretrained-models/pclr/PCLR_lead_II.h5\n",
    "```"
   ]
  },
  {
   "cell_type": "markdown",
   "id": "c6ebe926",
   "metadata": {},
   "source": [
    "```\n",
    "python -u /deep/u/tomjin/ed-monitor-data/processing/apply_pretrained_pclr.py -i /deep/group/ed-monitor/patient_data_v9/waveforms/10sec-250hz-0norm-10wpp/II -m /deep/group/pulmonary-embolism/v2/pretrained-models/pclr/PCLR_lead_II.h5\n",
    "```"
   ]
  },
  {
   "cell_type": "markdown",
   "id": "3961e4de",
   "metadata": {},
   "source": [
    "```\n",
    "python -u /deep/u/tomjin/ed-monitor-data/processing/apply_pretrained_simclr.py -i /deep/group/ed-monitor/patient_data_v9/waveforms/10sec-250hz-0norm-1wpp/II -m /deep/group/ed-monitor/models/simclr/simclr-II-322.ckpt -f /deep/group/mimic3wdb-matched/files/10sec-250hz-1wpp/II/waveforms.pt\n",
    "```"
   ]
  },
  {
   "cell_type": "markdown",
   "id": "08932f59",
   "metadata": {},
   "source": [
    "```\n",
    "python -u /deep/u/tomjin/ed-monitor-data/processing/apply_pretrained_simclr.py -i /deep/group/ed-monitor/patient_data_v9/waveforms/10sec-250hz-0norm-10wpp/II -m /deep/group/pulmonary-embolism/v2/pretrained-models/simclr/ii-dim322.ckpt -f /deep/group/mimic3wdb-matched/files/10sec-250hz-1wpp/II/waveforms.pt\n",
    "```"
   ]
  },
  {
   "cell_type": "markdown",
   "id": "d21d061d",
   "metadata": {},
   "source": [
    "```\n",
    "python -u /deep/u/tomjin/ed-monitor-data/processing/apply_pretrained_simclr.py -i /deep/group/ed-monitor/patient_data_v9/waveforms/20sec-125hz-0norm-1wpp/Pleth -m /deep/group/ed-monitor/models/simclr/simclr-pleth-322.ckpt -f /deep/group/mimic3wdb-matched/files/20sec-125hz-1wpp/PLETH/waveforms.pt\n",
    "```"
   ]
  },
  {
   "cell_type": "markdown",
   "id": "0817826e",
   "metadata": {},
   "source": [
    "```\n",
    "python -u /deep/u/tomjin/ed-monitor-data/processing/apply_pretrained_simclr.py -i /deep/group/ed-monitor/patient_data_v9/waveforms/20sec-125hz-0norm-10wpp/Pleth -m /deep/group/ed-monitor/models/simclr/simclr-pleth-322.ckpt -f /deep/group/mimic3wdb-matched/files/20sec-125hz-1wpp/PLETH/waveforms.pt\n",
    "```"
   ]
  },
  {
   "cell_type": "markdown",
   "id": "f46be87c",
   "metadata": {},
   "source": [
    "```\n",
    "python -u /deep/u/tomjin/ed-monitor-data/processing/apply_pretrained_simclr.py -i /deep/group/ed-monitor/patient_data_v9/waveforms/40sec-62hz-0norm-10wpp/Resp -m /deep/group/ed-monitor/models/simclr/simclr-resp-322.ckpt -f /deep/group/mimic3wdb-matched/files/40sec-62hz-1wpp/RESP/waveforms.pt\n",
    "```"
   ]
  },
  {
   "cell_type": "markdown",
   "id": "c878f6cc",
   "metadata": {},
   "source": [
    "```\n",
    "python -u /deep/u/tomjin/ed-monitor-data/processing/apply_pretrained_simclr.py -i /deep/group/ed-monitor/patient_data_v9/waveforms/40sec-62hz-0norm-1wpp/Resp -m /deep/group/ed-monitor/models/simclr/simclr-resp-322.ckpt -f /deep/group/mimic3wdb-matched/files/40sec-62hz-1wpp/RESP/waveforms.pt\n",
    "```"
   ]
  },
  {
   "cell_type": "markdown",
   "id": "334d49c0",
   "metadata": {},
   "source": []
  },
  {
   "cell_type": "code",
   "execution_count": null,
   "id": "26b12e6a",
   "metadata": {},
   "outputs": [],
   "source": []
  }
 ],
 "metadata": {
  "kernelspec": {
   "display_name": "Python 3",
   "language": "python",
   "name": "python3"
  },
  "language_info": {
   "codemirror_mode": {
    "name": "ipython",
    "version": 3
   },
   "file_extension": ".py",
   "mimetype": "text/x-python",
   "name": "python",
   "nbconvert_exporter": "python",
   "pygments_lexer": "ipython3",
   "version": "3.7.10"
  }
 },
 "nbformat": 4,
 "nbformat_minor": 5
}
